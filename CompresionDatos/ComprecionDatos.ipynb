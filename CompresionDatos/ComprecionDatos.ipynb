{
 "cells": [
  {
   "cell_type": "code",
   "execution_count": 41,
   "metadata": {},
   "outputs": [],
   "source": [
    "import pandas as pd\n",
    "from scipy import stats # importando scipy.stats\n",
    "from pandas import ExcelWriter\n",
    "from pandas import ExcelFile\n",
    "\n",
    "Ruta=\"/Users/cristianchaparro/Documents/curso_data_science/Tesis/\"\n",
    "\n",
    "#Revision de los datos de la estacion la flora 2010-2017.\n",
    "\n",
    "flora2010 = pd.read_excel(Ruta+'Originales/1.LAFLORA.xls',sheet_name='2010 (ug-m3)', header=0)\n",
    "#flora2011 = pd.read_excel('1. LA FLORA.xls',sheet_name='2011 (ug-m3)', header=0)\n",
    "#flora2012 = pd.read_excel('1. LA FLORA.xls',sheet_name='2012 (ug-m3)', header=0)\n",
    "#flora2013 = pd.read_excel('1. LA FLORA.xls',sheet_name='2013 (ug-m3)', header=0)\n",
    "#flora2014 = pd.read_excel('1. LA FLORA.xls',sheet_name='2014 (ug-m3)', header=0)\n",
    "#flora2015 = pd.read_excel('1. LA FLORA.xls',sheet_name='2015 (ug-m3)', header=0)\n",
    "\n",
    "flora2010=flora2010.rename(columns={\n",
    "  \"Fecha & Hora\":\"Fecha\",\n",
    "    \"H2S (ug/m3)\":\"H2S\",\n",
    "  \"PM10 (ug/m3)\":\"PM10\",\n",
    "    \"SO2  (ug/m3)\":\"SO2\",\n",
    "    \"NO2  (ug/m3)\":\"NO2\",\n",
    "    \"CO  (ug/m3)\":\"CO\",\n",
    "    \"O3  (ug/m3)\":\"O3\",\n",
    "    \"Vel Viento  (m/s)\":\"VelVien\",\n",
    "    \"Dir Viento (Grados)\":\"DirVien\",\n",
    "    \"Temperatura (C°)\":\"Temp\", \n",
    "    \"Humedad (%)\":\"Humedad\",\n",
    "    \"Radiacion Solar (Watt/M2)\":\"RSolar\", \n",
    "    \"Lluvia (mm)\":\"Lluvia\" \n",
    "})\n",
    "\n",
    "n_records=len(flora2010)"
   ]
  },
  {
   "cell_type": "code",
   "execution_count": 38,
   "metadata": {},
   "outputs": [
    {
     "data": {
      "text/plain": [
       "PM10 (ug/m3)                   29.029156\n",
       "SO2  (ug/m3)                   13.966010\n",
       "NO2  (ug/m3)                   24.968615\n",
       "CO  (ug/m3)                  1424.140242\n",
       "O3  (ug/m3)                    22.334945\n",
       "Vel Viento  (m/s)               1.757199\n",
       "Dir Viento (Grados)           161.216172\n",
       "Temperatura (C°)               24.993572\n",
       "Humedad (%)                    75.981446\n",
       "Radiacion Solar (Watt/M2)     156.123836\n",
       "Lluvia (mm)                     1.422973\n",
       "dtype: float64"
      ]
     },
     "execution_count": 38,
     "metadata": {},
     "output_type": "execute_result"
    }
   ],
   "source": [
    "flora2010.mean(axis=0) # media aritmetica de cada columna"
   ]
  },
  {
   "cell_type": "code",
   "execution_count": 40,
   "metadata": {},
   "outputs": [
    {
     "data": {
      "text/plain": [
       "10.400000     17\n",
       "8.800000      17\n",
       "18.200000     16\n",
       "19.000000     16\n",
       "11.300000     16\n",
       "4.100000      16\n",
       "11.600000     16\n",
       "3.300000      16\n",
       "18.000000     16\n",
       "27.800000     16\n",
       "10.900000     16\n",
       "19.500000     16\n",
       "7.300000      16\n",
       "12.800000     16\n",
       "19.600000     15\n",
       "24.200000     15\n",
       "21.000000     15\n",
       "4.500000      15\n",
       "12.000000     15\n",
       "7.000000      15\n",
       "6.800000      14\n",
       "3.800000      14\n",
       "7.100000      14\n",
       "4.300000      14\n",
       "12.500000     14\n",
       "4.000000      14\n",
       "19.300000     13\n",
       "5.800000      13\n",
       "11.800000     13\n",
       "32.500000     13\n",
       "              ..\n",
       "1.700000       1\n",
       "78.700000      1\n",
       "72.100000      1\n",
       "63.100000      1\n",
       "69.500000      1\n",
       "74.600000      1\n",
       "87.000000      1\n",
       "49.900000      1\n",
       "80.900000      1\n",
       "77.200000      1\n",
       "85.100000      1\n",
       "96.200000      1\n",
       "60.700000      1\n",
       "82.700000      1\n",
       "0.800000       1\n",
       "62.900000      1\n",
       "81.600000      1\n",
       "53.500000      1\n",
       "80.400000      1\n",
       "100.200000     1\n",
       "63.000000      1\n",
       "0.600000       1\n",
       "66.700000      1\n",
       "69.200000      1\n",
       "49.700000      1\n",
       "66.900000      1\n",
       "28.042854      1\n",
       "64.100000      1\n",
       "70.100000      1\n",
       "96.700000      1\n",
       "Name: PM10, Length: 783, dtype: int64"
      ]
     },
     "execution_count": 40,
     "metadata": {},
     "output_type": "execute_result"
    }
   ],
   "source": [
    "flora2010.PM10.value_counts()"
   ]
  },
  {
   "cell_type": "code",
   "execution_count": 57,
   "metadata": {},
   "outputs": [],
   "source": [
    "def valores_nulos_col(df):\n",
    "    for columna in df:\n",
    "        print (\"{}|{}|{}\".format(\n",
    "            df[columna].name,1- len(df[df[columna].isnull()])/(1*n_records),df[columna].dtype\n",
    "               ))"
   ]
  },
  {
   "cell_type": "code",
   "execution_count": 58,
   "metadata": {},
   "outputs": [
    {
     "name": "stdout",
     "output_type": "stream",
     "text": [
      "Fecha|1.0|object\n",
      "PM10|0.4881889763779528|float64\n",
      "SO2|0.5283578683099395|float64\n",
      "NO2|0.45155768572406707|float64\n",
      "CO|0.4722127125413671|float64\n",
      "O3|0.5249343832020997|float64\n",
      "VelVien|0.5598539313020655|float64\n",
      "DirVien|0.5598539313020655|float64\n",
      "Temp|0.5598539313020655|float64\n",
      "Humedad|0.5598539313020655|float64\n",
      "RSolar|0.541138879379208|float64\n",
      "Lluvia|0.5597398151318042|float64\n"
     ]
    }
   ],
   "source": [
    "valores_nulos_col(flora2010)"
   ]
  },
  {
   "cell_type": "code",
   "execution_count": null,
   "metadata": {},
   "outputs": [],
   "source": []
  },
  {
   "cell_type": "code",
   "execution_count": null,
   "metadata": {},
   "outputs": [],
   "source": []
  },
  {
   "cell_type": "code",
   "execution_count": null,
   "metadata": {},
   "outputs": [],
   "source": []
  },
  {
   "cell_type": "code",
   "execution_count": null,
   "metadata": {},
   "outputs": [],
   "source": []
  }
 ],
 "metadata": {
  "kernelspec": {
   "display_name": "Python 3",
   "language": "python",
   "name": "python3"
  },
  "language_info": {
   "codemirror_mode": {
    "name": "ipython",
    "version": 3
   },
   "file_extension": ".py",
   "mimetype": "text/x-python",
   "name": "python",
   "nbconvert_exporter": "python",
   "pygments_lexer": "ipython3",
   "version": "3.7.4"
  }
 },
 "nbformat": 4,
 "nbformat_minor": 2
}
