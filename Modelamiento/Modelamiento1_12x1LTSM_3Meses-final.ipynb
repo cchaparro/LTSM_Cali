{
 "cells": [
  {
   "cell_type": "code",
   "execution_count": 32,
   "metadata": {},
   "outputs": [],
   "source": [
    "from math import sqrt\n",
    "from numpy import concatenate\n",
    "from matplotlib import pyplot as plt\n",
    "from pandas import read_csv\n",
    "from pandas import DataFrame\n",
    "from pandas import concat\n",
    "from sklearn.preprocessing import MinMaxScaler\n",
    "from sklearn.preprocessing import LabelEncoder\n",
    "from sklearn.metrics import mean_squared_error\n",
    "from sklearn.metrics import r2_score\n",
    "from keras.models import Sequential\n",
    "from keras.layers import Dense\n",
    "from keras.layers import LSTM\n",
    "from tensorflow import keras\n",
    "from keras.models import model_from_json\n",
    "import numpy as np\n",
    "import pandas as pd\n",
    "import time\n",
    "import tensorflow as tf"
   ]
  },
  {
   "cell_type": "code",
   "execution_count": 33,
   "metadata": {},
   "outputs": [],
   "source": [
    "# datos: secuencia de observaciones como una lista o matriz 2D NumPy. Necesario.\n",
    "# n_in: Número de observaciones de retraso como entrada (X). Los valores pueden estar entre [1..len (datos)] Opcional. El valor predeterminado es 1.\n",
    "# n_out: Número de observaciones como salida (y). Los valores pueden estar entre [0..len (datos) -1]. Opcional. Por defecto es 1.\n",
    "# dropnan: booleano si se deben soltar o no filas con valores NaN. Opcional. Por defecto es verdadero.\n",
    "\n",
    "\n",
    "def series_to_supervised(data, n_in=1, n_out=1, dropnan=True):\n",
    "    n_vars = 1 if type(data) is list else data.shape[1]\n",
    "    df = DataFrame(data)\n",
    "    cols, names = list(), list()\n",
    "# observaciones pasadas  (t-n, ... t-1)\n",
    "    for i in range(n_in, 0, -1):\n",
    "        cols.append(df.shift(i))\n",
    "        names += [('var%d(t-%d)' % (j+1, i)) for j in range(n_vars)]\n",
    "# tiempos futuros  (t, t+1, ... t+n)\n",
    "    for i in range(0, n_out):\n",
    "        cols.append(df.shift(-i))\n",
    "        if i == 0:\n",
    "            names += [('var%d(t)' % (j+1)) for j in range(n_vars)]\n",
    "        else:\n",
    "            names += [('var%d(t+%d)' % (j+1, i)) for j in range(n_vars)]\n",
    "    agg = concat(cols, axis=1)\n",
    "    agg.columns = names\n",
    "    if dropnan:\n",
    "        agg.dropna(inplace=True)\n",
    "    return agg"
   ]
  },
  {
   "cell_type": "code",
   "execution_count": 34,
   "metadata": {},
   "outputs": [],
   "source": [
    "data = pd.read_excel('../PreparacionDatos/FloraTotal_3mes_4V.xlsx' , sheet_name='FloraTotal' ,header=0)"
   ]
  },
  {
   "cell_type": "code",
   "execution_count": 35,
   "metadata": {},
   "outputs": [
    {
     "data": {
      "text/plain": [
       "Index(['Unnamed: 0', 'PM10', 'Motos_vehiculos_particulares', 'Lluvia',\n",
       "       'Poblacion'],\n",
       "      dtype='object')"
      ]
     },
     "execution_count": 35,
     "metadata": {},
     "output_type": "execute_result"
    }
   ],
   "source": [
    "data.columns"
   ]
  },
  {
   "cell_type": "code",
   "execution_count": 36,
   "metadata": {},
   "outputs": [],
   "source": [
    "#Borro solo dejo PM10, lluvia, población y parque automovilístico\n",
    "\n",
    "data = data.drop(['Unnamed: 0'], axis=1)\n"
   ]
  },
  {
   "cell_type": "code",
   "execution_count": 37,
   "metadata": {},
   "outputs": [
    {
     "data": {
      "text/plain": [
       "Index(['PM10', 'Motos_vehiculos_particulares', 'Lluvia', 'Poblacion'], dtype='object')"
      ]
     },
     "execution_count": 37,
     "metadata": {},
     "output_type": "execute_result"
    }
   ],
   "source": [
    "data.columns"
   ]
  },
  {
   "cell_type": "code",
   "execution_count": 38,
   "metadata": {},
   "outputs": [
    {
     "data": {
      "text/html": [
       "<div>\n",
       "<style scoped>\n",
       "    .dataframe tbody tr th:only-of-type {\n",
       "        vertical-align: middle;\n",
       "    }\n",
       "\n",
       "    .dataframe tbody tr th {\n",
       "        vertical-align: top;\n",
       "    }\n",
       "\n",
       "    .dataframe thead th {\n",
       "        text-align: right;\n",
       "    }\n",
       "</style>\n",
       "<table border=\"1\" class=\"dataframe\">\n",
       "  <thead>\n",
       "    <tr style=\"text-align: right;\">\n",
       "      <th></th>\n",
       "      <th>PM10</th>\n",
       "      <th>Motos_vehiculos_particulares</th>\n",
       "      <th>Lluvia</th>\n",
       "      <th>Poblacion</th>\n",
       "    </tr>\n",
       "  </thead>\n",
       "  <tbody>\n",
       "    <tr>\n",
       "      <td>count</td>\n",
       "      <td>32.000000</td>\n",
       "      <td>32.000000</td>\n",
       "      <td>32.000000</td>\n",
       "      <td>3.200000e+01</td>\n",
       "    </tr>\n",
       "    <tr>\n",
       "      <td>mean</td>\n",
       "      <td>29.407487</td>\n",
       "      <td>498530.625000</td>\n",
       "      <td>0.282681</td>\n",
       "      <td>2.332282e+06</td>\n",
       "    </tr>\n",
       "    <tr>\n",
       "      <td>std</td>\n",
       "      <td>8.065527</td>\n",
       "      <td>96047.452489</td>\n",
       "      <td>0.186494</td>\n",
       "      <td>5.833838e+04</td>\n",
       "    </tr>\n",
       "    <tr>\n",
       "      <td>min</td>\n",
       "      <td>16.134058</td>\n",
       "      <td>348066.000000</td>\n",
       "      <td>0.015700</td>\n",
       "      <td>2.244668e+06</td>\n",
       "    </tr>\n",
       "    <tr>\n",
       "      <td>25%</td>\n",
       "      <td>24.819687</td>\n",
       "      <td>426908.500000</td>\n",
       "      <td>0.173525</td>\n",
       "      <td>2.288403e+06</td>\n",
       "    </tr>\n",
       "    <tr>\n",
       "      <td>50%</td>\n",
       "      <td>28.018413</td>\n",
       "      <td>505229.000000</td>\n",
       "      <td>0.244030</td>\n",
       "      <td>2.332209e+06</td>\n",
       "    </tr>\n",
       "    <tr>\n",
       "      <td>75%</td>\n",
       "      <td>33.663911</td>\n",
       "      <td>575963.250000</td>\n",
       "      <td>0.389344</td>\n",
       "      <td>2.376097e+06</td>\n",
       "    </tr>\n",
       "    <tr>\n",
       "      <td>max</td>\n",
       "      <td>47.904537</td>\n",
       "      <td>630478.000000</td>\n",
       "      <td>0.939613</td>\n",
       "      <td>2.420114e+06</td>\n",
       "    </tr>\n",
       "  </tbody>\n",
       "</table>\n",
       "</div>"
      ],
      "text/plain": [
       "            PM10  Motos_vehiculos_particulares     Lluvia     Poblacion\n",
       "count  32.000000                     32.000000  32.000000  3.200000e+01\n",
       "mean   29.407487                 498530.625000   0.282681  2.332282e+06\n",
       "std     8.065527                  96047.452489   0.186494  5.833838e+04\n",
       "min    16.134058                 348066.000000   0.015700  2.244668e+06\n",
       "25%    24.819687                 426908.500000   0.173525  2.288403e+06\n",
       "50%    28.018413                 505229.000000   0.244030  2.332209e+06\n",
       "75%    33.663911                 575963.250000   0.389344  2.376097e+06\n",
       "max    47.904537                 630478.000000   0.939613  2.420114e+06"
      ]
     },
     "execution_count": 38,
     "metadata": {},
     "output_type": "execute_result"
    }
   ],
   "source": [
    "\n",
    "\n",
    "data.describe()"
   ]
  },
  {
   "cell_type": "code",
   "execution_count": 39,
   "metadata": {},
   "outputs": [
    {
     "data": {
      "text/plain": [
       "Index(['PM10', 'Motos_vehiculos_particulares', 'Lluvia', 'Poblacion'], dtype='object')"
      ]
     },
     "execution_count": 39,
     "metadata": {},
     "output_type": "execute_result"
    }
   ],
   "source": [
    "data.columns"
   ]
  },
  {
   "cell_type": "code",
   "execution_count": 40,
   "metadata": {},
   "outputs": [
    {
     "data": {
      "image/png": "[encoded data removed]",
      "text/plain": [
       "<Figure size 432x288 with 4 Axes>"
      ]
     },
     "metadata": {
      "needs_background": "light"
     },
     "output_type": "display_data"
    },
    {
     "data": {
      "text/plain": [
       "<Figure size 1728x432 with 0 Axes>"
      ]
     },
     "metadata": {},
     "output_type": "display_data"
    }
   ],
   "source": [
    "# Reprecentacion de los datos.\n",
    "from matplotlib import pyplot\n",
    "groups = [0,1,2,3]\n",
    "i = 1\n",
    "values = data.values\n",
    "pyplot.figure()\n",
    "for group in groups:\n",
    "    pyplot.subplot(len(groups), 1, i)\n",
    "    pyplot.plot(values[:, group])\n",
    "    pyplot.title(data.columns[group], y=0.5, loc='right')\n",
    "    i += 1\n",
    "pyplot.figure(figsize=(24,6))\n",
    "pyplot.show()"
   ]
  },
  {
   "cell_type": "code",
   "execution_count": 41,
   "metadata": {},
   "outputs": [
    {
     "data": {
      "text/html": [
       "<div>\n",
       "<style scoped>\n",
       "    .dataframe tbody tr th:only-of-type {\n",
       "        vertical-align: middle;\n",
       "    }\n",
       "\n",
       "    .dataframe tbody tr th {\n",
       "        vertical-align: top;\n",
       "    }\n",
       "\n",
       "    .dataframe thead th {\n",
       "        text-align: right;\n",
       "    }\n",
       "</style>\n",
       "<table border=\"1\" class=\"dataframe\">\n",
       "  <thead>\n",
       "    <tr style=\"text-align: right;\">\n",
       "      <th></th>\n",
       "      <th>PM10</th>\n",
       "      <th>Motos_vehiculos_particulares</th>\n",
       "      <th>Lluvia</th>\n",
       "      <th>Poblacion</th>\n",
       "    </tr>\n",
       "  </thead>\n",
       "  <tbody>\n",
       "    <tr>\n",
       "      <td>0</td>\n",
       "      <td>24.953753</td>\n",
       "      <td>348066</td>\n",
       "      <td>0.939613</td>\n",
       "      <td>2244668</td>\n",
       "    </tr>\n",
       "    <tr>\n",
       "      <td>1</td>\n",
       "      <td>19.868654</td>\n",
       "      <td>348066</td>\n",
       "      <td>0.382813</td>\n",
       "      <td>2244668</td>\n",
       "    </tr>\n",
       "    <tr>\n",
       "      <td>2</td>\n",
       "      <td>27.656900</td>\n",
       "      <td>348066</td>\n",
       "      <td>0.263172</td>\n",
       "      <td>2244668</td>\n",
       "    </tr>\n",
       "    <tr>\n",
       "      <td>3</td>\n",
       "      <td>26.076992</td>\n",
       "      <td>348066</td>\n",
       "      <td>0.572834</td>\n",
       "      <td>2244668</td>\n",
       "    </tr>\n",
       "    <tr>\n",
       "      <td>4</td>\n",
       "      <td>27.081070</td>\n",
       "      <td>391327</td>\n",
       "      <td>0.190382</td>\n",
       "      <td>2269653</td>\n",
       "    </tr>\n",
       "    <tr>\n",
       "      <td>5</td>\n",
       "      <td>24.417490</td>\n",
       "      <td>391327</td>\n",
       "      <td>0.413592</td>\n",
       "      <td>2269653</td>\n",
       "    </tr>\n",
       "    <tr>\n",
       "      <td>6</td>\n",
       "      <td>33.543011</td>\n",
       "      <td>391327</td>\n",
       "      <td>0.408934</td>\n",
       "      <td>2269653</td>\n",
       "    </tr>\n",
       "    <tr>\n",
       "      <td>7</td>\n",
       "      <td>26.189116</td>\n",
       "      <td>391327</td>\n",
       "      <td>0.595508</td>\n",
       "      <td>2269653</td>\n",
       "    </tr>\n",
       "    <tr>\n",
       "      <td>8</td>\n",
       "      <td>28.528126</td>\n",
       "      <td>438769</td>\n",
       "      <td>0.060729</td>\n",
       "      <td>2294653</td>\n",
       "    </tr>\n",
       "    <tr>\n",
       "      <td>9</td>\n",
       "      <td>16.134058</td>\n",
       "      <td>438769</td>\n",
       "      <td>0.426957</td>\n",
       "      <td>2294653</td>\n",
       "    </tr>\n",
       "    <tr>\n",
       "      <td>10</td>\n",
       "      <td>28.120001</td>\n",
       "      <td>438769</td>\n",
       "      <td>0.107707</td>\n",
       "      <td>2294653</td>\n",
       "    </tr>\n",
       "    <tr>\n",
       "      <td>11</td>\n",
       "      <td>25.519133</td>\n",
       "      <td>438769</td>\n",
       "      <td>0.419806</td>\n",
       "      <td>2294653</td>\n",
       "    </tr>\n",
       "    <tr>\n",
       "      <td>12</td>\n",
       "      <td>19.838018</td>\n",
       "      <td>484119</td>\n",
       "      <td>0.185106</td>\n",
       "      <td>2319684</td>\n",
       "    </tr>\n",
       "    <tr>\n",
       "      <td>13</td>\n",
       "      <td>22.679886</td>\n",
       "      <td>484119</td>\n",
       "      <td>0.276111</td>\n",
       "      <td>2319684</td>\n",
       "    </tr>\n",
       "    <tr>\n",
       "      <td>14</td>\n",
       "      <td>18.081238</td>\n",
       "      <td>484119</td>\n",
       "      <td>0.134173</td>\n",
       "      <td>2319684</td>\n",
       "    </tr>\n",
       "    <tr>\n",
       "      <td>15</td>\n",
       "      <td>31.919754</td>\n",
       "      <td>484119</td>\n",
       "      <td>0.472869</td>\n",
       "      <td>2319684</td>\n",
       "    </tr>\n",
       "    <tr>\n",
       "      <td>16</td>\n",
       "      <td>47.482609</td>\n",
       "      <td>526339</td>\n",
       "      <td>0.215647</td>\n",
       "      <td>2344734</td>\n",
       "    </tr>\n",
       "    <tr>\n",
       "      <td>17</td>\n",
       "      <td>38.531296</td>\n",
       "      <td>526339</td>\n",
       "      <td>0.234257</td>\n",
       "      <td>2344734</td>\n",
       "    </tr>\n",
       "    <tr>\n",
       "      <td>18</td>\n",
       "      <td>47.904537</td>\n",
       "      <td>526339</td>\n",
       "      <td>0.281555</td>\n",
       "      <td>2344734</td>\n",
       "    </tr>\n",
       "    <tr>\n",
       "      <td>19</td>\n",
       "      <td>46.285915</td>\n",
       "      <td>526339</td>\n",
       "      <td>0.372491</td>\n",
       "      <td>2344734</td>\n",
       "    </tr>\n",
       "    <tr>\n",
       "      <td>20</td>\n",
       "      <td>35.878597</td>\n",
       "      <td>567353</td>\n",
       "      <td>0.208546</td>\n",
       "      <td>2369821</td>\n",
       "    </tr>\n",
       "    <tr>\n",
       "      <td>21</td>\n",
       "      <td>32.421597</td>\n",
       "      <td>567353</td>\n",
       "      <td>0.193502</td>\n",
       "      <td>2369821</td>\n",
       "    </tr>\n",
       "    <tr>\n",
       "      <td>22</td>\n",
       "      <td>27.916824</td>\n",
       "      <td>567353</td>\n",
       "      <td>0.110047</td>\n",
       "      <td>2369821</td>\n",
       "    </tr>\n",
       "    <tr>\n",
       "      <td>23</td>\n",
       "      <td>37.520321</td>\n",
       "      <td>567353</td>\n",
       "      <td>0.124192</td>\n",
       "      <td>2369821</td>\n",
       "    </tr>\n",
       "    <tr>\n",
       "      <td>24</td>\n",
       "      <td>35.772816</td>\n",
       "      <td>601794</td>\n",
       "      <td>0.265361</td>\n",
       "      <td>2394925</td>\n",
       "    </tr>\n",
       "    <tr>\n",
       "      <td>25</td>\n",
       "      <td>34.026611</td>\n",
       "      <td>601794</td>\n",
       "      <td>0.253803</td>\n",
       "      <td>2394925</td>\n",
       "    </tr>\n",
       "    <tr>\n",
       "      <td>26</td>\n",
       "      <td>31.355671</td>\n",
       "      <td>601794</td>\n",
       "      <td>0.088913</td>\n",
       "      <td>2394925</td>\n",
       "    </tr>\n",
       "    <tr>\n",
       "      <td>27</td>\n",
       "      <td>22.212193</td>\n",
       "      <td>601794</td>\n",
       "      <td>0.280813</td>\n",
       "      <td>2394925</td>\n",
       "    </tr>\n",
       "    <tr>\n",
       "      <td>28</td>\n",
       "      <td>20.680435</td>\n",
       "      <td>630478</td>\n",
       "      <td>0.015700</td>\n",
       "      <td>2420114</td>\n",
       "    </tr>\n",
       "    <tr>\n",
       "      <td>29</td>\n",
       "      <td>25.191208</td>\n",
       "      <td>630478</td>\n",
       "      <td>0.181820</td>\n",
       "      <td>2420114</td>\n",
       "    </tr>\n",
       "    <tr>\n",
       "      <td>30</td>\n",
       "      <td>28.905861</td>\n",
       "      <td>630478</td>\n",
       "      <td>0.148639</td>\n",
       "      <td>2420114</td>\n",
       "    </tr>\n",
       "    <tr>\n",
       "      <td>31</td>\n",
       "      <td>28.345888</td>\n",
       "      <td>630478</td>\n",
       "      <td>0.220213</td>\n",
       "      <td>2420114</td>\n",
       "    </tr>\n",
       "  </tbody>\n",
       "</table>\n",
       "</div>"
      ],
      "text/plain": [
       "         PM10  Motos_vehiculos_particulares    Lluvia  Poblacion\n",
       "0   24.953753                        348066  0.939613    2244668\n",
       "1   19.868654                        348066  0.382813    2244668\n",
       "2   27.656900                        348066  0.263172    2244668\n",
       "3   26.076992                        348066  0.572834    2244668\n",
       "4   27.081070                        391327  0.190382    2269653\n",
       "5   24.417490                        391327  0.413592    2269653\n",
       "6   33.543011                        391327  0.408934    2269653\n",
       "7   26.189116                        391327  0.595508    2269653\n",
       "8   28.528126                        438769  0.060729    2294653\n",
       "9   16.134058                        438769  0.426957    2294653\n",
       "10  28.120001                        438769  0.107707    2294653\n",
       "11  25.519133                        438769  0.419806    2294653\n",
       "12  19.838018                        484119  0.185106    2319684\n",
       "13  22.679886                        484119  0.276111    2319684\n",
       "14  18.081238                        484119  0.134173    2319684\n",
       "15  31.919754                        484119  0.472869    2319684\n",
       "16  47.482609                        526339  0.215647    2344734\n",
       "17  38.531296                        526339  0.234257    2344734\n",
       "18  47.904537                        526339  0.281555    2344734\n",
       "19  46.285915                        526339  0.372491    2344734\n",
       "20  35.878597                        567353  0.208546    2369821\n",
       "21  32.421597                        567353  0.193502    2369821\n",
       "22  27.916824                        567353  0.110047    2369821\n",
       "23  37.520321                        567353  0.124192    2369821\n",
       "24  35.772816                        601794  0.265361    2394925\n",
       "25  34.026611                        601794  0.253803    2394925\n",
       "26  31.355671                        601794  0.088913    2394925\n",
       "27  22.212193                        601794  0.280813    2394925\n",
       "28  20.680435                        630478  0.015700    2420114\n",
       "29  25.191208                        630478  0.181820    2420114\n",
       "30  28.905861                        630478  0.148639    2420114\n",
       "31  28.345888                        630478  0.220213    2420114"
      ]
     },
     "execution_count": 41,
     "metadata": {},
     "output_type": "execute_result"
    }
   ],
   "source": [
    "data"
   ]
  },
  {
   "cell_type": "code",
   "execution_count": 42,
   "metadata": {},
   "outputs": [],
   "source": [
    "values = data.values\n",
    "values = values.astype('float32')\n"
   ]
  },
  {
   "cell_type": "code",
   "execution_count": 43,
   "metadata": {},
   "outputs": [],
   "source": [
    "\n",
    "\n",
    "#Normalize features(0,1)\n",
    "#Este estimador escala y traduce cada característica\n",
    "#individualmente de modo que esté en el rango dado en el conjunto de entrenamiento\n",
    "#https://scikit-learn.org/stable/modules/generated/sklearn.preprocessing.MinMaxScaler.html\n",
    "\n",
    "scaler = MinMaxScaler(feature_range=(0, 1))\n",
    "scaled = scaler.fit_transform(values)"
   ]
  },
  {
   "cell_type": "code",
   "execution_count": 44,
   "metadata": {},
   "outputs": [
    {
     "data": {
      "text/plain": [
       "array([[0.27760655, 0.        , 1.        , 0.        ],\n",
       "       [0.11754924, 0.        , 0.3973462 , 0.        ],\n",
       "       [0.3626902 , 0.        , 0.2678517 , 0.        ],\n",
       "       [0.3129614 , 0.        , 0.6030158 , 0.        ],\n",
       "       [0.3445655 , 0.15318406, 0.1890668 , 0.14240837],\n",
       "       [0.2607273 , 0.15318406, 0.43065938, 0.14240837],\n",
       "       [0.54796   , 0.15318406, 0.42561764, 0.14240837],\n",
       "       [0.3164906 , 0.15318406, 0.627557  , 0.14240837],\n",
       "       [0.3901127 , 0.3211727 , 0.04873698, 0.28490257],\n",
       "       [0.        , 0.3211727 , 0.44512463, 0.28490257],\n",
       "       [0.37726665, 0.3211727 , 0.09958397, 0.28490257],\n",
       "       [0.29540235, 0.3211727 , 0.43738487, 0.28490257],\n",
       "       [0.11658496, 0.4817537 , 0.18335706, 0.4275732 ],\n",
       "       [0.2060349 , 0.4817537 , 0.2818562 , 0.4275732 ],\n",
       "       [0.06128895, 0.4817537 , 0.12822917, 0.4275732 ],\n",
       "       [0.49686676, 0.4817537 , 0.49481776, 0.4275732 ],\n",
       "       [0.9867194 , 0.6312516 , 0.2164133 , 0.5703516 ],\n",
       "       [0.70497006, 0.6312516 , 0.23655559, 0.5703516 ],\n",
       "       [0.99999994, 0.6312516 , 0.28774852, 0.5703516 ],\n",
       "       [0.94905263, 0.6312516 , 0.3861732 , 0.5703516 ],\n",
       "       [0.6214743 , 0.7764791 , 0.20872702, 0.7133417 ],\n",
       "       [0.5126626 , 0.7764791 , 0.19244435, 0.7133417 ],\n",
       "       [0.37087148, 0.7764791 , 0.10211661, 0.7133417 ],\n",
       "       [0.6731488 , 0.7764791 , 0.1174261 , 0.7133417 ],\n",
       "       [0.6181448 , 0.89843214, 0.27022076, 0.85642815],\n",
       "       [0.5631817 , 0.89843214, 0.25771138, 0.85642815],\n",
       "       [0.47911185, 0.89843214, 0.07924192, 0.85642815],\n",
       "       [0.19131386, 0.89843214, 0.28694546, 0.85642815],\n",
       "       [0.14310068, 1.0000001 , 0.        , 1.        ],\n",
       "       [0.28508067, 1.0000001 , 0.17980051, 1.        ],\n",
       "       [0.40200222, 1.0000001 , 0.14388649, 1.        ],\n",
       "       [0.38437665, 1.0000001 , 0.2213546 , 1.        ]], dtype=float32)"
      ]
     },
     "execution_count": 44,
     "metadata": {},
     "output_type": "execute_result"
    }
   ],
   "source": [
    "scaled"
   ]
  },
  {
   "cell_type": "code",
   "execution_count": 45,
   "metadata": {},
   "outputs": [
    {
     "name": "stdout",
     "output_type": "stream",
     "text": [
      "   var1(t-1)  var2(t-1)  var3(t-1)  var4(t-1)   var1(t)   var2(t)   var3(t)  \\\n",
      "1   0.277607   0.000000   1.000000   0.000000  0.117549  0.000000  0.397346   \n",
      "2   0.117549   0.000000   0.397346   0.000000  0.362690  0.000000  0.267852   \n",
      "3   0.362690   0.000000   0.267852   0.000000  0.312961  0.000000  0.603016   \n",
      "4   0.312961   0.000000   0.603016   0.000000  0.344566  0.153184  0.189067   \n",
      "5   0.344566   0.153184   0.189067   0.142408  0.260727  0.153184  0.430659   \n",
      "\n",
      "    var4(t)  \n",
      "1  0.000000  \n",
      "2  0.000000  \n",
      "3  0.000000  \n",
      "4  0.142408  \n",
      "5  0.142408  \n"
     ]
    }
   ],
   "source": [
    "\n",
    "reframed = series_to_supervised(scaled, 1, 1)\n",
    "\n",
    "print(reframed.head())\n"
   ]
  },
  {
   "cell_type": "code",
   "execution_count": 46,
   "metadata": {},
   "outputs": [
    {
     "data": {
      "text/plain": [
       "Index(['var1(t-1)', 'var2(t-1)', 'var3(t-1)', 'var4(t-1)', 'var1(t)',\n",
       "       'var2(t)', 'var3(t)', 'var4(t)'],\n",
       "      dtype='object')"
      ]
     },
     "execution_count": 46,
     "metadata": {},
     "output_type": "execute_result"
    }
   ],
   "source": [
    "reframed.columns"
   ]
  },
  {
   "cell_type": "code",
   "execution_count": 47,
   "metadata": {},
   "outputs": [
    {
     "name": "stdout",
     "output_type": "stream",
     "text": [
      "   var2(t-1)  var3(t-1)  var4(t-1)   var1(t)\n",
      "1   0.000000   1.000000   0.000000  0.117549\n",
      "2   0.000000   0.397346   0.000000  0.362690\n",
      "3   0.000000   0.267852   0.000000  0.312961\n",
      "4   0.000000   0.603016   0.000000  0.344566\n",
      "5   0.153184   0.189067   0.142408  0.260727\n"
     ]
    }
   ],
   "source": [
    "#Dejo la variable objetico en PM10 (T) y y todas (T-1)...................\n",
    "reframed.drop(reframed.columns[[0,5,6,7]], axis=1, inplace=True)\n",
    "print(reframed.head())"
   ]
  },
  {
   "cell_type": "code",
   "execution_count": 48,
   "metadata": {},
   "outputs": [
    {
     "data": {
      "text/plain": [
       "Index(['var2(t-1)', 'var3(t-1)', 'var4(t-1)', 'var1(t)'], dtype='object')"
      ]
     },
     "execution_count": 48,
     "metadata": {},
     "output_type": "execute_result"
    }
   ],
   "source": [
    "reframed.columns"
   ]
  },
  {
   "cell_type": "code",
   "execution_count": 49,
   "metadata": {},
   "outputs": [],
   "source": [
    "values = reframed.values"
   ]
  },
  {
   "cell_type": "code",
   "execution_count": 51,
   "metadata": {},
   "outputs": [
    {
     "data": {
      "text/plain": [
       "array([[0.        , 1.        , 0.        , 0.11754924],\n",
       "       [0.        , 0.3973462 , 0.        , 0.3626902 ],\n",
       "       [0.        , 0.2678517 , 0.        , 0.3129614 ],\n",
       "       [0.        , 0.6030158 , 0.        , 0.3445655 ],\n",
       "       [0.15318406, 0.1890668 , 0.14240837, 0.2607273 ],\n",
       "       [0.15318406, 0.43065938, 0.14240837, 0.54796   ],\n",
       "       [0.15318406, 0.42561764, 0.14240837, 0.3164906 ],\n",
       "       [0.15318406, 0.627557  , 0.14240837, 0.3901127 ],\n",
       "       [0.3211727 , 0.04873698, 0.28490257, 0.        ],\n",
       "       [0.3211727 , 0.44512463, 0.28490257, 0.37726665],\n",
       "       [0.3211727 , 0.09958397, 0.28490257, 0.29540235],\n",
       "       [0.3211727 , 0.43738487, 0.28490257, 0.11658496],\n",
       "       [0.4817537 , 0.18335706, 0.4275732 , 0.2060349 ],\n",
       "       [0.4817537 , 0.2818562 , 0.4275732 , 0.06128895],\n",
       "       [0.4817537 , 0.12822917, 0.4275732 , 0.49686676],\n",
       "       [0.4817537 , 0.49481776, 0.4275732 , 0.9867194 ],\n",
       "       [0.6312516 , 0.2164133 , 0.5703516 , 0.70497006]], dtype=float32)"
      ]
     },
     "execution_count": 51,
     "metadata": {},
     "output_type": "execute_result"
    }
   ],
   "source": [
    "values[:17, :]"
   ]
  },
  {
   "cell_type": "code",
   "execution_count": 52,
   "metadata": {},
   "outputs": [],
   "source": [
    "values = reframed.values\n",
    "\n",
    "#Datos de entrenamiento y pruebas:\n",
    "n_train_hours = 17\n",
    "train = values[:n_train_hours, :]\n",
    "test = values[n_train_hours:, :]\n"
   ]
  },
  {
   "cell_type": "code",
   "execution_count": 53,
   "metadata": {},
   "outputs": [
    {
     "data": {
      "text/plain": [
       "array([[0.6312516 , 0.23655559, 0.5703516 , 0.99999994],\n",
       "       [0.6312516 , 0.28774852, 0.5703516 , 0.94905263],\n",
       "       [0.6312516 , 0.3861732 , 0.5703516 , 0.6214743 ],\n",
       "       [0.7764791 , 0.20872702, 0.7133417 , 0.5126626 ],\n",
       "       [0.7764791 , 0.19244435, 0.7133417 , 0.37087148],\n",
       "       [0.7764791 , 0.10211661, 0.7133417 , 0.6731488 ],\n",
       "       [0.7764791 , 0.1174261 , 0.7133417 , 0.6181448 ],\n",
       "       [0.89843214, 0.27022076, 0.85642815, 0.5631817 ],\n",
       "       [0.89843214, 0.25771138, 0.85642815, 0.47911185],\n",
       "       [0.89843214, 0.07924192, 0.85642815, 0.19131386],\n",
       "       [0.89843214, 0.28694546, 0.85642815, 0.14310068],\n",
       "       [1.0000001 , 0.        , 1.        , 0.28508067],\n",
       "       [1.0000001 , 0.17980051, 1.        , 0.40200222],\n",
       "       [1.0000001 , 0.14388649, 1.        , 0.38437665]], dtype=float32)"
      ]
     },
     "execution_count": 53,
     "metadata": {},
     "output_type": "execute_result"
    }
   ],
   "source": [
    "test"
   ]
  },
  {
   "cell_type": "code",
   "execution_count": 54,
   "metadata": {},
   "outputs": [
    {
     "data": {
      "text/plain": [
       "array([[0.        , 1.        , 0.        , 0.11754924],\n",
       "       [0.        , 0.3973462 , 0.        , 0.3626902 ],\n",
       "       [0.        , 0.2678517 , 0.        , 0.3129614 ],\n",
       "       [0.        , 0.6030158 , 0.        , 0.3445655 ],\n",
       "       [0.15318406, 0.1890668 , 0.14240837, 0.2607273 ],\n",
       "       [0.15318406, 0.43065938, 0.14240837, 0.54796   ],\n",
       "       [0.15318406, 0.42561764, 0.14240837, 0.3164906 ],\n",
       "       [0.15318406, 0.627557  , 0.14240837, 0.3901127 ],\n",
       "       [0.3211727 , 0.04873698, 0.28490257, 0.        ],\n",
       "       [0.3211727 , 0.44512463, 0.28490257, 0.37726665],\n",
       "       [0.3211727 , 0.09958397, 0.28490257, 0.29540235],\n",
       "       [0.3211727 , 0.43738487, 0.28490257, 0.11658496],\n",
       "       [0.4817537 , 0.18335706, 0.4275732 , 0.2060349 ],\n",
       "       [0.4817537 , 0.2818562 , 0.4275732 , 0.06128895],\n",
       "       [0.4817537 , 0.12822917, 0.4275732 , 0.49686676],\n",
       "       [0.4817537 , 0.49481776, 0.4275732 , 0.9867194 ],\n",
       "       [0.6312516 , 0.2164133 , 0.5703516 , 0.70497006]], dtype=float32)"
      ]
     },
     "execution_count": 54,
     "metadata": {},
     "output_type": "execute_result"
    }
   ],
   "source": [
    "train"
   ]
  },
  {
   "cell_type": "code",
   "execution_count": 55,
   "metadata": {},
   "outputs": [
    {
     "data": {
      "text/plain": [
       "array([[0.        , 1.        , 0.        ],\n",
       "       [0.        , 0.3973462 , 0.        ],\n",
       "       [0.        , 0.2678517 , 0.        ],\n",
       "       [0.        , 0.6030158 , 0.        ],\n",
       "       [0.15318406, 0.1890668 , 0.14240837],\n",
       "       [0.15318406, 0.43065938, 0.14240837],\n",
       "       [0.15318406, 0.42561764, 0.14240837],\n",
       "       [0.15318406, 0.627557  , 0.14240837],\n",
       "       [0.3211727 , 0.04873698, 0.28490257],\n",
       "       [0.3211727 , 0.44512463, 0.28490257],\n",
       "       [0.3211727 , 0.09958397, 0.28490257],\n",
       "       [0.3211727 , 0.43738487, 0.28490257],\n",
       "       [0.4817537 , 0.18335706, 0.4275732 ],\n",
       "       [0.4817537 , 0.2818562 , 0.4275732 ],\n",
       "       [0.4817537 , 0.12822917, 0.4275732 ],\n",
       "       [0.4817537 , 0.49481776, 0.4275732 ],\n",
       "       [0.6312516 , 0.2164133 , 0.5703516 ]], dtype=float32)"
      ]
     },
     "execution_count": 55,
     "metadata": {},
     "output_type": "execute_result"
    }
   ],
   "source": [
    "train[:, :-1]"
   ]
  },
  {
   "cell_type": "code",
   "execution_count": 56,
   "metadata": {},
   "outputs": [
    {
     "data": {
      "text/plain": [
       "array([0.11754924, 0.3626902 , 0.3129614 , 0.3445655 , 0.2607273 ,\n",
       "       0.54796   , 0.3164906 , 0.3901127 , 0.        , 0.37726665,\n",
       "       0.29540235, 0.11658496, 0.2060349 , 0.06128895, 0.49686676,\n",
       "       0.9867194 , 0.70497006], dtype=float32)"
      ]
     },
     "execution_count": 56,
     "metadata": {},
     "output_type": "execute_result"
    }
   ],
   "source": [
    "train[:, -1]"
   ]
  },
  {
   "cell_type": "code",
   "execution_count": 61,
   "metadata": {},
   "outputs": [
    {
     "data": {
      "text/plain": [
       "array([[0.        , 1.        , 0.        , 0.11754924],\n",
       "       [0.        , 0.3973462 , 0.        , 0.3626902 ],\n",
       "       [0.        , 0.2678517 , 0.        , 0.3129614 ],\n",
       "       [0.        , 0.6030158 , 0.        , 0.3445655 ],\n",
       "       [0.15318406, 0.1890668 , 0.14240837, 0.2607273 ],\n",
       "       [0.15318406, 0.43065938, 0.14240837, 0.54796   ],\n",
       "       [0.15318406, 0.42561764, 0.14240837, 0.3164906 ],\n",
       "       [0.15318406, 0.627557  , 0.14240837, 0.3901127 ],\n",
       "       [0.3211727 , 0.04873698, 0.28490257, 0.        ],\n",
       "       [0.3211727 , 0.44512463, 0.28490257, 0.37726665],\n",
       "       [0.3211727 , 0.09958397, 0.28490257, 0.29540235],\n",
       "       [0.3211727 , 0.43738487, 0.28490257, 0.11658496],\n",
       "       [0.4817537 , 0.18335706, 0.4275732 , 0.2060349 ],\n",
       "       [0.4817537 , 0.2818562 , 0.4275732 , 0.06128895],\n",
       "       [0.4817537 , 0.12822917, 0.4275732 , 0.49686676],\n",
       "       [0.4817537 , 0.49481776, 0.4275732 , 0.9867194 ],\n",
       "       [0.6312516 , 0.2164133 , 0.5703516 , 0.70497006]], dtype=float32)"
      ]
     },
     "execution_count": 61,
     "metadata": {},
     "output_type": "execute_result"
    }
   ],
   "source": [
    "train[:, 0:]"
   ]
  },
  {
   "cell_type": "code",
   "execution_count": 62,
   "metadata": {},
   "outputs": [
    {
     "name": "stdout",
     "output_type": "stream",
     "text": [
      "(17, 1, 3) (17,) (14, 1, 3) (14,)\n"
     ]
    }
   ],
   "source": [
    "# Datos de entrada y de salida.\n",
    "train_X, train_y = train[:, :-1], train[:, -1]\n",
    "test_X, test_y = test[:, :-1], test[:, -1]\n",
    "\n",
    "\n",
    "#Remodelar la entrada para que sea 3D [muestras, pasos de tiempo, características]\n",
    "train_X = train_X.reshape((train_X.shape[0], 1, train_X.shape[1]))\n",
    "test_X = test_X.reshape((test_X.shape[0], 1, test_X.shape[1]))\n",
    "\n",
    "print(train_X.shape, train_y.shape, test_X.shape, test_y.shape)"
   ]
  },
  {
   "cell_type": "code",
   "execution_count": null,
   "metadata": {},
   "outputs": [],
   "source": []
  },
  {
   "cell_type": "code",
   "execution_count": null,
   "metadata": {},
   "outputs": [],
   "source": []
  },
  {
   "cell_type": "code",
   "execution_count": 63,
   "metadata": {},
   "outputs": [
    {
     "name": "stdout",
     "output_type": "stream",
     "text": [
      "WARNING:tensorflow:From C:\\Users\\Cristian\\Anaconda3\\lib\\site-packages\\keras\\backend\\tensorflow_backend.py:74: The name tf.get_default_graph is deprecated. Please use tf.compat.v1.get_default_graph instead.\n",
      "\n",
      "WARNING:tensorflow:From C:\\Users\\Cristian\\Anaconda3\\lib\\site-packages\\keras\\backend\\tensorflow_backend.py:517: The name tf.placeholder is deprecated. Please use tf.compat.v1.placeholder instead.\n",
      "\n",
      "WARNING:tensorflow:From C:\\Users\\Cristian\\Anaconda3\\lib\\site-packages\\keras\\backend\\tensorflow_backend.py:4138: The name tf.random_uniform is deprecated. Please use tf.random.uniform instead.\n",
      "\n",
      "WARNING:tensorflow:From C:\\Users\\Cristian\\Anaconda3\\lib\\site-packages\\keras\\optimizers.py:790: The name tf.train.Optimizer is deprecated. Please use tf.compat.v1.train.Optimizer instead.\n",
      "\n",
      "_________________________________________________________________\n",
      "Layer (type)                 Output Shape              Param #   \n",
      "=================================================================\n",
      "lstm_1 (LSTM)                (None, 50)                10800     \n",
      "_________________________________________________________________\n",
      "dense_1 (Dense)              (None, 1)                 51        \n",
      "=================================================================\n",
      "Total params: 10,851\n",
      "Trainable params: 10,851\n",
      "Non-trainable params: 0\n",
      "_________________________________________________________________\n"
     ]
    }
   ],
   "source": [
    "#Diseñando la red neuronal.\n",
    "model = Sequential()\n",
    "\n",
    "#Capa de entrada (unidades, 1, 3)\n",
    "model.add(LSTM(50, input_shape=(train_X.shape[1], train_X.shape[2])))\n",
    "\n",
    "#Capa de salida.\n",
    "model.add(Dense(1))\n",
    "model.compile(loss='mae', optimizer='adam')\n",
    "model.name=\"LTSM_cali_3meses\"\n",
    "\n",
    "#fit(x=None, y=None, batch_size=None, epochs=1, \n",
    "#verbose=1, callbacks=None, validation_split=0.0, validation_data=None, \n",
    "#shuffle=True, class_weight=None, sample_weight=None, initial_epoch=0, steps_per_epoch=None,\n",
    "#validation_steps=None, validation_freq=1, max_queue_size=10, workers=1, use_multiprocessing=False)\n",
    "\n",
    "model.summary()\n"
   ]
  },
  {
   "cell_type": "code",
   "execution_count": 64,
   "metadata": {},
   "outputs": [
    {
     "name": "stdout",
     "output_type": "stream",
     "text": [
      "WARNING:tensorflow:From C:\\Users\\Cristian\\Anaconda3\\lib\\site-packages\\tensorflow_core\\python\\ops\\math_grad.py:1424: where (from tensorflow.python.ops.array_ops) is deprecated and will be removed in a future version.\n",
      "Instructions for updating:\n",
      "Use tf.where in 2.0, which has the same broadcast rule as np.where\n",
      "WARNING:tensorflow:From C:\\Users\\Cristian\\Anaconda3\\lib\\site-packages\\keras\\backend\\tensorflow_backend.py:986: The name tf.assign_add is deprecated. Please use tf.compat.v1.assign_add instead.\n",
      "\n",
      "WARNING:tensorflow:From C:\\Users\\Cristian\\Anaconda3\\lib\\site-packages\\keras\\backend\\tensorflow_backend.py:973: The name tf.assign is deprecated. Please use tf.compat.v1.assign instead.\n",
      "\n",
      "WARNING:tensorflow:From C:\\Users\\Cristian\\Anaconda3\\lib\\site-packages\\keras\\backend\\tensorflow_backend.py:2741: The name tf.Session is deprecated. Please use tf.compat.v1.Session instead.\n",
      "\n",
      "Train on 17 samples, validate on 14 samples\n",
      "Epoch 1/50\n",
      "WARNING:tensorflow:From C:\\Users\\Cristian\\Anaconda3\\lib\\site-packages\\keras\\backend\\tensorflow_backend.py:174: The name tf.get_default_session is deprecated. Please use tf.compat.v1.get_default_session instead.\n",
      "\n",
      "WARNING:tensorflow:From C:\\Users\\Cristian\\Anaconda3\\lib\\site-packages\\keras\\backend\\tensorflow_backend.py:181: The name tf.ConfigProto is deprecated. Please use tf.compat.v1.ConfigProto instead.\n",
      "\n",
      "WARNING:tensorflow:From C:\\Users\\Cristian\\Anaconda3\\lib\\site-packages\\keras\\backend\\tensorflow_backend.py:190: The name tf.global_variables is deprecated. Please use tf.compat.v1.global_variables instead.\n",
      "\n",
      "WARNING:tensorflow:From C:\\Users\\Cristian\\Anaconda3\\lib\\site-packages\\keras\\backend\\tensorflow_backend.py:199: The name tf.is_variable_initialized is deprecated. Please use tf.compat.v1.is_variable_initialized instead.\n",
      "\n",
      "WARNING:tensorflow:From C:\\Users\\Cristian\\Anaconda3\\lib\\site-packages\\keras\\backend\\tensorflow_backend.py:206: The name tf.variables_initializer is deprecated. Please use tf.compat.v1.variables_initializer instead.\n",
      "\n",
      " - 1s - loss: 0.3461 - val_loss: 0.5064\n",
      "Epoch 2/50\n",
      " - 0s - loss: 0.3406 - val_loss: 0.4980\n",
      "Epoch 3/50\n",
      " - 0s - loss: 0.3353 - val_loss: 0.4896\n",
      "Epoch 4/50\n",
      " - 0s - loss: 0.3300 - val_loss: 0.4812\n",
      "Epoch 5/50\n",
      " - 0s - loss: 0.3247 - val_loss: 0.4728\n",
      "Epoch 6/50\n",
      " - 0s - loss: 0.3195 - val_loss: 0.4644\n",
      "Epoch 7/50\n",
      " - 0s - loss: 0.3142 - val_loss: 0.4560\n",
      "Epoch 8/50\n",
      " - 0s - loss: 0.3089 - val_loss: 0.4476\n",
      "Epoch 9/50\n",
      " - 0s - loss: 0.3036 - val_loss: 0.4392\n",
      "Epoch 10/50\n",
      " - 0s - loss: 0.2984 - val_loss: 0.4308\n",
      "Epoch 11/50\n",
      " - 0s - loss: 0.2937 - val_loss: 0.4224\n",
      "Epoch 12/50\n",
      " - 0s - loss: 0.2892 - val_loss: 0.4142\n",
      "Epoch 13/50\n",
      " - 0s - loss: 0.2848 - val_loss: 0.4060\n",
      "Epoch 14/50\n",
      " - 0s - loss: 0.2803 - val_loss: 0.3978\n",
      "Epoch 15/50\n",
      " - 0s - loss: 0.2759 - val_loss: 0.3896\n",
      "Epoch 16/50\n",
      " - 0s - loss: 0.2715 - val_loss: 0.3817\n",
      "Epoch 17/50\n",
      " - 0s - loss: 0.2671 - val_loss: 0.3748\n",
      "Epoch 18/50\n",
      " - 0s - loss: 0.2630 - val_loss: 0.3680\n",
      "Epoch 19/50\n",
      " - 0s - loss: 0.2594 - val_loss: 0.3611\n",
      "Epoch 20/50\n",
      " - 0s - loss: 0.2564 - val_loss: 0.3544\n",
      "Epoch 21/50\n",
      " - 0s - loss: 0.2537 - val_loss: 0.3477\n",
      "Epoch 22/50\n",
      " - 0s - loss: 0.2509 - val_loss: 0.3411\n",
      "Epoch 23/50\n",
      " - 0s - loss: 0.2482 - val_loss: 0.3345\n",
      "Epoch 24/50\n",
      " - 0s - loss: 0.2455 - val_loss: 0.3285\n",
      "Epoch 25/50\n",
      " - 0s - loss: 0.2429 - val_loss: 0.3231\n",
      "Epoch 26/50\n",
      " - 0s - loss: 0.2402 - val_loss: 0.3177\n",
      "Epoch 27/50\n",
      " - 0s - loss: 0.2376 - val_loss: 0.3123\n",
      "Epoch 28/50\n",
      " - 0s - loss: 0.2350 - val_loss: 0.3069\n",
      "Epoch 29/50\n",
      " - 0s - loss: 0.2323 - val_loss: 0.3015\n",
      "Epoch 30/50\n",
      " - 0s - loss: 0.2297 - val_loss: 0.2960\n",
      "Epoch 31/50\n",
      " - 0s - loss: 0.2271 - val_loss: 0.2906\n",
      "Epoch 32/50\n",
      " - 0s - loss: 0.2244 - val_loss: 0.2850\n",
      "Epoch 33/50\n",
      " - 0s - loss: 0.2218 - val_loss: 0.2795\n",
      "Epoch 34/50\n",
      " - 0s - loss: 0.2191 - val_loss: 0.2744\n",
      "Epoch 35/50\n",
      " - 0s - loss: 0.2164 - val_loss: 0.2699\n",
      "Epoch 36/50\n",
      " - 0s - loss: 0.2144 - val_loss: 0.2656\n",
      "Epoch 37/50\n",
      " - 0s - loss: 0.2124 - val_loss: 0.2613\n",
      "Epoch 38/50\n",
      " - 0s - loss: 0.2104 - val_loss: 0.2571\n",
      "Epoch 39/50\n",
      " - 0s - loss: 0.2085 - val_loss: 0.2529\n",
      "Epoch 40/50\n",
      " - 0s - loss: 0.2065 - val_loss: 0.2487\n",
      "Epoch 41/50\n",
      " - 0s - loss: 0.2046 - val_loss: 0.2446\n",
      "Epoch 42/50\n",
      " - 0s - loss: 0.2027 - val_loss: 0.2405\n",
      "Epoch 43/50\n",
      " - 0s - loss: 0.2007 - val_loss: 0.2363\n",
      "Epoch 44/50\n",
      " - 0s - loss: 0.1988 - val_loss: 0.2332\n",
      "Epoch 45/50\n",
      " - 0s - loss: 0.1969 - val_loss: 0.2307\n",
      "Epoch 46/50\n",
      " - 0s - loss: 0.1949 - val_loss: 0.2290\n",
      "Epoch 47/50\n",
      " - 0s - loss: 0.1930 - val_loss: 0.2272\n",
      "Epoch 48/50\n",
      " - 0s - loss: 0.1910 - val_loss: 0.2254\n",
      "Epoch 49/50\n",
      " - 0s - loss: 0.1890 - val_loss: 0.2237\n",
      "Epoch 50/50\n",
      " - 0s - loss: 0.1870 - val_loss: 0.2228\n"
     ]
    },
    {
     "data": {
      "image/png": "[encoded data removed]",
      "text/plain": [
       "<Figure size 432x288 with 1 Axes>"
      ]
     },
     "metadata": {
      "needs_background": "light"
     },
     "output_type": "display_data"
    }
   ],
   "source": [
    "\n",
    "# Ajustado el modelo\n",
    "history = model.fit(train_X, train_y, epochs=50, batch_size=72, validation_data=(test_X, test_y), verbose=2, shuffle=False)\n",
    "\n",
    "# Seguimiento al modelo \n",
    "pyplot.plot(history.history['loss'], label='train')\n",
    "pyplot.plot(history.history['val_loss'], label='test')\n",
    "pyplot.legend()\n",
    "pyplot.show()"
   ]
  },
  {
   "cell_type": "code",
   "execution_count": 65,
   "metadata": {},
   "outputs": [
    {
     "data": {
      "text/plain": [
       "array([[[0.6312516 , 0.23655559, 0.5703516 ]],\n",
       "\n",
       "       [[0.6312516 , 0.28774852, 0.5703516 ]],\n",
       "\n",
       "       [[0.6312516 , 0.3861732 , 0.5703516 ]],\n",
       "\n",
       "       [[0.7764791 , 0.20872702, 0.7133417 ]],\n",
       "\n",
       "       [[0.7764791 , 0.19244435, 0.7133417 ]],\n",
       "\n",
       "       [[0.7764791 , 0.10211661, 0.7133417 ]],\n",
       "\n",
       "       [[0.7764791 , 0.1174261 , 0.7133417 ]],\n",
       "\n",
       "       [[0.89843214, 0.27022076, 0.85642815]],\n",
       "\n",
       "       [[0.89843214, 0.25771138, 0.85642815]],\n",
       "\n",
       "       [[0.89843214, 0.07924192, 0.85642815]],\n",
       "\n",
       "       [[0.89843214, 0.28694546, 0.85642815]],\n",
       "\n",
       "       [[1.0000001 , 0.        , 1.        ]],\n",
       "\n",
       "       [[1.0000001 , 0.17980051, 1.        ]],\n",
       "\n",
       "       [[1.0000001 , 0.14388649, 1.        ]]], dtype=float32)"
      ]
     },
     "execution_count": 65,
     "metadata": {},
     "output_type": "execute_result"
    }
   ],
   "source": [
    "test_X"
   ]
  },
  {
   "cell_type": "code",
   "execution_count": 66,
   "metadata": {},
   "outputs": [
    {
     "data": {
      "text/plain": [
       "(14, 1)"
      ]
     },
     "execution_count": 66,
     "metadata": {},
     "output_type": "execute_result"
    }
   ],
   "source": [
    "yhat = model.predict(test_X)\n",
    "yhat.shape"
   ]
  },
  {
   "cell_type": "code",
   "execution_count": 67,
   "metadata": {},
   "outputs": [
    {
     "data": {
      "text/plain": [
       "(14, 3)"
      ]
     },
     "execution_count": 67,
     "metadata": {},
     "output_type": "execute_result"
    }
   ],
   "source": [
    "# Datos de prediccion.\n",
    "test_X = test_X.reshape((test_X.shape[0], test_X.shape[2]))\n",
    "test_X.shape"
   ]
  },
  {
   "cell_type": "code",
   "execution_count": 68,
   "metadata": {},
   "outputs": [
    {
     "data": {
      "text/plain": [
       "array([[0.34590578],\n",
       "       [0.3542907 ],\n",
       "       [0.37040386],\n",
       "       [0.3802931 ],\n",
       "       [0.3776036 ],\n",
       "       [0.36267817],\n",
       "       [0.3652083 ],\n",
       "       [0.42755008],\n",
       "       [0.42547545],\n",
       "       [0.39582363],\n",
       "       [0.43032286],\n",
       "       [0.41789037],\n",
       "       [0.44791692],\n",
       "       [0.44192833]], dtype=float32)"
      ]
     },
     "execution_count": 68,
     "metadata": {},
     "output_type": "execute_result"
    }
   ],
   "source": [
    "# Datos de prediccion.\n",
    "yhat"
   ]
  },
  {
   "cell_type": "code",
   "execution_count": 69,
   "metadata": {},
   "outputs": [
    {
     "data": {
      "text/plain": [
       "array([[0.6312516 , 0.23655559, 0.5703516 ],\n",
       "       [0.6312516 , 0.28774852, 0.5703516 ],\n",
       "       [0.6312516 , 0.3861732 , 0.5703516 ],\n",
       "       [0.7764791 , 0.20872702, 0.7133417 ],\n",
       "       [0.7764791 , 0.19244435, 0.7133417 ],\n",
       "       [0.7764791 , 0.10211661, 0.7133417 ],\n",
       "       [0.7764791 , 0.1174261 , 0.7133417 ],\n",
       "       [0.89843214, 0.27022076, 0.85642815],\n",
       "       [0.89843214, 0.25771138, 0.85642815],\n",
       "       [0.89843214, 0.07924192, 0.85642815],\n",
       "       [0.89843214, 0.28694546, 0.85642815],\n",
       "       [1.0000001 , 0.        , 1.        ],\n",
       "       [1.0000001 , 0.17980051, 1.        ],\n",
       "       [1.0000001 , 0.14388649, 1.        ]], dtype=float32)"
      ]
     },
     "execution_count": 69,
     "metadata": {},
     "output_type": "execute_result"
    }
   ],
   "source": [
    "#Datos de entrada\n",
    "test_X[:,0:]"
   ]
  },
  {
   "cell_type": "code",
   "execution_count": 70,
   "metadata": {},
   "outputs": [
    {
     "data": {
      "text/plain": [
       "array([[0.34590578, 0.6312516 , 0.23655559, 0.5703516 ],\n",
       "       [0.3542907 , 0.6312516 , 0.28774852, 0.5703516 ],\n",
       "       [0.37040386, 0.6312516 , 0.3861732 , 0.5703516 ],\n",
       "       [0.3802931 , 0.7764791 , 0.20872702, 0.7133417 ],\n",
       "       [0.3776036 , 0.7764791 , 0.19244435, 0.7133417 ],\n",
       "       [0.36267817, 0.7764791 , 0.10211661, 0.7133417 ],\n",
       "       [0.3652083 , 0.7764791 , 0.1174261 , 0.7133417 ],\n",
       "       [0.42755008, 0.89843214, 0.27022076, 0.85642815],\n",
       "       [0.42547545, 0.89843214, 0.25771138, 0.85642815],\n",
       "       [0.39582363, 0.89843214, 0.07924192, 0.85642815],\n",
       "       [0.43032286, 0.89843214, 0.28694546, 0.85642815],\n",
       "       [0.41789037, 1.0000001 , 0.        , 1.        ],\n",
       "       [0.44791692, 1.0000001 , 0.17980051, 1.        ],\n",
       "       [0.44192833, 1.0000001 , 0.14388649, 1.        ]], dtype=float32)"
      ]
     },
     "execution_count": 70,
     "metadata": {},
     "output_type": "execute_result"
    }
   ],
   "source": [
    "# Datos de prediccion +  Datos de prediccion.\n",
    "concatenate((yhat, test_X[:, :]), axis=1)"
   ]
  },
  {
   "cell_type": "code",
   "execution_count": 71,
   "metadata": {},
   "outputs": [
    {
     "data": {
      "text/plain": [
       "array([[2.7123652e+01, 5.2633900e+05, 2.3425704e-01, 2.3447340e+06],\n",
       "       [2.7390043e+01, 5.2633900e+05, 2.8155482e-01, 2.3447340e+06],\n",
       "       [2.7901966e+01, 5.2633900e+05, 3.7249056e-01, 2.3447340e+06],\n",
       "       [2.8216152e+01, 5.6735300e+05, 2.0854589e-01, 2.3698210e+06],\n",
       "       [2.8130705e+01, 5.6735300e+05, 1.9350214e-01, 2.3698210e+06],\n",
       "       [2.7656517e+01, 5.6735300e+05, 1.1004725e-01, 2.3698210e+06],\n",
       "       [2.7736902e+01, 5.6735300e+05, 1.2419187e-01, 2.3698210e+06],\n",
       "       [2.9717529e+01, 6.0179400e+05, 2.6536071e-01, 2.3949250e+06],\n",
       "       [2.9651617e+01, 6.0179400e+05, 2.5380316e-01, 2.3949250e+06],\n",
       "       [2.8709566e+01, 6.0179400e+05, 8.8913046e-02, 2.3949250e+06],\n",
       "       [2.9805620e+01, 6.0179400e+05, 2.8081286e-01, 2.3949250e+06],\n",
       "       [2.9410637e+01, 6.3047800e+05, 1.5700484e-02, 2.4201140e+06],\n",
       "       [3.0364594e+01, 6.3047800e+05, 1.8182035e-01, 2.4201140e+06],\n",
       "       [3.0174334e+01, 6.3047800e+05, 1.4863895e-01, 2.4201140e+06]],\n",
       "      dtype=float32)"
      ]
     },
     "execution_count": 71,
     "metadata": {},
     "output_type": "execute_result"
    }
   ],
   "source": [
    "inv_yhat = concatenate((yhat, test_X[:, :]), axis=1)\n",
    "inv_yhat = scaler.inverse_transform(inv_yhat)\n",
    "inv_yhat"
   ]
  },
  {
   "cell_type": "code",
   "execution_count": 72,
   "metadata": {},
   "outputs": [],
   "source": [
    "inv_yhat = inv_yhat[:,0]"
   ]
  },
  {
   "cell_type": "code",
   "execution_count": 73,
   "metadata": {},
   "outputs": [
    {
     "data": {
      "text/plain": [
       "array([27.123652, 27.390043, 27.901966, 28.216152, 28.130705, 27.656517,\n",
       "       27.736902, 29.71753 , 29.651617, 28.709566, 29.80562 , 29.410637,\n",
       "       30.364594, 30.174334], dtype=float32)"
      ]
     },
     "execution_count": 73,
     "metadata": {},
     "output_type": "execute_result"
    }
   ],
   "source": [
    "inv_yhat"
   ]
  },
  {
   "cell_type": "code",
   "execution_count": 74,
   "metadata": {},
   "outputs": [],
   "source": [
    "# invierco el scalar de la prediccion\n",
    "inv_yhat = concatenate((yhat, test_X[:, :]), axis=1)\n",
    "inv_yhat = scaler.inverse_transform(inv_yhat)\n",
    "inv_yhat = inv_yhat[:,0]\n"
   ]
  },
  {
   "cell_type": "code",
   "execution_count": 75,
   "metadata": {},
   "outputs": [
    {
     "data": {
      "text/plain": [
       "array([27.123652, 27.390043, 27.901966, 28.216152, 28.130705, 27.656517,\n",
       "       27.736902, 29.71753 , 29.651617, 28.709566, 29.80562 , 29.410637,\n",
       "       30.364594, 30.174334], dtype=float32)"
      ]
     },
     "execution_count": 75,
     "metadata": {},
     "output_type": "execute_result"
    }
   ],
   "source": [
    "inv_yhat"
   ]
  },
  {
   "cell_type": "code",
   "execution_count": 76,
   "metadata": {},
   "outputs": [
    {
     "name": "stdout",
     "output_type": "stream",
     "text": [
      "Test RMSE: 9.267\n"
     ]
    }
   ],
   "source": [
    "\n",
    "#Invierco el scalar de los dato reales\n",
    "test_y = test_y.reshape((len(test_y), 1))\n",
    "inv_y = concatenate((test_y, test_X[:, :]), axis=1)\n",
    "inv_y = scaler.inverse_transform(inv_y)\n",
    "inv_y = inv_y[:,0]\n",
    "# calcular RMSE\n",
    "rmse = sqrt(mean_squared_error(inv_y, inv_yhat))\n",
    "print('Test RMSE: %.3f' % rmse)"
   ]
  },
  {
   "cell_type": "code",
   "execution_count": 77,
   "metadata": {},
   "outputs": [
    {
     "data": {
      "text/plain": [
       "array([47.904537, 46.285915, 35.878597, 32.421597, 27.916824, 37.52032 ,\n",
       "       35.772816, 34.02661 , 31.35567 , 22.212193, 20.680435, 25.191208,\n",
       "       28.90586 , 28.345888], dtype=float32)"
      ]
     },
     "execution_count": 77,
     "metadata": {},
     "output_type": "execute_result"
    }
   ],
   "source": [
    "#Datos reales\n",
    "inv_y"
   ]
  },
  {
   "cell_type": "code",
   "execution_count": 78,
   "metadata": {},
   "outputs": [
    {
     "data": {
      "text/plain": [
       "array([27.123652, 27.390043, 27.901966, 28.216152, 28.130705, 27.656517,\n",
       "       27.736902, 29.71753 , 29.651617, 28.709566, 29.80562 , 29.410637,\n",
       "       30.364594, 30.174334], dtype=float32)"
      ]
     },
     "execution_count": 78,
     "metadata": {},
     "output_type": "execute_result"
    }
   ],
   "source": [
    "#Datos prediccion\n",
    "inv_yhat"
   ]
  },
  {
   "cell_type": "code",
   "execution_count": 79,
   "metadata": {},
   "outputs": [],
   "source": [
    "# Vuelvo el modelo un archivo .json\n",
    "model_json = model.to_json()\n",
    "with open(\"../Modelamiento/model.json\", \"w\") as json_file:\n",
    "    json_file.write(model_json)\n",
    "    \n",
    "\n",
    "# Guardar el Modelo\n",
    "model.save_weights('../Modelamiento/LTSM_Cali_3meses.h5')"
   ]
  },
  {
   "cell_type": "code",
   "execution_count": 73,
   "metadata": {},
   "outputs": [
    {
     "data": {
      "text/plain": [
       "<keras.engine.sequential.Sequential at 0x267cd118c08>"
      ]
     },
     "execution_count": 73,
     "metadata": {},
     "output_type": "execute_result"
    }
   ],
   "source": [
    "model"
   ]
  },
  {
   "cell_type": "code",
   "execution_count": 74,
   "metadata": {},
   "outputs": [
    {
     "data": {
      "text/plain": [
       "(23, 4)"
      ]
     },
     "execution_count": 74,
     "metadata": {},
     "output_type": "execute_result"
    }
   ],
   "source": [
    "train.shape"
   ]
  },
  {
   "cell_type": "code",
   "execution_count": 97,
   "metadata": {},
   "outputs": [
    {
     "name": "stdout",
     "output_type": "stream",
     "text": [
      "_________________________________________________________________\n",
      "Layer (type)                 Output Shape              Param #   \n",
      "=================================================================\n",
      "lstm_3 (LSTM)                (None, 50)                10800     \n",
      "_________________________________________________________________\n",
      "dense_3 (Dense)              (None, 1)                 51        \n",
      "=================================================================\n",
      "Total params: 10,851\n",
      "Trainable params: 10,851\n",
      "Non-trainable params: 0\n",
      "_________________________________________________________________\n"
     ]
    }
   ],
   "source": [
    "model.summary()"
   ]
  },
  {
   "cell_type": "code",
   "execution_count": null,
   "metadata": {},
   "outputs": [],
   "source": []
  }
 ],
 "metadata": {
  "kernelspec": {
   "display_name": "Python 3",
   "language": "python",
   "name": "python3"
  },
  "language_info": {
   "codemirror_mode": {
    "name": "ipython",
    "version": 3
   },
   "file_extension": ".py",
   "mimetype": "text/x-python",
   "name": "python",
   "nbconvert_exporter": "python",
   "pygments_lexer": "ipython3",
   "version": "3.7.4"
  }
 },
 "nbformat": 4,
 "nbformat_minor": 2
}
