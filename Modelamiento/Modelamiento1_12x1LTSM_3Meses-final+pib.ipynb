{
 "cells": [
  {
   "cell_type": "code",
   "execution_count": 58,
   "metadata": {},
   "outputs": [],
   "source": [
    "from math import sqrt\n",
    "from numpy import concatenate\n",
    "from matplotlib import pyplot as plt\n",
    "from pandas import read_csv\n",
    "from pandas import DataFrame\n",
    "from pandas import concat\n",
    "from sklearn.preprocessing import MinMaxScaler\n",
    "from sklearn.preprocessing import LabelEncoder\n",
    "from sklearn.metrics import mean_squared_error\n",
    "from sklearn.metrics import r2_score\n",
    "from keras.models import Sequential\n",
    "from keras.layers import Dense\n",
    "from keras.layers import LSTM\n",
    "from tensorflow import keras\n",
    "from keras.models import model_from_json\n",
    "import numpy as np\n",
    "import pandas as pd\n",
    "import time\n",
    "import tensorflow as tf"
   ]
  },
  {
   "cell_type": "code",
   "execution_count": 59,
   "metadata": {},
   "outputs": [],
   "source": [
    "# datos: secuencia de observaciones como una lista o matriz 2D NumPy. Necesario.\n",
    "# n_in: Número de observaciones de retraso como entrada (X). Los valores pueden estar entre [1..len (datos)] Opcional. El valor predeterminado es 1.\n",
    "# n_out: Número de observaciones como salida (y). Los valores pueden estar entre [0..len (datos) -1]. Opcional. Por defecto es 1.\n",
    "# dropnan: booleano si se deben soltar o no filas con valores NaN. Opcional. Por defecto es verdadero.\n",
    "\n",
    "\n",
    "def series_to_supervised(data, n_in=1, n_out=1, dropnan=True):\n",
    "    n_vars = 1 if type(data) is list else data.shape[1]\n",
    "    df = DataFrame(data)\n",
    "    cols, names = list(), list()\n",
    "# observaciones pasadas  (t-n, ... t-1)\n",
    "    for i in range(n_in, 0, -1):\n",
    "        cols.append(df.shift(i))\n",
    "        names += [('var%d(t-%d)' % (j+1, i)) for j in range(n_vars)]\n",
    "# tiempos futuros  (t, t+1, ... t+n)\n",
    "    for i in range(0, n_out):\n",
    "        cols.append(df.shift(-i))\n",
    "        if i == 0:\n",
    "            names += [('var%d(t)' % (j+1)) for j in range(n_vars)]\n",
    "        else:\n",
    "            names += [('var%d(t+%d)' % (j+1, i)) for j in range(n_vars)]\n",
    "    agg = concat(cols, axis=1)\n",
    "    agg.columns = names\n",
    "    if dropnan:\n",
    "        agg.dropna(inplace=True)\n",
    "    return agg"
   ]
  },
  {
   "cell_type": "code",
   "execution_count": 60,
   "metadata": {},
   "outputs": [],
   "source": [
    "data = pd.read_excel('../PreparacionDatos/FloraTotal_3mes_pib.xlsx' , sheet_name='FloraTotal' ,header=0)"
   ]
  },
  {
   "cell_type": "code",
   "execution_count": 61,
   "metadata": {},
   "outputs": [
    {
     "data": {
      "text/plain": [
       "Index(['Unnamed: 0', 'Unnamed: 0.1', 'PM10', 'Motos_vehiculos_particulares',\n",
       "       'Lluvia', 'Poblacion', 'PIB'],\n",
       "      dtype='object')"
      ]
     },
     "execution_count": 61,
     "metadata": {},
     "output_type": "execute_result"
    }
   ],
   "source": [
    "data.columns"
   ]
  },
  {
   "cell_type": "code",
   "execution_count": 62,
   "metadata": {},
   "outputs": [],
   "source": [
    "#Borro solo columnas sin datos\n",
    "\n",
    "data = data.drop(['Unnamed: 0','Unnamed: 0.1'], axis=1)\n"
   ]
  },
  {
   "cell_type": "code",
   "execution_count": 63,
   "metadata": {},
   "outputs": [
    {
     "data": {
      "text/plain": [
       "Index(['PM10', 'Motos_vehiculos_particulares', 'Lluvia', 'Poblacion', 'PIB'], dtype='object')"
      ]
     },
     "execution_count": 63,
     "metadata": {},
     "output_type": "execute_result"
    }
   ],
   "source": [
    "data.columns"
   ]
  },
  {
   "cell_type": "code",
   "execution_count": 64,
   "metadata": {},
   "outputs": [
    {
     "data": {
      "text/html": [
       "<div>\n",
       "<style scoped>\n",
       "    .dataframe tbody tr th:only-of-type {\n",
       "        vertical-align: middle;\n",
       "    }\n",
       "\n",
       "    .dataframe tbody tr th {\n",
       "        vertical-align: top;\n",
       "    }\n",
       "\n",
       "    .dataframe thead th {\n",
       "        text-align: right;\n",
       "    }\n",
       "</style>\n",
       "<table border=\"1\" class=\"dataframe\">\n",
       "  <thead>\n",
       "    <tr style=\"text-align: right;\">\n",
       "      <th></th>\n",
       "      <th>var1(t-1)</th>\n",
       "      <th>var2(t-1)</th>\n",
       "      <th>var3(t-1)</th>\n",
       "      <th>var4(t-1)</th>\n",
       "      <th>var5(t-1)</th>\n",
       "      <th>var1(t)</th>\n",
       "      <th>var2(t)</th>\n",
       "      <th>var3(t)</th>\n",
       "      <th>var4(t)</th>\n",
       "      <th>var5(t)</th>\n",
       "    </tr>\n",
       "  </thead>\n",
       "  <tbody>\n",
       "    <tr>\n",
       "      <td>1</td>\n",
       "      <td>24.953753</td>\n",
       "      <td>348066.0</td>\n",
       "      <td>0.939613</td>\n",
       "      <td>2244668.0</td>\n",
       "      <td>12368151.0</td>\n",
       "      <td>19.868654</td>\n",
       "      <td>348066</td>\n",
       "      <td>0.382813</td>\n",
       "      <td>2244668</td>\n",
       "      <td>12368151</td>\n",
       "    </tr>\n",
       "    <tr>\n",
       "      <td>2</td>\n",
       "      <td>19.868654</td>\n",
       "      <td>348066.0</td>\n",
       "      <td>0.382813</td>\n",
       "      <td>2244668.0</td>\n",
       "      <td>12368151.0</td>\n",
       "      <td>27.656900</td>\n",
       "      <td>348066</td>\n",
       "      <td>0.263172</td>\n",
       "      <td>2244668</td>\n",
       "      <td>12368151</td>\n",
       "    </tr>\n",
       "    <tr>\n",
       "      <td>3</td>\n",
       "      <td>27.656900</td>\n",
       "      <td>348066.0</td>\n",
       "      <td>0.263172</td>\n",
       "      <td>2244668.0</td>\n",
       "      <td>12368151.0</td>\n",
       "      <td>26.076992</td>\n",
       "      <td>348066</td>\n",
       "      <td>0.572834</td>\n",
       "      <td>2244668</td>\n",
       "      <td>12368151</td>\n",
       "    </tr>\n",
       "    <tr>\n",
       "      <td>4</td>\n",
       "      <td>26.076992</td>\n",
       "      <td>348066.0</td>\n",
       "      <td>0.572834</td>\n",
       "      <td>2244668.0</td>\n",
       "      <td>12368151.0</td>\n",
       "      <td>27.081070</td>\n",
       "      <td>391327</td>\n",
       "      <td>0.190382</td>\n",
       "      <td>2269653</td>\n",
       "      <td>13201435</td>\n",
       "    </tr>\n",
       "    <tr>\n",
       "      <td>5</td>\n",
       "      <td>27.081070</td>\n",
       "      <td>391327.0</td>\n",
       "      <td>0.190382</td>\n",
       "      <td>2269653.0</td>\n",
       "      <td>13201435.0</td>\n",
       "      <td>24.417490</td>\n",
       "      <td>391327</td>\n",
       "      <td>0.413592</td>\n",
       "      <td>2269653</td>\n",
       "      <td>13201435</td>\n",
       "    </tr>\n",
       "    <tr>\n",
       "      <td>6</td>\n",
       "      <td>24.417490</td>\n",
       "      <td>391327.0</td>\n",
       "      <td>0.413592</td>\n",
       "      <td>2269653.0</td>\n",
       "      <td>13201435.0</td>\n",
       "      <td>33.543011</td>\n",
       "      <td>391327</td>\n",
       "      <td>0.408934</td>\n",
       "      <td>2269653</td>\n",
       "      <td>13201435</td>\n",
       "    </tr>\n",
       "    <tr>\n",
       "      <td>7</td>\n",
       "      <td>33.543011</td>\n",
       "      <td>391327.0</td>\n",
       "      <td>0.408934</td>\n",
       "      <td>2269653.0</td>\n",
       "      <td>13201435.0</td>\n",
       "      <td>26.189116</td>\n",
       "      <td>391327</td>\n",
       "      <td>0.595508</td>\n",
       "      <td>2269653</td>\n",
       "      <td>13201435</td>\n",
       "    </tr>\n",
       "    <tr>\n",
       "      <td>8</td>\n",
       "      <td>26.189116</td>\n",
       "      <td>391327.0</td>\n",
       "      <td>0.595508</td>\n",
       "      <td>2269653.0</td>\n",
       "      <td>13201435.0</td>\n",
       "      <td>28.528126</td>\n",
       "      <td>438769</td>\n",
       "      <td>0.060729</td>\n",
       "      <td>2294653</td>\n",
       "      <td>13978550</td>\n",
       "    </tr>\n",
       "    <tr>\n",
       "      <td>9</td>\n",
       "      <td>28.528126</td>\n",
       "      <td>438769.0</td>\n",
       "      <td>0.060729</td>\n",
       "      <td>2294653.0</td>\n",
       "      <td>13978550.0</td>\n",
       "      <td>16.134058</td>\n",
       "      <td>438769</td>\n",
       "      <td>0.426957</td>\n",
       "      <td>2294653</td>\n",
       "      <td>13978550</td>\n",
       "    </tr>\n",
       "    <tr>\n",
       "      <td>10</td>\n",
       "      <td>16.134058</td>\n",
       "      <td>438769.0</td>\n",
       "      <td>0.426957</td>\n",
       "      <td>2294653.0</td>\n",
       "      <td>13978550.0</td>\n",
       "      <td>28.120001</td>\n",
       "      <td>438769</td>\n",
       "      <td>0.107707</td>\n",
       "      <td>2294653</td>\n",
       "      <td>13978550</td>\n",
       "    </tr>\n",
       "    <tr>\n",
       "      <td>11</td>\n",
       "      <td>28.120001</td>\n",
       "      <td>438769.0</td>\n",
       "      <td>0.107707</td>\n",
       "      <td>2294653.0</td>\n",
       "      <td>13978550.0</td>\n",
       "      <td>25.519133</td>\n",
       "      <td>438769</td>\n",
       "      <td>0.419806</td>\n",
       "      <td>2294653</td>\n",
       "      <td>13978550</td>\n",
       "    </tr>\n",
       "    <tr>\n",
       "      <td>12</td>\n",
       "      <td>25.519133</td>\n",
       "      <td>438769.0</td>\n",
       "      <td>0.419806</td>\n",
       "      <td>2294653.0</td>\n",
       "      <td>13978550.0</td>\n",
       "      <td>19.838018</td>\n",
       "      <td>484119</td>\n",
       "      <td>0.185106</td>\n",
       "      <td>2319684</td>\n",
       "      <td>14759256</td>\n",
       "    </tr>\n",
       "    <tr>\n",
       "      <td>13</td>\n",
       "      <td>19.838018</td>\n",
       "      <td>484119.0</td>\n",
       "      <td>0.185106</td>\n",
       "      <td>2319684.0</td>\n",
       "      <td>14759256.0</td>\n",
       "      <td>22.679886</td>\n",
       "      <td>484119</td>\n",
       "      <td>0.276111</td>\n",
       "      <td>2319684</td>\n",
       "      <td>14759256</td>\n",
       "    </tr>\n",
       "    <tr>\n",
       "      <td>14</td>\n",
       "      <td>22.679886</td>\n",
       "      <td>484119.0</td>\n",
       "      <td>0.276111</td>\n",
       "      <td>2319684.0</td>\n",
       "      <td>14759256.0</td>\n",
       "      <td>18.081238</td>\n",
       "      <td>484119</td>\n",
       "      <td>0.134173</td>\n",
       "      <td>2319684</td>\n",
       "      <td>14759256</td>\n",
       "    </tr>\n",
       "    <tr>\n",
       "      <td>15</td>\n",
       "      <td>18.081238</td>\n",
       "      <td>484119.0</td>\n",
       "      <td>0.134173</td>\n",
       "      <td>2319684.0</td>\n",
       "      <td>14759256.0</td>\n",
       "      <td>31.919754</td>\n",
       "      <td>484119</td>\n",
       "      <td>0.472869</td>\n",
       "      <td>2319684</td>\n",
       "      <td>14759256</td>\n",
       "    </tr>\n",
       "    <tr>\n",
       "      <td>16</td>\n",
       "      <td>31.919754</td>\n",
       "      <td>484119.0</td>\n",
       "      <td>0.472869</td>\n",
       "      <td>2319684.0</td>\n",
       "      <td>14759256.0</td>\n",
       "      <td>47.482609</td>\n",
       "      <td>526339</td>\n",
       "      <td>0.215647</td>\n",
       "      <td>2344734</td>\n",
       "      <td>15826755</td>\n",
       "    </tr>\n",
       "    <tr>\n",
       "      <td>17</td>\n",
       "      <td>47.482609</td>\n",
       "      <td>526339.0</td>\n",
       "      <td>0.215647</td>\n",
       "      <td>2344734.0</td>\n",
       "      <td>15826755.0</td>\n",
       "      <td>38.531296</td>\n",
       "      <td>526339</td>\n",
       "      <td>0.234257</td>\n",
       "      <td>2344734</td>\n",
       "      <td>15826755</td>\n",
       "    </tr>\n",
       "    <tr>\n",
       "      <td>18</td>\n",
       "      <td>38.531296</td>\n",
       "      <td>526339.0</td>\n",
       "      <td>0.234257</td>\n",
       "      <td>2344734.0</td>\n",
       "      <td>15826755.0</td>\n",
       "      <td>47.904537</td>\n",
       "      <td>526339</td>\n",
       "      <td>0.281555</td>\n",
       "      <td>2344734</td>\n",
       "      <td>15826755</td>\n",
       "    </tr>\n",
       "    <tr>\n",
       "      <td>19</td>\n",
       "      <td>47.904537</td>\n",
       "      <td>526339.0</td>\n",
       "      <td>0.281555</td>\n",
       "      <td>2344734.0</td>\n",
       "      <td>15826755.0</td>\n",
       "      <td>46.285915</td>\n",
       "      <td>526339</td>\n",
       "      <td>0.372491</td>\n",
       "      <td>2344734</td>\n",
       "      <td>15826755</td>\n",
       "    </tr>\n",
       "    <tr>\n",
       "      <td>20</td>\n",
       "      <td>46.285915</td>\n",
       "      <td>526339.0</td>\n",
       "      <td>0.372491</td>\n",
       "      <td>2344734.0</td>\n",
       "      <td>15826755.0</td>\n",
       "      <td>35.878597</td>\n",
       "      <td>567353</td>\n",
       "      <td>0.208546</td>\n",
       "      <td>2369821</td>\n",
       "      <td>16922326</td>\n",
       "    </tr>\n",
       "    <tr>\n",
       "      <td>21</td>\n",
       "      <td>35.878597</td>\n",
       "      <td>567353.0</td>\n",
       "      <td>0.208546</td>\n",
       "      <td>2369821.0</td>\n",
       "      <td>16922326.0</td>\n",
       "      <td>32.421597</td>\n",
       "      <td>567353</td>\n",
       "      <td>0.193502</td>\n",
       "      <td>2369821</td>\n",
       "      <td>16922326</td>\n",
       "    </tr>\n",
       "    <tr>\n",
       "      <td>22</td>\n",
       "      <td>32.421597</td>\n",
       "      <td>567353.0</td>\n",
       "      <td>0.193502</td>\n",
       "      <td>2369821.0</td>\n",
       "      <td>16922326.0</td>\n",
       "      <td>27.916824</td>\n",
       "      <td>567353</td>\n",
       "      <td>0.110047</td>\n",
       "      <td>2369821</td>\n",
       "      <td>16922326</td>\n",
       "    </tr>\n",
       "    <tr>\n",
       "      <td>23</td>\n",
       "      <td>27.916824</td>\n",
       "      <td>567353.0</td>\n",
       "      <td>0.110047</td>\n",
       "      <td>2369821.0</td>\n",
       "      <td>16922326.0</td>\n",
       "      <td>37.520321</td>\n",
       "      <td>567353</td>\n",
       "      <td>0.124192</td>\n",
       "      <td>2369821</td>\n",
       "      <td>16922326</td>\n",
       "    </tr>\n",
       "    <tr>\n",
       "      <td>24</td>\n",
       "      <td>37.520321</td>\n",
       "      <td>567353.0</td>\n",
       "      <td>0.124192</td>\n",
       "      <td>2369821.0</td>\n",
       "      <td>16922326.0</td>\n",
       "      <td>35.772816</td>\n",
       "      <td>601794</td>\n",
       "      <td>0.265361</td>\n",
       "      <td>2394925</td>\n",
       "      <td>18259330</td>\n",
       "    </tr>\n",
       "    <tr>\n",
       "      <td>25</td>\n",
       "      <td>35.772816</td>\n",
       "      <td>601794.0</td>\n",
       "      <td>0.265361</td>\n",
       "      <td>2394925.0</td>\n",
       "      <td>18259330.0</td>\n",
       "      <td>34.026611</td>\n",
       "      <td>601794</td>\n",
       "      <td>0.253803</td>\n",
       "      <td>2394925</td>\n",
       "      <td>18259330</td>\n",
       "    </tr>\n",
       "    <tr>\n",
       "      <td>26</td>\n",
       "      <td>34.026611</td>\n",
       "      <td>601794.0</td>\n",
       "      <td>0.253803</td>\n",
       "      <td>2394925.0</td>\n",
       "      <td>18259330.0</td>\n",
       "      <td>31.355671</td>\n",
       "      <td>601794</td>\n",
       "      <td>0.088913</td>\n",
       "      <td>2394925</td>\n",
       "      <td>18259330</td>\n",
       "    </tr>\n",
       "    <tr>\n",
       "      <td>27</td>\n",
       "      <td>31.355671</td>\n",
       "      <td>601794.0</td>\n",
       "      <td>0.088913</td>\n",
       "      <td>2394925.0</td>\n",
       "      <td>18259330.0</td>\n",
       "      <td>22.212193</td>\n",
       "      <td>601794</td>\n",
       "      <td>0.280813</td>\n",
       "      <td>2394925</td>\n",
       "      <td>18259330</td>\n",
       "    </tr>\n",
       "    <tr>\n",
       "      <td>28</td>\n",
       "      <td>22.212193</td>\n",
       "      <td>601794.0</td>\n",
       "      <td>0.280813</td>\n",
       "      <td>2394925.0</td>\n",
       "      <td>18259330.0</td>\n",
       "      <td>20.680435</td>\n",
       "      <td>630478</td>\n",
       "      <td>0.015700</td>\n",
       "      <td>2420114</td>\n",
       "      <td>19065590</td>\n",
       "    </tr>\n",
       "    <tr>\n",
       "      <td>29</td>\n",
       "      <td>20.680435</td>\n",
       "      <td>630478.0</td>\n",
       "      <td>0.015700</td>\n",
       "      <td>2420114.0</td>\n",
       "      <td>19065590.0</td>\n",
       "      <td>25.191208</td>\n",
       "      <td>630478</td>\n",
       "      <td>0.181820</td>\n",
       "      <td>2420114</td>\n",
       "      <td>19065590</td>\n",
       "    </tr>\n",
       "    <tr>\n",
       "      <td>30</td>\n",
       "      <td>25.191208</td>\n",
       "      <td>630478.0</td>\n",
       "      <td>0.181820</td>\n",
       "      <td>2420114.0</td>\n",
       "      <td>19065590.0</td>\n",
       "      <td>28.905861</td>\n",
       "      <td>630478</td>\n",
       "      <td>0.148639</td>\n",
       "      <td>2420114</td>\n",
       "      <td>19065590</td>\n",
       "    </tr>\n",
       "    <tr>\n",
       "      <td>31</td>\n",
       "      <td>28.905861</td>\n",
       "      <td>630478.0</td>\n",
       "      <td>0.148639</td>\n",
       "      <td>2420114.0</td>\n",
       "      <td>19065590.0</td>\n",
       "      <td>28.345888</td>\n",
       "      <td>630478</td>\n",
       "      <td>0.220213</td>\n",
       "      <td>2420114</td>\n",
       "      <td>19065590</td>\n",
       "    </tr>\n",
       "  </tbody>\n",
       "</table>\n",
       "</div>"
      ],
      "text/plain": [
       "    var1(t-1)  var2(t-1)  var3(t-1)  var4(t-1)   var5(t-1)    var1(t)  \\\n",
       "1   24.953753   348066.0   0.939613  2244668.0  12368151.0  19.868654   \n",
       "2   19.868654   348066.0   0.382813  2244668.0  12368151.0  27.656900   \n",
       "3   27.656900   348066.0   0.263172  2244668.0  12368151.0  26.076992   \n",
       "4   26.076992   348066.0   0.572834  2244668.0  12368151.0  27.081070   \n",
       "5   27.081070   391327.0   0.190382  2269653.0  13201435.0  24.417490   \n",
       "6   24.417490   391327.0   0.413592  2269653.0  13201435.0  33.543011   \n",
       "7   33.543011   391327.0   0.408934  2269653.0  13201435.0  26.189116   \n",
       "8   26.189116   391327.0   0.595508  2269653.0  13201435.0  28.528126   \n",
       "9   28.528126   438769.0   0.060729  2294653.0  13978550.0  16.134058   \n",
       "10  16.134058   438769.0   0.426957  2294653.0  13978550.0  28.120001   \n",
       "11  28.120001   438769.0   0.107707  2294653.0  13978550.0  25.519133   \n",
       "12  25.519133   438769.0   0.419806  2294653.0  13978550.0  19.838018   \n",
       "13  19.838018   484119.0   0.185106  2319684.0  14759256.0  22.679886   \n",
       "14  22.679886   484119.0   0.276111  2319684.0  14759256.0  18.081238   \n",
       "15  18.081238   484119.0   0.134173  2319684.0  14759256.0  31.919754   \n",
       "16  31.919754   484119.0   0.472869  2319684.0  14759256.0  47.482609   \n",
       "17  47.482609   526339.0   0.215647  2344734.0  15826755.0  38.531296   \n",
       "18  38.531296   526339.0   0.234257  2344734.0  15826755.0  47.904537   \n",
       "19  47.904537   526339.0   0.281555  2344734.0  15826755.0  46.285915   \n",
       "20  46.285915   526339.0   0.372491  2344734.0  15826755.0  35.878597   \n",
       "21  35.878597   567353.0   0.208546  2369821.0  16922326.0  32.421597   \n",
       "22  32.421597   567353.0   0.193502  2369821.0  16922326.0  27.916824   \n",
       "23  27.916824   567353.0   0.110047  2369821.0  16922326.0  37.520321   \n",
       "24  37.520321   567353.0   0.124192  2369821.0  16922326.0  35.772816   \n",
       "25  35.772816   601794.0   0.265361  2394925.0  18259330.0  34.026611   \n",
       "26  34.026611   601794.0   0.253803  2394925.0  18259330.0  31.355671   \n",
       "27  31.355671   601794.0   0.088913  2394925.0  18259330.0  22.212193   \n",
       "28  22.212193   601794.0   0.280813  2394925.0  18259330.0  20.680435   \n",
       "29  20.680435   630478.0   0.015700  2420114.0  19065590.0  25.191208   \n",
       "30  25.191208   630478.0   0.181820  2420114.0  19065590.0  28.905861   \n",
       "31  28.905861   630478.0   0.148639  2420114.0  19065590.0  28.345888   \n",
       "\n",
       "    var2(t)   var3(t)  var4(t)   var5(t)  \n",
       "1    348066  0.382813  2244668  12368151  \n",
       "2    348066  0.263172  2244668  12368151  \n",
       "3    348066  0.572834  2244668  12368151  \n",
       "4    391327  0.190382  2269653  13201435  \n",
       "5    391327  0.413592  2269653  13201435  \n",
       "6    391327  0.408934  2269653  13201435  \n",
       "7    391327  0.595508  2269653  13201435  \n",
       "8    438769  0.060729  2294653  13978550  \n",
       "9    438769  0.426957  2294653  13978550  \n",
       "10   438769  0.107707  2294653  13978550  \n",
       "11   438769  0.419806  2294653  13978550  \n",
       "12   484119  0.185106  2319684  14759256  \n",
       "13   484119  0.276111  2319684  14759256  \n",
       "14   484119  0.134173  2319684  14759256  \n",
       "15   484119  0.472869  2319684  14759256  \n",
       "16   526339  0.215647  2344734  15826755  \n",
       "17   526339  0.234257  2344734  15826755  \n",
       "18   526339  0.281555  2344734  15826755  \n",
       "19   526339  0.372491  2344734  15826755  \n",
       "20   567353  0.208546  2369821  16922326  \n",
       "21   567353  0.193502  2369821  16922326  \n",
       "22   567353  0.110047  2369821  16922326  \n",
       "23   567353  0.124192  2369821  16922326  \n",
       "24   601794  0.265361  2394925  18259330  \n",
       "25   601794  0.253803  2394925  18259330  \n",
       "26   601794  0.088913  2394925  18259330  \n",
       "27   601794  0.280813  2394925  18259330  \n",
       "28   630478  0.015700  2420114  19065590  \n",
       "29   630478  0.181820  2420114  19065590  \n",
       "30   630478  0.148639  2420114  19065590  \n",
       "31   630478  0.220213  2420114  19065590  "
      ]
     },
     "execution_count": 64,
     "metadata": {},
     "output_type": "execute_result"
    }
   ],
   "source": [
    "series_to_supervised(data, 1, 1)"
   ]
  },
  {
   "cell_type": "code",
   "execution_count": 65,
   "metadata": {},
   "outputs": [
    {
     "data": {
      "text/html": [
       "<div>\n",
       "<style scoped>\n",
       "    .dataframe tbody tr th:only-of-type {\n",
       "        vertical-align: middle;\n",
       "    }\n",
       "\n",
       "    .dataframe tbody tr th {\n",
       "        vertical-align: top;\n",
       "    }\n",
       "\n",
       "    .dataframe thead th {\n",
       "        text-align: right;\n",
       "    }\n",
       "</style>\n",
       "<table border=\"1\" class=\"dataframe\">\n",
       "  <thead>\n",
       "    <tr style=\"text-align: right;\">\n",
       "      <th></th>\n",
       "      <th>PM10</th>\n",
       "      <th>Motos_vehiculos_particulares</th>\n",
       "      <th>Lluvia</th>\n",
       "      <th>Poblacion</th>\n",
       "      <th>PIB</th>\n",
       "    </tr>\n",
       "  </thead>\n",
       "  <tbody>\n",
       "    <tr>\n",
       "      <td>count</td>\n",
       "      <td>32.000000</td>\n",
       "      <td>32.000000</td>\n",
       "      <td>32.000000</td>\n",
       "      <td>3.200000e+01</td>\n",
       "      <td>3.200000e+01</td>\n",
       "    </tr>\n",
       "    <tr>\n",
       "      <td>mean</td>\n",
       "      <td>29.407487</td>\n",
       "      <td>498530.625000</td>\n",
       "      <td>0.282681</td>\n",
       "      <td>2.332282e+06</td>\n",
       "      <td>1.554767e+07</td>\n",
       "    </tr>\n",
       "    <tr>\n",
       "      <td>std</td>\n",
       "      <td>8.065527</td>\n",
       "      <td>96047.452489</td>\n",
       "      <td>0.186494</td>\n",
       "      <td>5.833838e+04</td>\n",
       "      <td>2.283018e+06</td>\n",
       "    </tr>\n",
       "    <tr>\n",
       "      <td>min</td>\n",
       "      <td>16.134058</td>\n",
       "      <td>348066.000000</td>\n",
       "      <td>0.015700</td>\n",
       "      <td>2.244668e+06</td>\n",
       "      <td>1.236815e+07</td>\n",
       "    </tr>\n",
       "    <tr>\n",
       "      <td>25%</td>\n",
       "      <td>24.819687</td>\n",
       "      <td>426908.500000</td>\n",
       "      <td>0.173525</td>\n",
       "      <td>2.288403e+06</td>\n",
       "      <td>1.378427e+07</td>\n",
       "    </tr>\n",
       "    <tr>\n",
       "      <td>50%</td>\n",
       "      <td>28.018413</td>\n",
       "      <td>505229.000000</td>\n",
       "      <td>0.244030</td>\n",
       "      <td>2.332209e+06</td>\n",
       "      <td>1.529301e+07</td>\n",
       "    </tr>\n",
       "    <tr>\n",
       "      <td>75%</td>\n",
       "      <td>33.663911</td>\n",
       "      <td>575963.250000</td>\n",
       "      <td>0.389344</td>\n",
       "      <td>2.376097e+06</td>\n",
       "      <td>1.725658e+07</td>\n",
       "    </tr>\n",
       "    <tr>\n",
       "      <td>max</td>\n",
       "      <td>47.904537</td>\n",
       "      <td>630478.000000</td>\n",
       "      <td>0.939613</td>\n",
       "      <td>2.420114e+06</td>\n",
       "      <td>1.906559e+07</td>\n",
       "    </tr>\n",
       "  </tbody>\n",
       "</table>\n",
       "</div>"
      ],
      "text/plain": [
       "            PM10  Motos_vehiculos_particulares     Lluvia     Poblacion  \\\n",
       "count  32.000000                     32.000000  32.000000  3.200000e+01   \n",
       "mean   29.407487                 498530.625000   0.282681  2.332282e+06   \n",
       "std     8.065527                  96047.452489   0.186494  5.833838e+04   \n",
       "min    16.134058                 348066.000000   0.015700  2.244668e+06   \n",
       "25%    24.819687                 426908.500000   0.173525  2.288403e+06   \n",
       "50%    28.018413                 505229.000000   0.244030  2.332209e+06   \n",
       "75%    33.663911                 575963.250000   0.389344  2.376097e+06   \n",
       "max    47.904537                 630478.000000   0.939613  2.420114e+06   \n",
       "\n",
       "                PIB  \n",
       "count  3.200000e+01  \n",
       "mean   1.554767e+07  \n",
       "std    2.283018e+06  \n",
       "min    1.236815e+07  \n",
       "25%    1.378427e+07  \n",
       "50%    1.529301e+07  \n",
       "75%    1.725658e+07  \n",
       "max    1.906559e+07  "
      ]
     },
     "execution_count": 65,
     "metadata": {},
     "output_type": "execute_result"
    }
   ],
   "source": [
    "\n",
    "\n",
    "data.describe()"
   ]
  },
  {
   "cell_type": "code",
   "execution_count": 66,
   "metadata": {},
   "outputs": [
    {
     "data": {
      "image/png": "[encoded data removed]",
      "text/plain": [
       "<Figure size 432x288 with 5 Axes>"
      ]
     },
     "metadata": {
      "needs_background": "light"
     },
     "output_type": "display_data"
    },
    {
     "data": {
      "text/plain": [
       "<Figure size 1728x432 with 0 Axes>"
      ]
     },
     "metadata": {},
     "output_type": "display_data"
    }
   ],
   "source": [
    "# Reprecentacion de los datos.\n",
    "from matplotlib import pyplot\n",
    "groups = [0,1,2,3,4]\n",
    "i = 1\n",
    "values = data.values\n",
    "pyplot.figure()\n",
    "for group in groups:\n",
    "    pyplot.subplot(len(groups), 1, i)\n",
    "    pyplot.plot(values[:, group])\n",
    "    pyplot.title(data.columns[group], y=0.5, loc='right')\n",
    "    i += 1\n",
    "pyplot.figure(figsize=(24,6))\n",
    "pyplot.show()"
   ]
  },
  {
   "cell_type": "code",
   "execution_count": 67,
   "metadata": {},
   "outputs": [
    {
     "data": {
      "text/html": [
       "<div>\n",
       "<style scoped>\n",
       "    .dataframe tbody tr th:only-of-type {\n",
       "        vertical-align: middle;\n",
       "    }\n",
       "\n",
       "    .dataframe tbody tr th {\n",
       "        vertical-align: top;\n",
       "    }\n",
       "\n",
       "    .dataframe thead th {\n",
       "        text-align: right;\n",
       "    }\n",
       "</style>\n",
       "<table border=\"1\" class=\"dataframe\">\n",
       "  <thead>\n",
       "    <tr style=\"text-align: right;\">\n",
       "      <th></th>\n",
       "      <th>PM10</th>\n",
       "      <th>Motos_vehiculos_particulares</th>\n",
       "      <th>Lluvia</th>\n",
       "      <th>Poblacion</th>\n",
       "      <th>PIB</th>\n",
       "    </tr>\n",
       "  </thead>\n",
       "  <tbody>\n",
       "    <tr>\n",
       "      <td>0</td>\n",
       "      <td>24.953753</td>\n",
       "      <td>348066</td>\n",
       "      <td>0.939613</td>\n",
       "      <td>2244668</td>\n",
       "      <td>12368151</td>\n",
       "    </tr>\n",
       "    <tr>\n",
       "      <td>1</td>\n",
       "      <td>19.868654</td>\n",
       "      <td>348066</td>\n",
       "      <td>0.382813</td>\n",
       "      <td>2244668</td>\n",
       "      <td>12368151</td>\n",
       "    </tr>\n",
       "    <tr>\n",
       "      <td>2</td>\n",
       "      <td>27.656900</td>\n",
       "      <td>348066</td>\n",
       "      <td>0.263172</td>\n",
       "      <td>2244668</td>\n",
       "      <td>12368151</td>\n",
       "    </tr>\n",
       "    <tr>\n",
       "      <td>3</td>\n",
       "      <td>26.076992</td>\n",
       "      <td>348066</td>\n",
       "      <td>0.572834</td>\n",
       "      <td>2244668</td>\n",
       "      <td>12368151</td>\n",
       "    </tr>\n",
       "    <tr>\n",
       "      <td>4</td>\n",
       "      <td>27.081070</td>\n",
       "      <td>391327</td>\n",
       "      <td>0.190382</td>\n",
       "      <td>2269653</td>\n",
       "      <td>13201435</td>\n",
       "    </tr>\n",
       "    <tr>\n",
       "      <td>5</td>\n",
       "      <td>24.417490</td>\n",
       "      <td>391327</td>\n",
       "      <td>0.413592</td>\n",
       "      <td>2269653</td>\n",
       "      <td>13201435</td>\n",
       "    </tr>\n",
       "    <tr>\n",
       "      <td>6</td>\n",
       "      <td>33.543011</td>\n",
       "      <td>391327</td>\n",
       "      <td>0.408934</td>\n",
       "      <td>2269653</td>\n",
       "      <td>13201435</td>\n",
       "    </tr>\n",
       "    <tr>\n",
       "      <td>7</td>\n",
       "      <td>26.189116</td>\n",
       "      <td>391327</td>\n",
       "      <td>0.595508</td>\n",
       "      <td>2269653</td>\n",
       "      <td>13201435</td>\n",
       "    </tr>\n",
       "    <tr>\n",
       "      <td>8</td>\n",
       "      <td>28.528126</td>\n",
       "      <td>438769</td>\n",
       "      <td>0.060729</td>\n",
       "      <td>2294653</td>\n",
       "      <td>13978550</td>\n",
       "    </tr>\n",
       "    <tr>\n",
       "      <td>9</td>\n",
       "      <td>16.134058</td>\n",
       "      <td>438769</td>\n",
       "      <td>0.426957</td>\n",
       "      <td>2294653</td>\n",
       "      <td>13978550</td>\n",
       "    </tr>\n",
       "    <tr>\n",
       "      <td>10</td>\n",
       "      <td>28.120001</td>\n",
       "      <td>438769</td>\n",
       "      <td>0.107707</td>\n",
       "      <td>2294653</td>\n",
       "      <td>13978550</td>\n",
       "    </tr>\n",
       "    <tr>\n",
       "      <td>11</td>\n",
       "      <td>25.519133</td>\n",
       "      <td>438769</td>\n",
       "      <td>0.419806</td>\n",
       "      <td>2294653</td>\n",
       "      <td>13978550</td>\n",
       "    </tr>\n",
       "    <tr>\n",
       "      <td>12</td>\n",
       "      <td>19.838018</td>\n",
       "      <td>484119</td>\n",
       "      <td>0.185106</td>\n",
       "      <td>2319684</td>\n",
       "      <td>14759256</td>\n",
       "    </tr>\n",
       "    <tr>\n",
       "      <td>13</td>\n",
       "      <td>22.679886</td>\n",
       "      <td>484119</td>\n",
       "      <td>0.276111</td>\n",
       "      <td>2319684</td>\n",
       "      <td>14759256</td>\n",
       "    </tr>\n",
       "    <tr>\n",
       "      <td>14</td>\n",
       "      <td>18.081238</td>\n",
       "      <td>484119</td>\n",
       "      <td>0.134173</td>\n",
       "      <td>2319684</td>\n",
       "      <td>14759256</td>\n",
       "    </tr>\n",
       "    <tr>\n",
       "      <td>15</td>\n",
       "      <td>31.919754</td>\n",
       "      <td>484119</td>\n",
       "      <td>0.472869</td>\n",
       "      <td>2319684</td>\n",
       "      <td>14759256</td>\n",
       "    </tr>\n",
       "    <tr>\n",
       "      <td>16</td>\n",
       "      <td>47.482609</td>\n",
       "      <td>526339</td>\n",
       "      <td>0.215647</td>\n",
       "      <td>2344734</td>\n",
       "      <td>15826755</td>\n",
       "    </tr>\n",
       "    <tr>\n",
       "      <td>17</td>\n",
       "      <td>38.531296</td>\n",
       "      <td>526339</td>\n",
       "      <td>0.234257</td>\n",
       "      <td>2344734</td>\n",
       "      <td>15826755</td>\n",
       "    </tr>\n",
       "    <tr>\n",
       "      <td>18</td>\n",
       "      <td>47.904537</td>\n",
       "      <td>526339</td>\n",
       "      <td>0.281555</td>\n",
       "      <td>2344734</td>\n",
       "      <td>15826755</td>\n",
       "    </tr>\n",
       "    <tr>\n",
       "      <td>19</td>\n",
       "      <td>46.285915</td>\n",
       "      <td>526339</td>\n",
       "      <td>0.372491</td>\n",
       "      <td>2344734</td>\n",
       "      <td>15826755</td>\n",
       "    </tr>\n",
       "    <tr>\n",
       "      <td>20</td>\n",
       "      <td>35.878597</td>\n",
       "      <td>567353</td>\n",
       "      <td>0.208546</td>\n",
       "      <td>2369821</td>\n",
       "      <td>16922326</td>\n",
       "    </tr>\n",
       "    <tr>\n",
       "      <td>21</td>\n",
       "      <td>32.421597</td>\n",
       "      <td>567353</td>\n",
       "      <td>0.193502</td>\n",
       "      <td>2369821</td>\n",
       "      <td>16922326</td>\n",
       "    </tr>\n",
       "    <tr>\n",
       "      <td>22</td>\n",
       "      <td>27.916824</td>\n",
       "      <td>567353</td>\n",
       "      <td>0.110047</td>\n",
       "      <td>2369821</td>\n",
       "      <td>16922326</td>\n",
       "    </tr>\n",
       "    <tr>\n",
       "      <td>23</td>\n",
       "      <td>37.520321</td>\n",
       "      <td>567353</td>\n",
       "      <td>0.124192</td>\n",
       "      <td>2369821</td>\n",
       "      <td>16922326</td>\n",
       "    </tr>\n",
       "    <tr>\n",
       "      <td>24</td>\n",
       "      <td>35.772816</td>\n",
       "      <td>601794</td>\n",
       "      <td>0.265361</td>\n",
       "      <td>2394925</td>\n",
       "      <td>18259330</td>\n",
       "    </tr>\n",
       "    <tr>\n",
       "      <td>25</td>\n",
       "      <td>34.026611</td>\n",
       "      <td>601794</td>\n",
       "      <td>0.253803</td>\n",
       "      <td>2394925</td>\n",
       "      <td>18259330</td>\n",
       "    </tr>\n",
       "    <tr>\n",
       "      <td>26</td>\n",
       "      <td>31.355671</td>\n",
       "      <td>601794</td>\n",
       "      <td>0.088913</td>\n",
       "      <td>2394925</td>\n",
       "      <td>18259330</td>\n",
       "    </tr>\n",
       "    <tr>\n",
       "      <td>27</td>\n",
       "      <td>22.212193</td>\n",
       "      <td>601794</td>\n",
       "      <td>0.280813</td>\n",
       "      <td>2394925</td>\n",
       "      <td>18259330</td>\n",
       "    </tr>\n",
       "    <tr>\n",
       "      <td>28</td>\n",
       "      <td>20.680435</td>\n",
       "      <td>630478</td>\n",
       "      <td>0.015700</td>\n",
       "      <td>2420114</td>\n",
       "      <td>19065590</td>\n",
       "    </tr>\n",
       "    <tr>\n",
       "      <td>29</td>\n",
       "      <td>25.191208</td>\n",
       "      <td>630478</td>\n",
       "      <td>0.181820</td>\n",
       "      <td>2420114</td>\n",
       "      <td>19065590</td>\n",
       "    </tr>\n",
       "    <tr>\n",
       "      <td>30</td>\n",
       "      <td>28.905861</td>\n",
       "      <td>630478</td>\n",
       "      <td>0.148639</td>\n",
       "      <td>2420114</td>\n",
       "      <td>19065590</td>\n",
       "    </tr>\n",
       "    <tr>\n",
       "      <td>31</td>\n",
       "      <td>28.345888</td>\n",
       "      <td>630478</td>\n",
       "      <td>0.220213</td>\n",
       "      <td>2420114</td>\n",
       "      <td>19065590</td>\n",
       "    </tr>\n",
       "  </tbody>\n",
       "</table>\n",
       "</div>"
      ],
      "text/plain": [
       "         PM10  Motos_vehiculos_particulares    Lluvia  Poblacion       PIB\n",
       "0   24.953753                        348066  0.939613    2244668  12368151\n",
       "1   19.868654                        348066  0.382813    2244668  12368151\n",
       "2   27.656900                        348066  0.263172    2244668  12368151\n",
       "3   26.076992                        348066  0.572834    2244668  12368151\n",
       "4   27.081070                        391327  0.190382    2269653  13201435\n",
       "5   24.417490                        391327  0.413592    2269653  13201435\n",
       "6   33.543011                        391327  0.408934    2269653  13201435\n",
       "7   26.189116                        391327  0.595508    2269653  13201435\n",
       "8   28.528126                        438769  0.060729    2294653  13978550\n",
       "9   16.134058                        438769  0.426957    2294653  13978550\n",
       "10  28.120001                        438769  0.107707    2294653  13978550\n",
       "11  25.519133                        438769  0.419806    2294653  13978550\n",
       "12  19.838018                        484119  0.185106    2319684  14759256\n",
       "13  22.679886                        484119  0.276111    2319684  14759256\n",
       "14  18.081238                        484119  0.134173    2319684  14759256\n",
       "15  31.919754                        484119  0.472869    2319684  14759256\n",
       "16  47.482609                        526339  0.215647    2344734  15826755\n",
       "17  38.531296                        526339  0.234257    2344734  15826755\n",
       "18  47.904537                        526339  0.281555    2344734  15826755\n",
       "19  46.285915                        526339  0.372491    2344734  15826755\n",
       "20  35.878597                        567353  0.208546    2369821  16922326\n",
       "21  32.421597                        567353  0.193502    2369821  16922326\n",
       "22  27.916824                        567353  0.110047    2369821  16922326\n",
       "23  37.520321                        567353  0.124192    2369821  16922326\n",
       "24  35.772816                        601794  0.265361    2394925  18259330\n",
       "25  34.026611                        601794  0.253803    2394925  18259330\n",
       "26  31.355671                        601794  0.088913    2394925  18259330\n",
       "27  22.212193                        601794  0.280813    2394925  18259330\n",
       "28  20.680435                        630478  0.015700    2420114  19065590\n",
       "29  25.191208                        630478  0.181820    2420114  19065590\n",
       "30  28.905861                        630478  0.148639    2420114  19065590\n",
       "31  28.345888                        630478  0.220213    2420114  19065590"
      ]
     },
     "execution_count": 67,
     "metadata": {},
     "output_type": "execute_result"
    }
   ],
   "source": [
    "data"
   ]
  },
  {
   "cell_type": "code",
   "execution_count": 68,
   "metadata": {},
   "outputs": [
    {
     "data": {
      "text/plain": [
       "Index(['PM10', 'Motos_vehiculos_particulares', 'Lluvia', 'Poblacion', 'PIB'], dtype='object')"
      ]
     },
     "execution_count": 68,
     "metadata": {},
     "output_type": "execute_result"
    }
   ],
   "source": [
    "data.columns"
   ]
  },
  {
   "cell_type": "code",
   "execution_count": 69,
   "metadata": {},
   "outputs": [],
   "source": [
    "values = data.values\n",
    "values = values.astype('float32')\n"
   ]
  },
  {
   "cell_type": "code",
   "execution_count": 70,
   "metadata": {},
   "outputs": [],
   "source": [
    "\n",
    "\n",
    "#Normalize features(0,1)\n",
    "#Este estimador escala y traduce cada característica\n",
    "#individualmente de modo que esté en el rango dado en el conjunto de entrenamiento\n",
    "#https://scikit-learn.org/stable/modules/generated/sklearn.preprocessing.MinMaxScaler.html\n",
    "\n",
    "scaler = MinMaxScaler(feature_range=(0, 1))\n",
    "scaled = scaler.fit_transform(values)"
   ]
  },
  {
   "cell_type": "code",
   "execution_count": 71,
   "metadata": {},
   "outputs": [
    {
     "data": {
      "text/plain": [
       "array([[0.27760655, 0.        , 1.        , 0.        , 0.        ],\n",
       "       [0.11754924, 0.        , 0.3973462 , 0.        , 0.        ],\n",
       "       [0.3626902 , 0.        , 0.2678517 , 0.        , 0.        ],\n",
       "       [0.3129614 , 0.        , 0.6030158 , 0.        , 0.        ],\n",
       "       [0.3445655 , 0.15318406, 0.1890668 , 0.14240837, 0.12441826],\n",
       "       [0.2607273 , 0.15318406, 0.43065938, 0.14240837, 0.12441826],\n",
       "       [0.54796   , 0.15318406, 0.42561764, 0.14240837, 0.12441826],\n",
       "       [0.3164906 , 0.15318406, 0.627557  , 0.14240837, 0.12441826],\n",
       "       [0.3901127 , 0.3211727 , 0.04873698, 0.28490257, 0.24045002],\n",
       "       [0.        , 0.3211727 , 0.44512463, 0.28490257, 0.24045002],\n",
       "       [0.37726665, 0.3211727 , 0.09958397, 0.28490257, 0.24045002],\n",
       "       [0.29540235, 0.3211727 , 0.43738487, 0.28490257, 0.24045002],\n",
       "       [0.11658496, 0.4817537 , 0.18335706, 0.4275732 , 0.35701787],\n",
       "       [0.2060349 , 0.4817537 , 0.2818562 , 0.4275732 , 0.35701787],\n",
       "       [0.06128895, 0.4817537 , 0.12822917, 0.4275732 , 0.35701787],\n",
       "       [0.49686676, 0.4817537 , 0.49481776, 0.4275732 , 0.35701787],\n",
       "       [0.9867194 , 0.6312516 , 0.2164133 , 0.5703516 , 0.5164069 ],\n",
       "       [0.70497006, 0.6312516 , 0.23655559, 0.5703516 , 0.5164069 ],\n",
       "       [0.99999994, 0.6312516 , 0.28774852, 0.5703516 , 0.5164069 ],\n",
       "       [0.94905263, 0.6312516 , 0.3861732 , 0.5703516 , 0.5164069 ],\n",
       "       [0.6214743 , 0.7764791 , 0.20872702, 0.7133417 , 0.67998755],\n",
       "       [0.5126626 , 0.7764791 , 0.19244435, 0.7133417 , 0.67998755],\n",
       "       [0.37087148, 0.7764791 , 0.10211661, 0.7133417 , 0.67998755],\n",
       "       [0.6731488 , 0.7764791 , 0.1174261 , 0.7133417 , 0.67998755],\n",
       "       [0.6181448 , 0.89843214, 0.27022076, 0.85642815, 0.8796166 ],\n",
       "       [0.5631817 , 0.89843214, 0.25771138, 0.85642815, 0.8796166 ],\n",
       "       [0.47911185, 0.89843214, 0.07924192, 0.85642815, 0.8796166 ],\n",
       "       [0.19131386, 0.89843214, 0.28694546, 0.85642815, 0.8796166 ],\n",
       "       [0.14310068, 1.0000001 , 0.        , 1.        , 0.9999999 ],\n",
       "       [0.28508067, 1.0000001 , 0.17980051, 1.        , 0.9999999 ],\n",
       "       [0.40200222, 1.0000001 , 0.14388649, 1.        , 0.9999999 ],\n",
       "       [0.38437665, 1.0000001 , 0.2213546 , 1.        , 0.9999999 ]],\n",
       "      dtype=float32)"
      ]
     },
     "execution_count": 71,
     "metadata": {},
     "output_type": "execute_result"
    }
   ],
   "source": [
    "scaled"
   ]
  },
  {
   "cell_type": "code",
   "execution_count": 72,
   "metadata": {},
   "outputs": [
    {
     "name": "stdout",
     "output_type": "stream",
     "text": [
      "   var1(t-1)  var2(t-1)  var3(t-1)  var4(t-1)  var5(t-1)   var1(t)   var2(t)  \\\n",
      "1   0.277607   0.000000   1.000000   0.000000   0.000000  0.117549  0.000000   \n",
      "2   0.117549   0.000000   0.397346   0.000000   0.000000  0.362690  0.000000   \n",
      "3   0.362690   0.000000   0.267852   0.000000   0.000000  0.312961  0.000000   \n",
      "4   0.312961   0.000000   0.603016   0.000000   0.000000  0.344566  0.153184   \n",
      "5   0.344566   0.153184   0.189067   0.142408   0.124418  0.260727  0.153184   \n",
      "\n",
      "    var3(t)   var4(t)   var5(t)  \n",
      "1  0.397346  0.000000  0.000000  \n",
      "2  0.267852  0.000000  0.000000  \n",
      "3  0.603016  0.000000  0.000000  \n",
      "4  0.189067  0.142408  0.124418  \n",
      "5  0.430659  0.142408  0.124418  \n"
     ]
    }
   ],
   "source": [
    "\n",
    "reframed = series_to_supervised(scaled, 1, 1)\n",
    "\n",
    "print(reframed.head())\n"
   ]
  },
  {
   "cell_type": "code",
   "execution_count": 73,
   "metadata": {},
   "outputs": [
    {
     "data": {
      "text/plain": [
       "Index(['var1(t-1)', 'var2(t-1)', 'var3(t-1)', 'var4(t-1)', 'var5(t-1)',\n",
       "       'var1(t)', 'var2(t)', 'var3(t)', 'var4(t)', 'var5(t)'],\n",
       "      dtype='object')"
      ]
     },
     "execution_count": 73,
     "metadata": {},
     "output_type": "execute_result"
    }
   ],
   "source": [
    "reframed.columns"
   ]
  },
  {
   "cell_type": "code",
   "execution_count": 74,
   "metadata": {},
   "outputs": [
    {
     "name": "stdout",
     "output_type": "stream",
     "text": [
      "   var2(t-1)  var3(t-1)  var4(t-1)  var5(t-1)   var1(t)\n",
      "1   0.000000   1.000000   0.000000   0.000000  0.117549\n",
      "2   0.000000   0.397346   0.000000   0.000000  0.362690\n",
      "3   0.000000   0.267852   0.000000   0.000000  0.312961\n",
      "4   0.000000   0.603016   0.000000   0.000000  0.344566\n",
      "5   0.153184   0.189067   0.142408   0.124418  0.260727\n"
     ]
    }
   ],
   "source": [
    "#Dejo la variable objetico en PM10 (T) y y todas (T-1)...................\n",
    "reframed.drop(reframed.columns[[0,6,7,8,9]], axis=1, inplace=True)\n",
    "print(reframed.head())"
   ]
  },
  {
   "cell_type": "code",
   "execution_count": 75,
   "metadata": {},
   "outputs": [
    {
     "data": {
      "text/plain": [
       "Index(['var2(t-1)', 'var3(t-1)', 'var4(t-1)', 'var5(t-1)', 'var1(t)'], dtype='object')"
      ]
     },
     "execution_count": 75,
     "metadata": {},
     "output_type": "execute_result"
    }
   ],
   "source": [
    "reframed.columns"
   ]
  },
  {
   "cell_type": "code",
   "execution_count": 76,
   "metadata": {},
   "outputs": [],
   "source": [
    "values = reframed.values"
   ]
  },
  {
   "cell_type": "code",
   "execution_count": 77,
   "metadata": {},
   "outputs": [],
   "source": [
    "values = reframed.values\n",
    "\n",
    "#Datos de entrenamiento y pruebas:\n",
    "n_train_hours = 23\n",
    "train = values[:n_train_hours, :]\n",
    "test = values[n_train_hours:, :]\n"
   ]
  },
  {
   "cell_type": "code",
   "execution_count": 78,
   "metadata": {},
   "outputs": [
    {
     "data": {
      "text/plain": [
       "array([[0.7764791 , 0.1174261 , 0.7133417 , 0.67998755, 0.6181448 ],\n",
       "       [0.89843214, 0.27022076, 0.85642815, 0.8796166 , 0.5631817 ],\n",
       "       [0.89843214, 0.25771138, 0.85642815, 0.8796166 , 0.47911185],\n",
       "       [0.89843214, 0.07924192, 0.85642815, 0.8796166 , 0.19131386],\n",
       "       [0.89843214, 0.28694546, 0.85642815, 0.8796166 , 0.14310068],\n",
       "       [1.0000001 , 0.        , 1.        , 0.9999999 , 0.28508067],\n",
       "       [1.0000001 , 0.17980051, 1.        , 0.9999999 , 0.40200222],\n",
       "       [1.0000001 , 0.14388649, 1.        , 0.9999999 , 0.38437665]],\n",
       "      dtype=float32)"
      ]
     },
     "execution_count": 78,
     "metadata": {},
     "output_type": "execute_result"
    }
   ],
   "source": [
    "test"
   ]
  },
  {
   "cell_type": "code",
   "execution_count": 79,
   "metadata": {},
   "outputs": [
    {
     "data": {
      "text/plain": [
       "array([[0.        , 1.        , 0.        , 0.        , 0.11754924],\n",
       "       [0.        , 0.3973462 , 0.        , 0.        , 0.3626902 ],\n",
       "       [0.        , 0.2678517 , 0.        , 0.        , 0.3129614 ],\n",
       "       [0.        , 0.6030158 , 0.        , 0.        , 0.3445655 ],\n",
       "       [0.15318406, 0.1890668 , 0.14240837, 0.12441826, 0.2607273 ],\n",
       "       [0.15318406, 0.43065938, 0.14240837, 0.12441826, 0.54796   ],\n",
       "       [0.15318406, 0.42561764, 0.14240837, 0.12441826, 0.3164906 ],\n",
       "       [0.15318406, 0.627557  , 0.14240837, 0.12441826, 0.3901127 ],\n",
       "       [0.3211727 , 0.04873698, 0.28490257, 0.24045002, 0.        ],\n",
       "       [0.3211727 , 0.44512463, 0.28490257, 0.24045002, 0.37726665],\n",
       "       [0.3211727 , 0.09958397, 0.28490257, 0.24045002, 0.29540235],\n",
       "       [0.3211727 , 0.43738487, 0.28490257, 0.24045002, 0.11658496],\n",
       "       [0.4817537 , 0.18335706, 0.4275732 , 0.35701787, 0.2060349 ],\n",
       "       [0.4817537 , 0.2818562 , 0.4275732 , 0.35701787, 0.06128895],\n",
       "       [0.4817537 , 0.12822917, 0.4275732 , 0.35701787, 0.49686676],\n",
       "       [0.4817537 , 0.49481776, 0.4275732 , 0.35701787, 0.9867194 ],\n",
       "       [0.6312516 , 0.2164133 , 0.5703516 , 0.5164069 , 0.70497006],\n",
       "       [0.6312516 , 0.23655559, 0.5703516 , 0.5164069 , 0.99999994],\n",
       "       [0.6312516 , 0.28774852, 0.5703516 , 0.5164069 , 0.94905263],\n",
       "       [0.6312516 , 0.3861732 , 0.5703516 , 0.5164069 , 0.6214743 ],\n",
       "       [0.7764791 , 0.20872702, 0.7133417 , 0.67998755, 0.5126626 ],\n",
       "       [0.7764791 , 0.19244435, 0.7133417 , 0.67998755, 0.37087148],\n",
       "       [0.7764791 , 0.10211661, 0.7133417 , 0.67998755, 0.6731488 ]],\n",
       "      dtype=float32)"
      ]
     },
     "execution_count": 79,
     "metadata": {},
     "output_type": "execute_result"
    }
   ],
   "source": [
    "train"
   ]
  },
  {
   "cell_type": "code",
   "execution_count": 80,
   "metadata": {},
   "outputs": [
    {
     "data": {
      "text/plain": [
       "array([[0.        , 1.        , 0.        , 0.        ],\n",
       "       [0.        , 0.3973462 , 0.        , 0.        ],\n",
       "       [0.        , 0.2678517 , 0.        , 0.        ],\n",
       "       [0.        , 0.6030158 , 0.        , 0.        ],\n",
       "       [0.15318406, 0.1890668 , 0.14240837, 0.12441826],\n",
       "       [0.15318406, 0.43065938, 0.14240837, 0.12441826],\n",
       "       [0.15318406, 0.42561764, 0.14240837, 0.12441826],\n",
       "       [0.15318406, 0.627557  , 0.14240837, 0.12441826],\n",
       "       [0.3211727 , 0.04873698, 0.28490257, 0.24045002],\n",
       "       [0.3211727 , 0.44512463, 0.28490257, 0.24045002],\n",
       "       [0.3211727 , 0.09958397, 0.28490257, 0.24045002],\n",
       "       [0.3211727 , 0.43738487, 0.28490257, 0.24045002],\n",
       "       [0.4817537 , 0.18335706, 0.4275732 , 0.35701787],\n",
       "       [0.4817537 , 0.2818562 , 0.4275732 , 0.35701787],\n",
       "       [0.4817537 , 0.12822917, 0.4275732 , 0.35701787],\n",
       "       [0.4817537 , 0.49481776, 0.4275732 , 0.35701787],\n",
       "       [0.6312516 , 0.2164133 , 0.5703516 , 0.5164069 ],\n",
       "       [0.6312516 , 0.23655559, 0.5703516 , 0.5164069 ],\n",
       "       [0.6312516 , 0.28774852, 0.5703516 , 0.5164069 ],\n",
       "       [0.6312516 , 0.3861732 , 0.5703516 , 0.5164069 ],\n",
       "       [0.7764791 , 0.20872702, 0.7133417 , 0.67998755],\n",
       "       [0.7764791 , 0.19244435, 0.7133417 , 0.67998755],\n",
       "       [0.7764791 , 0.10211661, 0.7133417 , 0.67998755]], dtype=float32)"
      ]
     },
     "execution_count": 80,
     "metadata": {},
     "output_type": "execute_result"
    }
   ],
   "source": [
    "train[:, :-1]"
   ]
  },
  {
   "cell_type": "code",
   "execution_count": 81,
   "metadata": {},
   "outputs": [
    {
     "data": {
      "text/plain": [
       "array([0.11754924, 0.3626902 , 0.3129614 , 0.3445655 , 0.2607273 ,\n",
       "       0.54796   , 0.3164906 , 0.3901127 , 0.        , 0.37726665,\n",
       "       0.29540235, 0.11658496, 0.2060349 , 0.06128895, 0.49686676,\n",
       "       0.9867194 , 0.70497006, 0.99999994, 0.94905263, 0.6214743 ,\n",
       "       0.5126626 , 0.37087148, 0.6731488 ], dtype=float32)"
      ]
     },
     "execution_count": 81,
     "metadata": {},
     "output_type": "execute_result"
    }
   ],
   "source": [
    "train[:, -1]"
   ]
  },
  {
   "cell_type": "code",
   "execution_count": 82,
   "metadata": {},
   "outputs": [
    {
     "data": {
      "text/plain": [
       "array([[0.        , 1.        , 0.        , 0.        , 0.11754924],\n",
       "       [0.        , 0.3973462 , 0.        , 0.        , 0.3626902 ],\n",
       "       [0.        , 0.2678517 , 0.        , 0.        , 0.3129614 ],\n",
       "       [0.        , 0.6030158 , 0.        , 0.        , 0.3445655 ],\n",
       "       [0.15318406, 0.1890668 , 0.14240837, 0.12441826, 0.2607273 ],\n",
       "       [0.15318406, 0.43065938, 0.14240837, 0.12441826, 0.54796   ],\n",
       "       [0.15318406, 0.42561764, 0.14240837, 0.12441826, 0.3164906 ],\n",
       "       [0.15318406, 0.627557  , 0.14240837, 0.12441826, 0.3901127 ],\n",
       "       [0.3211727 , 0.04873698, 0.28490257, 0.24045002, 0.        ],\n",
       "       [0.3211727 , 0.44512463, 0.28490257, 0.24045002, 0.37726665],\n",
       "       [0.3211727 , 0.09958397, 0.28490257, 0.24045002, 0.29540235],\n",
       "       [0.3211727 , 0.43738487, 0.28490257, 0.24045002, 0.11658496],\n",
       "       [0.4817537 , 0.18335706, 0.4275732 , 0.35701787, 0.2060349 ],\n",
       "       [0.4817537 , 0.2818562 , 0.4275732 , 0.35701787, 0.06128895],\n",
       "       [0.4817537 , 0.12822917, 0.4275732 , 0.35701787, 0.49686676],\n",
       "       [0.4817537 , 0.49481776, 0.4275732 , 0.35701787, 0.9867194 ],\n",
       "       [0.6312516 , 0.2164133 , 0.5703516 , 0.5164069 , 0.70497006],\n",
       "       [0.6312516 , 0.23655559, 0.5703516 , 0.5164069 , 0.99999994],\n",
       "       [0.6312516 , 0.28774852, 0.5703516 , 0.5164069 , 0.94905263],\n",
       "       [0.6312516 , 0.3861732 , 0.5703516 , 0.5164069 , 0.6214743 ],\n",
       "       [0.7764791 , 0.20872702, 0.7133417 , 0.67998755, 0.5126626 ],\n",
       "       [0.7764791 , 0.19244435, 0.7133417 , 0.67998755, 0.37087148],\n",
       "       [0.7764791 , 0.10211661, 0.7133417 , 0.67998755, 0.6731488 ]],\n",
       "      dtype=float32)"
      ]
     },
     "execution_count": 82,
     "metadata": {},
     "output_type": "execute_result"
    }
   ],
   "source": [
    "train[:, 0:]"
   ]
  },
  {
   "cell_type": "code",
   "execution_count": 83,
   "metadata": {},
   "outputs": [
    {
     "name": "stdout",
     "output_type": "stream",
     "text": [
      "(23, 1, 4) (23,) (8, 1, 4) (8,)\n"
     ]
    }
   ],
   "source": [
    "# Datos de entrada y de salida.\n",
    "train_X, train_y = train[:, :-1], train[:, -1]\n",
    "test_X, test_y = test[:, :-1], test[:, -1]\n",
    "\n",
    "\n",
    "#Remodelar la entrada para que sea 3D [muestras, pasos de tiempo, características]\n",
    "train_X = train_X.reshape((train_X.shape[0], 1, train_X.shape[1]))\n",
    "test_X = test_X.reshape((test_X.shape[0], 1, test_X.shape[1]))\n",
    "\n",
    "print(train_X.shape, train_y.shape, test_X.shape, test_y.shape)"
   ]
  },
  {
   "cell_type": "code",
   "execution_count": 84,
   "metadata": {},
   "outputs": [
    {
     "name": "stdout",
     "output_type": "stream",
     "text": [
      "_________________________________________________________________\n",
      "Layer (type)                 Output Shape              Param #   \n",
      "=================================================================\n",
      "lstm_2 (LSTM)                (None, 50)                11000     \n",
      "_________________________________________________________________\n",
      "dense_2 (Dense)              (None, 1)                 51        \n",
      "=================================================================\n",
      "Total params: 11,051\n",
      "Trainable params: 11,051\n",
      "Non-trainable params: 0\n",
      "_________________________________________________________________\n"
     ]
    }
   ],
   "source": [
    "#Diseñando la red neuronal.\n",
    "model = Sequential()\n",
    "\n",
    "#Capa de entrada (unidades, 1, 3)\n",
    "model.add(LSTM(50, input_shape=(train_X.shape[1], train_X.shape[2])))\n",
    "\n",
    "#Capa de salida.\n",
    "model.add(Dense(1))\n",
    "model.compile(loss='mae', optimizer='adam')\n",
    "model.name=\"LTSM_cali_3meses_pib\"\n",
    "\n",
    "#fit(x=None, y=None, batch_size=None, epochs=1, \n",
    "#verbose=1, callbacks=None, validation_split=0.0, validation_data=None, \n",
    "#shuffle=True, class_weight=None, sample_weight=None, initial_epoch=0, steps_per_epoch=None,\n",
    "#validation_steps=None, validation_freq=1, max_queue_size=10, workers=1, use_multiprocessing=False)\n",
    "\n",
    "model.summary()\n"
   ]
  },
  {
   "cell_type": "code",
   "execution_count": 85,
   "metadata": {},
   "outputs": [
    {
     "name": "stdout",
     "output_type": "stream",
     "text": [
      "Train on 23 samples, validate on 8 samples\n",
      "Epoch 1/50\n",
      " - 1s - loss: 0.4373 - val_loss: 0.4003\n",
      "Epoch 2/50\n",
      " - 0s - loss: 0.4305 - val_loss: 0.3892\n",
      "Epoch 3/50\n",
      " - 0s - loss: 0.4238 - val_loss: 0.3782\n",
      "Epoch 4/50\n",
      " - 0s - loss: 0.4175 - val_loss: 0.3673\n",
      "Epoch 5/50\n",
      " - 0s - loss: 0.4112 - val_loss: 0.3563\n",
      "Epoch 6/50\n",
      " - 0s - loss: 0.4049 - val_loss: 0.3454\n",
      "Epoch 7/50\n",
      " - 0s - loss: 0.3986 - val_loss: 0.3344\n",
      "Epoch 8/50\n",
      " - 0s - loss: 0.3923 - val_loss: 0.3235\n",
      "Epoch 9/50\n",
      " - 0s - loss: 0.3860 - val_loss: 0.3125\n",
      "Epoch 10/50\n",
      " - 0s - loss: 0.3796 - val_loss: 0.3015\n",
      "Epoch 11/50\n",
      " - 0s - loss: 0.3737 - val_loss: 0.2906\n",
      "Epoch 12/50\n",
      " - 0s - loss: 0.3680 - val_loss: 0.2796\n",
      "Epoch 13/50\n",
      " - 0s - loss: 0.3623 - val_loss: 0.2687\n",
      "Epoch 14/50\n",
      " - 0s - loss: 0.3566 - val_loss: 0.2578\n",
      "Epoch 15/50\n",
      " - 0s - loss: 0.3509 - val_loss: 0.2470\n",
      "Epoch 16/50\n",
      " - 0s - loss: 0.3457 - val_loss: 0.2389\n",
      "Epoch 17/50\n",
      " - 0s - loss: 0.3405 - val_loss: 0.2306\n",
      "Epoch 18/50\n",
      " - 0s - loss: 0.3354 - val_loss: 0.2225\n",
      "Epoch 19/50\n",
      " - 0s - loss: 0.3308 - val_loss: 0.2143\n",
      "Epoch 20/50\n",
      " - 0s - loss: 0.3262 - val_loss: 0.2061\n",
      "Epoch 21/50\n",
      " - 0s - loss: 0.3216 - val_loss: 0.1979\n",
      "Epoch 22/50\n",
      " - 0s - loss: 0.3170 - val_loss: 0.1921\n",
      "Epoch 23/50\n",
      " - 0s - loss: 0.3124 - val_loss: 0.1864\n",
      "Epoch 24/50\n",
      " - 0s - loss: 0.3078 - val_loss: 0.1808\n",
      "Epoch 25/50\n",
      " - 0s - loss: 0.3032 - val_loss: 0.1750\n",
      "Epoch 26/50\n",
      " - 0s - loss: 0.2985 - val_loss: 0.1693\n",
      "Epoch 27/50\n",
      " - 0s - loss: 0.2938 - val_loss: 0.1635\n",
      "Epoch 28/50\n",
      " - 0s - loss: 0.2891 - val_loss: 0.1576\n",
      "Epoch 29/50\n",
      " - 0s - loss: 0.2843 - val_loss: 0.1535\n",
      "Epoch 30/50\n",
      " - 0s - loss: 0.2794 - val_loss: 0.1505\n",
      "Epoch 31/50\n",
      " - 0s - loss: 0.2746 - val_loss: 0.1475\n",
      "Epoch 32/50\n",
      " - 0s - loss: 0.2700 - val_loss: 0.1445\n",
      "Epoch 33/50\n",
      " - 0s - loss: 0.2657 - val_loss: 0.1415\n",
      "Epoch 34/50\n",
      " - 0s - loss: 0.2614 - val_loss: 0.1384\n",
      "Epoch 35/50\n",
      " - 0s - loss: 0.2571 - val_loss: 0.1359\n",
      "Epoch 36/50\n",
      " - 0s - loss: 0.2527 - val_loss: 0.1368\n",
      "Epoch 37/50\n",
      " - 0s - loss: 0.2483 - val_loss: 0.1404\n",
      "Epoch 38/50\n",
      " - 0s - loss: 0.2439 - val_loss: 0.1439\n",
      "Epoch 39/50\n",
      " - 0s - loss: 0.2394 - val_loss: 0.1476\n",
      "Epoch 40/50\n",
      " - 0s - loss: 0.2349 - val_loss: 0.1512\n",
      "Epoch 41/50\n",
      " - 0s - loss: 0.2308 - val_loss: 0.1549\n",
      "Epoch 42/50\n",
      " - 0s - loss: 0.2272 - val_loss: 0.1585\n",
      "Epoch 43/50\n",
      " - 0s - loss: 0.2236 - val_loss: 0.1621\n",
      "Epoch 44/50\n",
      " - 0s - loss: 0.2201 - val_loss: 0.1671\n",
      "Epoch 45/50\n",
      " - 0s - loss: 0.2165 - val_loss: 0.1739\n",
      "Epoch 46/50\n",
      " - 0s - loss: 0.2130 - val_loss: 0.1807\n",
      "Epoch 47/50\n",
      " - 0s - loss: 0.2094 - val_loss: 0.1875\n",
      "Epoch 48/50\n",
      " - 0s - loss: 0.2058 - val_loss: 0.1944\n",
      "Epoch 49/50\n",
      " - 0s - loss: 0.2022 - val_loss: 0.2013\n",
      "Epoch 50/50\n",
      " - 0s - loss: 0.1985 - val_loss: 0.2086\n"
     ]
    },
    {
     "data": {
      "image/png": "[encoded data removed]",
      "text/plain": [
       "<Figure size 432x288 with 1 Axes>"
      ]
     },
     "metadata": {
      "needs_background": "light"
     },
     "output_type": "display_data"
    }
   ],
   "source": [
    "\n",
    "# Ajustado el modelo\n",
    "history = model.fit(train_X, train_y, epochs=50, batch_size=72, validation_data=(test_X, test_y), verbose=2, shuffle=False)\n",
    "\n",
    "# Seguimiento al modelo \n",
    "pyplot.plot(history.history['loss'], label='train')\n",
    "pyplot.plot(history.history['val_loss'], label='test')\n",
    "pyplot.legend()\n",
    "pyplot.show()"
   ]
  },
  {
   "cell_type": "code",
   "execution_count": 86,
   "metadata": {},
   "outputs": [
    {
     "data": {
      "text/plain": [
       "(8, 1)"
      ]
     },
     "execution_count": 86,
     "metadata": {},
     "output_type": "execute_result"
    }
   ],
   "source": [
    "yhat = model.predict(test_X)\n",
    "yhat.shape"
   ]
  },
  {
   "cell_type": "code",
   "execution_count": 87,
   "metadata": {},
   "outputs": [
    {
     "data": {
      "text/plain": [
       "(8, 4)"
      ]
     },
     "execution_count": 87,
     "metadata": {},
     "output_type": "execute_result"
    }
   ],
   "source": [
    "# Datos de prediccion.\n",
    "test_X = test_X.reshape((test_X.shape[0], test_X.shape[2]))\n",
    "test_X.shape"
   ]
  },
  {
   "cell_type": "code",
   "execution_count": 88,
   "metadata": {},
   "outputs": [
    {
     "data": {
      "text/plain": [
       "array([[3.1102621e+01, 5.6735300e+05, 1.2419187e-01, 2.3698210e+06,\n",
       "        1.6922326e+07],\n",
       "       [3.4063099e+01, 6.0179400e+05, 2.6536071e-01, 2.3949250e+06,\n",
       "        1.8259330e+07],\n",
       "       [3.3987064e+01, 6.0179400e+05, 2.5380316e-01, 2.3949250e+06,\n",
       "        1.8259330e+07],\n",
       "       [3.2899044e+01, 6.0179400e+05, 8.8913046e-02, 2.3949250e+06,\n",
       "        1.8259330e+07],\n",
       "       [3.4164707e+01, 6.0179400e+05, 2.8081286e-01, 2.3949250e+06,\n",
       "        1.8259330e+07],\n",
       "       [3.3988125e+01, 6.3047800e+05, 1.5700484e-02, 2.4201140e+06,\n",
       "        1.9065590e+07],\n",
       "       [3.5089966e+01, 6.3047800e+05, 1.8182035e-01, 2.4201140e+06,\n",
       "        1.9065590e+07],\n",
       "       [3.4870384e+01, 6.3047800e+05, 1.4863895e-01, 2.4201140e+06,\n",
       "        1.9065590e+07]], dtype=float32)"
      ]
     },
     "execution_count": 88,
     "metadata": {},
     "output_type": "execute_result"
    }
   ],
   "source": [
    "inv_yhat = concatenate((yhat, test_X[:, :]), axis=1)\n",
    "inv_yhat = scaler.inverse_transform(inv_yhat)\n",
    "inv_yhat"
   ]
  },
  {
   "cell_type": "code",
   "execution_count": 89,
   "metadata": {},
   "outputs": [],
   "source": [
    "inv_yhat = inv_yhat[:,0]"
   ]
  },
  {
   "cell_type": "code",
   "execution_count": 90,
   "metadata": {},
   "outputs": [
    {
     "data": {
      "text/plain": [
       "array([31.102621, 34.0631  , 33.987064, 32.899044, 34.164707, 33.988125,\n",
       "       35.089966, 34.870384], dtype=float32)"
      ]
     },
     "execution_count": 90,
     "metadata": {},
     "output_type": "execute_result"
    }
   ],
   "source": [
    "inv_yhat"
   ]
  },
  {
   "cell_type": "code",
   "execution_count": 91,
   "metadata": {},
   "outputs": [],
   "source": [
    "# invierco el scalar de la prediccion\n",
    "inv_yhat = concatenate((yhat, test_X[:, :]), axis=1)\n",
    "inv_yhat = scaler.inverse_transform(inv_yhat)\n",
    "inv_yhat = inv_yhat[:,0]\n"
   ]
  },
  {
   "cell_type": "code",
   "execution_count": 92,
   "metadata": {},
   "outputs": [
    {
     "data": {
      "text/plain": [
       "array([31.102621, 34.0631  , 33.987064, 32.899044, 34.164707, 33.988125,\n",
       "       35.089966, 34.870384], dtype=float32)"
      ]
     },
     "execution_count": 92,
     "metadata": {},
     "output_type": "execute_result"
    }
   ],
   "source": [
    "inv_yhat"
   ]
  },
  {
   "cell_type": "code",
   "execution_count": 52,
   "metadata": {},
   "outputs": [
    {
     "name": "stdout",
     "output_type": "stream",
     "text": [
      "Test RMSE: 6.894\n"
     ]
    }
   ],
   "source": [
    "\n",
    "#Invierco el scalar de los dato reales\n",
    "test_y = test_y.reshape((len(test_y), 1))\n",
    "inv_y = concatenate((test_y, test_X[:, :]), axis=1)\n",
    "inv_y = scaler.inverse_transform(inv_y)\n",
    "inv_y = inv_y[:,0]\n",
    "# calcular RMSE\n",
    "rmse = sqrt(mean_squared_error(inv_y, inv_yhat))\n",
    "print('Test RMSE: %.3f' % rmse)"
   ]
  },
  {
   "cell_type": "code",
   "execution_count": 93,
   "metadata": {},
   "outputs": [
    {
     "data": {
      "text/plain": [
       "array([35.772816, 34.02661 , 31.35567 , 22.212193, 20.680435, 25.191208,\n",
       "       28.90586 , 28.345888], dtype=float32)"
      ]
     },
     "execution_count": 93,
     "metadata": {},
     "output_type": "execute_result"
    }
   ],
   "source": [
    "#Datos reales\n",
    "inv_y"
   ]
  },
  {
   "cell_type": "code",
   "execution_count": 94,
   "metadata": {},
   "outputs": [
    {
     "data": {
      "text/plain": [
       "array([31.102621, 34.0631  , 33.987064, 32.899044, 34.164707, 33.988125,\n",
       "       35.089966, 34.870384], dtype=float32)"
      ]
     },
     "execution_count": 94,
     "metadata": {},
     "output_type": "execute_result"
    }
   ],
   "source": [
    "#Datos prediccion\n",
    "inv_yhat"
   ]
  },
  {
   "cell_type": "code",
   "execution_count": 95,
   "metadata": {},
   "outputs": [],
   "source": [
    "# Vuelvo el modelo un archivo .json\n",
    "model_json = model.to_json()\n",
    "with open(\"../Modelamiento/model_pib.json\", \"w\") as json_file:\n",
    "    json_file.write(model_json)\n",
    "    \n",
    "\n",
    "# Guardar el Modelo\n",
    "model.save_weights('../Modelamiento/LTSM_Cali_3meses_pib.h5')"
   ]
  },
  {
   "cell_type": "code",
   "execution_count": 96,
   "metadata": {},
   "outputs": [
    {
     "data": {
      "text/plain": [
       "<keras.engine.sequential.Sequential at 0x29497681248>"
      ]
     },
     "execution_count": 96,
     "metadata": {},
     "output_type": "execute_result"
    }
   ],
   "source": [
    "model"
   ]
  },
  {
   "cell_type": "code",
   "execution_count": 97,
   "metadata": {},
   "outputs": [
    {
     "data": {
      "text/plain": [
       "(23, 5)"
      ]
     },
     "execution_count": 97,
     "metadata": {},
     "output_type": "execute_result"
    }
   ],
   "source": [
    "train.shape"
   ]
  },
  {
   "cell_type": "code",
   "execution_count": 57,
   "metadata": {},
   "outputs": [
    {
     "name": "stdout",
     "output_type": "stream",
     "text": [
      "_________________________________________________________________\n",
      "Layer (type)                 Output Shape              Param #   \n",
      "=================================================================\n",
      "lstm_1 (LSTM)                (None, 50)                11000     \n",
      "_________________________________________________________________\n",
      "dense_1 (Dense)              (None, 1)                 51        \n",
      "=================================================================\n",
      "Total params: 11,051\n",
      "Trainable params: 11,051\n",
      "Non-trainable params: 0\n",
      "_________________________________________________________________\n"
     ]
    }
   ],
   "source": [
    "model.summary()"
   ]
  },
  {
   "cell_type": "code",
   "execution_count": null,
   "metadata": {},
   "outputs": [],
   "source": []
  }
 ],
 "metadata": {
  "kernelspec": {
   "display_name": "Python 3",
   "language": "python",
   "name": "python3"
  },
  "language_info": {
   "codemirror_mode": {
    "name": "ipython",
    "version": 3
   },
   "file_extension": ".py",
   "mimetype": "text/x-python",
   "name": "python",
   "nbconvert_exporter": "python",
   "pygments_lexer": "ipython3",
   "version": "3.7.4"
  }
 },
 "nbformat": 4,
 "nbformat_minor": 2
}
