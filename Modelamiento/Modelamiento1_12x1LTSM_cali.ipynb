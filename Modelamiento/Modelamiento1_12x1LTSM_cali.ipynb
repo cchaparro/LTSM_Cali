{
 "cells": [
  {
   "cell_type": "code",
   "execution_count": 7,
   "metadata": {},
   "outputs": [],
   "source": [
    "from math import sqrt\n",
    "from numpy import concatenate\n",
    "from matplotlib import pyplot as plt\n",
    "from pandas import read_csv\n",
    "from pandas import DataFrame\n",
    "from pandas import concat\n",
    "from sklearn.preprocessing import MinMaxScaler\n",
    "from sklearn.preprocessing import LabelEncoder\n",
    "from sklearn.metrics import mean_squared_error\n",
    "from sklearn.metrics import r2_score\n",
    "from keras.models import Sequential\n",
    "from keras.layers import Dense\n",
    "from keras.layers import LSTM\n",
    "from tensorflow import keras\n",
    "from keras.models import model_from_json\n",
    "import numpy as np\n",
    "import pandas as pd\n",
    "import time\n",
    "import tensorflow as tf"
   ]
  },
  {
   "cell_type": "code",
   "execution_count": 8,
   "metadata": {},
   "outputs": [],
   "source": [
    "# datos: secuencia de observaciones como una lista o matriz 2D NumPy. Necesario.\n",
    "# n_in: Número de observaciones de retraso como entrada (X). Los valores pueden estar entre [1..len (datos)] Opcional. El valor predeterminado es 1.\n",
    "# n_out: Número de observaciones como salida (y). Los valores pueden estar entre [0..len (datos) -1]. Opcional. Por defecto es 1.\n",
    "# dropnan: booleano si se deben soltar o no filas con valores NaN. Opcional. Por defecto es verdadero.\n",
    "\n",
    "\n",
    "def series_to_supervised(data, n_in=1, n_out=1, dropnan=True):\n",
    "    n_vars = 1 if type(data) is list else data.shape[1]\n",
    "    df = DataFrame(data)\n",
    "    cols, names = list(), list()\n",
    "# observaciones pasadas  (t-n, ... t-1)\n",
    "    for i in range(n_in, 0, -1):\n",
    "        cols.append(df.shift(i))\n",
    "        names += [('var%d(t-%d)' % (j+1, i)) for j in range(n_vars)]\n",
    "# tiempos futuros  (t, t+1, ... t+n)\n",
    "    for i in range(0, n_out):\n",
    "        cols.append(df.shift(-i))\n",
    "        if i == 0:\n",
    "            names += [('var%d(t)' % (j+1)) for j in range(n_vars)]\n",
    "        else:\n",
    "            names += [('var%d(t+%d)' % (j+1, i)) for j in range(n_vars)]\n",
    "    agg = concat(cols, axis=1)\n",
    "    agg.columns = names\n",
    "    if dropnan:\n",
    "        agg.dropna(inplace=True)\n",
    "    return agg"
   ]
  },
  {
   "cell_type": "code",
   "execution_count": 9,
   "metadata": {},
   "outputs": [
    {
     "data": {
      "text/html": [
       "<div>\n",
       "<style scoped>\n",
       "    .dataframe tbody tr th:only-of-type {\n",
       "        vertical-align: middle;\n",
       "    }\n",
       "\n",
       "    .dataframe tbody tr th {\n",
       "        vertical-align: top;\n",
       "    }\n",
       "\n",
       "    .dataframe thead th {\n",
       "        text-align: right;\n",
       "    }\n",
       "</style>\n",
       "<table border=\"1\" class=\"dataframe\">\n",
       "  <thead>\n",
       "    <tr style=\"text-align: right;\">\n",
       "      <th></th>\n",
       "      <th>PM10</th>\n",
       "      <th>DirVien</th>\n",
       "      <th>H2S</th>\n",
       "      <th>Humedad</th>\n",
       "      <th>Lluvia</th>\n",
       "      <th>Motos_vehiculos_particulares</th>\n",
       "      <th>NO2</th>\n",
       "      <th>CO</th>\n",
       "      <th>O3</th>\n",
       "      <th>Poblacion</th>\n",
       "      <th>RSolar</th>\n",
       "      <th>SO2</th>\n",
       "      <th>Temp</th>\n",
       "    </tr>\n",
       "  </thead>\n",
       "  <tbody>\n",
       "    <tr>\n",
       "      <td>count</td>\n",
       "      <td>8745.000000</td>\n",
       "      <td>8745.000000</td>\n",
       "      <td>8745.0</td>\n",
       "      <td>8745.000000</td>\n",
       "      <td>8745.000000</td>\n",
       "      <td>8745.000000</td>\n",
       "      <td>8745.000000</td>\n",
       "      <td>8745.000000</td>\n",
       "      <td>8745.000000</td>\n",
       "      <td>8.745000e+03</td>\n",
       "      <td>8745.000000</td>\n",
       "      <td>8745.000000</td>\n",
       "      <td>8745.000000</td>\n",
       "    </tr>\n",
       "    <tr>\n",
       "      <td>mean</td>\n",
       "      <td>26.791206</td>\n",
       "      <td>165.549339</td>\n",
       "      <td>0.0</td>\n",
       "      <td>73.829917</td>\n",
       "      <td>0.393544</td>\n",
       "      <td>370553.058205</td>\n",
       "      <td>17.648530</td>\n",
       "      <td>1334.647888</td>\n",
       "      <td>23.094041</td>\n",
       "      <td>2.257657e+06</td>\n",
       "      <td>152.349769</td>\n",
       "      <td>16.116981</td>\n",
       "      <td>24.154810</td>\n",
       "    </tr>\n",
       "    <tr>\n",
       "      <td>std</td>\n",
       "      <td>20.088073</td>\n",
       "      <td>102.419191</td>\n",
       "      <td>0.0</td>\n",
       "      <td>15.172316</td>\n",
       "      <td>2.767783</td>\n",
       "      <td>22650.978956</td>\n",
       "      <td>14.761252</td>\n",
       "      <td>756.503036</td>\n",
       "      <td>28.706740</td>\n",
       "      <td>1.311136e+04</td>\n",
       "      <td>219.520964</td>\n",
       "      <td>18.718881</td>\n",
       "      <td>4.573652</td>\n",
       "    </tr>\n",
       "    <tr>\n",
       "      <td>min</td>\n",
       "      <td>0.000000</td>\n",
       "      <td>0.000000</td>\n",
       "      <td>0.0</td>\n",
       "      <td>0.000000</td>\n",
       "      <td>0.000000</td>\n",
       "      <td>348066.000000</td>\n",
       "      <td>0.000000</td>\n",
       "      <td>0.000000</td>\n",
       "      <td>0.000000</td>\n",
       "      <td>2.244668e+06</td>\n",
       "      <td>0.000000</td>\n",
       "      <td>0.000000</td>\n",
       "      <td>0.000000</td>\n",
       "    </tr>\n",
       "    <tr>\n",
       "      <td>25%</td>\n",
       "      <td>10.900000</td>\n",
       "      <td>70.599998</td>\n",
       "      <td>0.0</td>\n",
       "      <td>61.000000</td>\n",
       "      <td>0.000000</td>\n",
       "      <td>348066.000000</td>\n",
       "      <td>0.000000</td>\n",
       "      <td>869.296875</td>\n",
       "      <td>4.843800</td>\n",
       "      <td>2.244668e+06</td>\n",
       "      <td>0.000000</td>\n",
       "      <td>6.911400</td>\n",
       "      <td>21.700001</td>\n",
       "    </tr>\n",
       "    <tr>\n",
       "      <td>50%</td>\n",
       "      <td>22.700001</td>\n",
       "      <td>157.800003</td>\n",
       "      <td>0.0</td>\n",
       "      <td>76.000000</td>\n",
       "      <td>0.000000</td>\n",
       "      <td>391327.000000</td>\n",
       "      <td>17.919701</td>\n",
       "      <td>1292.364258</td>\n",
       "      <td>9.241700</td>\n",
       "      <td>2.269653e+06</td>\n",
       "      <td>4.100000</td>\n",
       "      <td>10.784500</td>\n",
       "      <td>23.500000</td>\n",
       "    </tr>\n",
       "    <tr>\n",
       "      <td>75%</td>\n",
       "      <td>38.500000</td>\n",
       "      <td>257.799988</td>\n",
       "      <td>0.0</td>\n",
       "      <td>86.000000</td>\n",
       "      <td>0.000000</td>\n",
       "      <td>391327.000000</td>\n",
       "      <td>26.423599</td>\n",
       "      <td>1783.514648</td>\n",
       "      <td>30.708500</td>\n",
       "      <td>2.269653e+06</td>\n",
       "      <td>276.700012</td>\n",
       "      <td>17.833300</td>\n",
       "      <td>26.500000</td>\n",
       "    </tr>\n",
       "    <tr>\n",
       "      <td>max</td>\n",
       "      <td>149.699997</td>\n",
       "      <td>360.000000</td>\n",
       "      <td>0.0</td>\n",
       "      <td>339.000000</td>\n",
       "      <td>82.040001</td>\n",
       "      <td>630478.000000</td>\n",
       "      <td>124.501801</td>\n",
       "      <td>3703.348877</td>\n",
       "      <td>181.169403</td>\n",
       "      <td>2.420114e+06</td>\n",
       "      <td>927.700012</td>\n",
       "      <td>286.557892</td>\n",
       "      <td>339.000000</td>\n",
       "    </tr>\n",
       "  </tbody>\n",
       "</table>\n",
       "</div>"
      ],
      "text/plain": [
       "              PM10      DirVien     H2S      Humedad       Lluvia  \\\n",
       "count  8745.000000  8745.000000  8745.0  8745.000000  8745.000000   \n",
       "mean     26.791206   165.549339     0.0    73.829917     0.393544   \n",
       "std      20.088073   102.419191     0.0    15.172316     2.767783   \n",
       "min       0.000000     0.000000     0.0     0.000000     0.000000   \n",
       "25%      10.900000    70.599998     0.0    61.000000     0.000000   \n",
       "50%      22.700001   157.800003     0.0    76.000000     0.000000   \n",
       "75%      38.500000   257.799988     0.0    86.000000     0.000000   \n",
       "max     149.699997   360.000000     0.0   339.000000    82.040001   \n",
       "\n",
       "       Motos_vehiculos_particulares          NO2           CO           O3  \\\n",
       "count                   8745.000000  8745.000000  8745.000000  8745.000000   \n",
       "mean                  370553.058205    17.648530  1334.647888    23.094041   \n",
       "std                    22650.978956    14.761252   756.503036    28.706740   \n",
       "min                   348066.000000     0.000000     0.000000     0.000000   \n",
       "25%                   348066.000000     0.000000   869.296875     4.843800   \n",
       "50%                   391327.000000    17.919701  1292.364258     9.241700   \n",
       "75%                   391327.000000    26.423599  1783.514648    30.708500   \n",
       "max                   630478.000000   124.501801  3703.348877   181.169403   \n",
       "\n",
       "          Poblacion       RSolar          SO2         Temp  \n",
       "count  8.745000e+03  8745.000000  8745.000000  8745.000000  \n",
       "mean   2.257657e+06   152.349769    16.116981    24.154810  \n",
       "std    1.311136e+04   219.520964    18.718881     4.573652  \n",
       "min    2.244668e+06     0.000000     0.000000     0.000000  \n",
       "25%    2.244668e+06     0.000000     6.911400    21.700001  \n",
       "50%    2.269653e+06     4.100000    10.784500    23.500000  \n",
       "75%    2.269653e+06   276.700012    17.833300    26.500000  \n",
       "max    2.420114e+06   927.700012   286.557892   339.000000  "
      ]
     },
     "execution_count": 9,
     "metadata": {},
     "output_type": "execute_result"
    }
   ],
   "source": [
    "#Modelo de 12 carateristicas.\n",
    "\n",
    "data = pd.read_excel('../PreparacionDatos/FloraTotal.xlsx' , sheet_name='FloraTotal' ,header=0)\n",
    "data = data.drop(data.columns[[0]], axis=1) \n",
    "\n",
    "#Ordeno de primero el PM10\n",
    "new_order = [8,1,2,3,4,5,6,0,7,9,10,11,12]\n",
    "data = data[data.columns[new_order]]\n",
    "\n",
    "data.describe()"
   ]
  },
  {
   "cell_type": "code",
   "execution_count": 10,
   "metadata": {},
   "outputs": [
    {
     "data": {
      "text/html": [
       "<div>\n",
       "<style scoped>\n",
       "    .dataframe tbody tr th:only-of-type {\n",
       "        vertical-align: middle;\n",
       "    }\n",
       "\n",
       "    .dataframe tbody tr th {\n",
       "        vertical-align: top;\n",
       "    }\n",
       "\n",
       "    .dataframe thead th {\n",
       "        text-align: right;\n",
       "    }\n",
       "</style>\n",
       "<table border=\"1\" class=\"dataframe\">\n",
       "  <thead>\n",
       "    <tr style=\"text-align: right;\">\n",
       "      <th></th>\n",
       "      <th>index</th>\n",
       "      <th>PM10</th>\n",
       "      <th>DirVien</th>\n",
       "      <th>H2S</th>\n",
       "      <th>Humedad</th>\n",
       "      <th>Lluvia</th>\n",
       "      <th>NO2</th>\n",
       "      <th>CO</th>\n",
       "      <th>O3</th>\n",
       "      <th>RSolar</th>\n",
       "      <th>SO2</th>\n",
       "      <th>Temp</th>\n",
       "    </tr>\n",
       "  </thead>\n",
       "  <tbody>\n",
       "    <tr>\n",
       "      <td>0</td>\n",
       "      <td>0</td>\n",
       "      <td>2.600000</td>\n",
       "      <td>176.100006</td>\n",
       "      <td>0</td>\n",
       "      <td>70.099998</td>\n",
       "      <td>0.0000</td>\n",
       "      <td>0.0</td>\n",
       "      <td>391.467102</td>\n",
       "      <td>21.635599</td>\n",
       "      <td>0.000000</td>\n",
       "      <td>5.7409</td>\n",
       "      <td>24.400000</td>\n",
       "    </tr>\n",
       "    <tr>\n",
       "      <td>1</td>\n",
       "      <td>1</td>\n",
       "      <td>16.299999</td>\n",
       "      <td>149.000000</td>\n",
       "      <td>0</td>\n",
       "      <td>76.400002</td>\n",
       "      <td>0.0000</td>\n",
       "      <td>0.0</td>\n",
       "      <td>708.846497</td>\n",
       "      <td>11.241300</td>\n",
       "      <td>0.000000</td>\n",
       "      <td>7.7142</td>\n",
       "      <td>23.500000</td>\n",
       "    </tr>\n",
       "    <tr>\n",
       "      <td>2</td>\n",
       "      <td>2</td>\n",
       "      <td>9.800000</td>\n",
       "      <td>144.000000</td>\n",
       "      <td>0</td>\n",
       "      <td>79.099998</td>\n",
       "      <td>0.0000</td>\n",
       "      <td>0.0</td>\n",
       "      <td>683.904480</td>\n",
       "      <td>8.239500</td>\n",
       "      <td>0.000000</td>\n",
       "      <td>5.1359</td>\n",
       "      <td>22.700001</td>\n",
       "    </tr>\n",
       "    <tr>\n",
       "      <td>3</td>\n",
       "      <td>3</td>\n",
       "      <td>6.500000</td>\n",
       "      <td>197.199997</td>\n",
       "      <td>0</td>\n",
       "      <td>81.400002</td>\n",
       "      <td>0.0000</td>\n",
       "      <td>0.0</td>\n",
       "      <td>841.206421</td>\n",
       "      <td>7.457900</td>\n",
       "      <td>0.000000</td>\n",
       "      <td>6.7601</td>\n",
       "      <td>22.600000</td>\n",
       "    </tr>\n",
       "    <tr>\n",
       "      <td>4</td>\n",
       "      <td>4</td>\n",
       "      <td>9.000000</td>\n",
       "      <td>29.299999</td>\n",
       "      <td>0</td>\n",
       "      <td>86.400002</td>\n",
       "      <td>0.0000</td>\n",
       "      <td>0.0</td>\n",
       "      <td>681.828613</td>\n",
       "      <td>6.949200</td>\n",
       "      <td>0.000000</td>\n",
       "      <td>5.7961</td>\n",
       "      <td>21.900000</td>\n",
       "    </tr>\n",
       "    <tr>\n",
       "      <td>...</td>\n",
       "      <td>...</td>\n",
       "      <td>...</td>\n",
       "      <td>...</td>\n",
       "      <td>...</td>\n",
       "      <td>...</td>\n",
       "      <td>...</td>\n",
       "      <td>...</td>\n",
       "      <td>...</td>\n",
       "      <td>...</td>\n",
       "      <td>...</td>\n",
       "      <td>...</td>\n",
       "      <td>...</td>\n",
       "    </tr>\n",
       "    <tr>\n",
       "      <td>8740</td>\n",
       "      <td>8740</td>\n",
       "      <td>0.802300</td>\n",
       "      <td>0.038700</td>\n",
       "      <td>0</td>\n",
       "      <td>0.038700</td>\n",
       "      <td>0.8946</td>\n",
       "      <td>0.0</td>\n",
       "      <td>0.000000</td>\n",
       "      <td>0.000000</td>\n",
       "      <td>0.038700</td>\n",
       "      <td>0.0000</td>\n",
       "      <td>0.038700</td>\n",
       "    </tr>\n",
       "    <tr>\n",
       "      <td>8741</td>\n",
       "      <td>8741</td>\n",
       "      <td>23.094616</td>\n",
       "      <td>0.000000</td>\n",
       "      <td>0</td>\n",
       "      <td>0.000000</td>\n",
       "      <td>0.0000</td>\n",
       "      <td>0.0</td>\n",
       "      <td>0.000000</td>\n",
       "      <td>10.964662</td>\n",
       "      <td>0.000000</td>\n",
       "      <td>0.0000</td>\n",
       "      <td>0.000000</td>\n",
       "    </tr>\n",
       "    <tr>\n",
       "      <td>8742</td>\n",
       "      <td>8742</td>\n",
       "      <td>0.929000</td>\n",
       "      <td>0.000000</td>\n",
       "      <td>0</td>\n",
       "      <td>0.000000</td>\n",
       "      <td>0.9921</td>\n",
       "      <td>0.0</td>\n",
       "      <td>0.000000</td>\n",
       "      <td>0.216500</td>\n",
       "      <td>0.000000</td>\n",
       "      <td>0.0000</td>\n",
       "      <td>0.000000</td>\n",
       "    </tr>\n",
       "    <tr>\n",
       "      <td>8743</td>\n",
       "      <td>8743</td>\n",
       "      <td>23.094616</td>\n",
       "      <td>0.000000</td>\n",
       "      <td>0</td>\n",
       "      <td>0.000000</td>\n",
       "      <td>0.0000</td>\n",
       "      <td>0.0</td>\n",
       "      <td>0.000000</td>\n",
       "      <td>10.964662</td>\n",
       "      <td>42.267879</td>\n",
       "      <td>0.0000</td>\n",
       "      <td>0.000000</td>\n",
       "    </tr>\n",
       "    <tr>\n",
       "      <td>8744</td>\n",
       "      <td>8744</td>\n",
       "      <td>0.846300</td>\n",
       "      <td>0.000000</td>\n",
       "      <td>0</td>\n",
       "      <td>0.000000</td>\n",
       "      <td>0.8947</td>\n",
       "      <td>0.0</td>\n",
       "      <td>0.000000</td>\n",
       "      <td>0.838600</td>\n",
       "      <td>0.492200</td>\n",
       "      <td>0.0000</td>\n",
       "      <td>0.000000</td>\n",
       "    </tr>\n",
       "  </tbody>\n",
       "</table>\n",
       "<p>8745 rows × 12 columns</p>\n",
       "</div>"
      ],
      "text/plain": [
       "      index       PM10     DirVien  H2S    Humedad  Lluvia  NO2          CO  \\\n",
       "0         0   2.600000  176.100006    0  70.099998  0.0000  0.0  391.467102   \n",
       "1         1  16.299999  149.000000    0  76.400002  0.0000  0.0  708.846497   \n",
       "2         2   9.800000  144.000000    0  79.099998  0.0000  0.0  683.904480   \n",
       "3         3   6.500000  197.199997    0  81.400002  0.0000  0.0  841.206421   \n",
       "4         4   9.000000   29.299999    0  86.400002  0.0000  0.0  681.828613   \n",
       "...     ...        ...         ...  ...        ...     ...  ...         ...   \n",
       "8740   8740   0.802300    0.038700    0   0.038700  0.8946  0.0    0.000000   \n",
       "8741   8741  23.094616    0.000000    0   0.000000  0.0000  0.0    0.000000   \n",
       "8742   8742   0.929000    0.000000    0   0.000000  0.9921  0.0    0.000000   \n",
       "8743   8743  23.094616    0.000000    0   0.000000  0.0000  0.0    0.000000   \n",
       "8744   8744   0.846300    0.000000    0   0.000000  0.8947  0.0    0.000000   \n",
       "\n",
       "             O3     RSolar     SO2       Temp  \n",
       "0     21.635599   0.000000  5.7409  24.400000  \n",
       "1     11.241300   0.000000  7.7142  23.500000  \n",
       "2      8.239500   0.000000  5.1359  22.700001  \n",
       "3      7.457900   0.000000  6.7601  22.600000  \n",
       "4      6.949200   0.000000  5.7961  21.900000  \n",
       "...         ...        ...     ...        ...  \n",
       "8740   0.000000   0.038700  0.0000   0.038700  \n",
       "8741  10.964662   0.000000  0.0000   0.000000  \n",
       "8742   0.216500   0.000000  0.0000   0.000000  \n",
       "8743  10.964662  42.267879  0.0000   0.000000  \n",
       "8744   0.838600   0.492200  0.0000   0.000000  \n",
       "\n",
       "[8745 rows x 12 columns]"
      ]
     },
     "execution_count": 10,
     "metadata": {},
     "output_type": "execute_result"
    }
   ],
   "source": [
    "#Modelo de 12 carateristicas, borro las caracteticas.\n",
    "\n",
    "data=data.drop(['Motos_vehiculos_particulares'], axis=1)\n",
    "data=data.drop(['Poblacion'], axis=1)\n",
    "data.reset_index()"
   ]
  },
  {
   "cell_type": "code",
   "execution_count": 11,
   "metadata": {},
   "outputs": [
    {
     "data": {
      "image/png": "[encoded data removed]",
      "text/plain": [
       "<Figure size 432x288 with 11 Axes>"
      ]
     },
     "metadata": {
      "needs_background": "light"
     },
     "output_type": "display_data"
    },
    {
     "data": {
      "text/plain": [
       "<Figure size 1728x432 with 0 Axes>"
      ]
     },
     "metadata": {},
     "output_type": "display_data"
    }
   ],
   "source": [
    "# Reprecentacion de los datos.\n",
    "from matplotlib import pyplot\n",
    "groups = [0,1,2,3,4,5,6,7,8,9,10]\n",
    "i = 1\n",
    "values = data.values\n",
    "pyplot.figure()\n",
    "for group in groups:\n",
    "    pyplot.subplot(len(groups), 1, i)\n",
    "    pyplot.plot(values[:, group])\n",
    "    pyplot.title(data.columns[group], y=0.5, loc='right')\n",
    "    i += 1\n",
    "pyplot.figure(figsize=(24,6))\n",
    "pyplot.show()"
   ]
  },
  {
   "cell_type": "code",
   "execution_count": 12,
   "metadata": {},
   "outputs": [
    {
     "data": {
      "text/html": [
       "<div>\n",
       "<style scoped>\n",
       "    .dataframe tbody tr th:only-of-type {\n",
       "        vertical-align: middle;\n",
       "    }\n",
       "\n",
       "    .dataframe tbody tr th {\n",
       "        vertical-align: top;\n",
       "    }\n",
       "\n",
       "    .dataframe thead th {\n",
       "        text-align: right;\n",
       "    }\n",
       "</style>\n",
       "<table border=\"1\" class=\"dataframe\">\n",
       "  <thead>\n",
       "    <tr style=\"text-align: right;\">\n",
       "      <th></th>\n",
       "      <th>PM10</th>\n",
       "      <th>DirVien</th>\n",
       "      <th>H2S</th>\n",
       "      <th>Humedad</th>\n",
       "      <th>Lluvia</th>\n",
       "      <th>NO2</th>\n",
       "      <th>CO</th>\n",
       "      <th>O3</th>\n",
       "      <th>RSolar</th>\n",
       "      <th>SO2</th>\n",
       "      <th>Temp</th>\n",
       "    </tr>\n",
       "  </thead>\n",
       "  <tbody>\n",
       "    <tr>\n",
       "      <td>count</td>\n",
       "      <td>8745.000000</td>\n",
       "      <td>8745.000000</td>\n",
       "      <td>8745.0</td>\n",
       "      <td>8745.000000</td>\n",
       "      <td>8745.000000</td>\n",
       "      <td>8745.000000</td>\n",
       "      <td>8745.000000</td>\n",
       "      <td>8745.000000</td>\n",
       "      <td>8745.000000</td>\n",
       "      <td>8745.000000</td>\n",
       "      <td>8745.000000</td>\n",
       "    </tr>\n",
       "    <tr>\n",
       "      <td>mean</td>\n",
       "      <td>26.791206</td>\n",
       "      <td>165.549339</td>\n",
       "      <td>0.0</td>\n",
       "      <td>73.829917</td>\n",
       "      <td>0.393544</td>\n",
       "      <td>17.648530</td>\n",
       "      <td>1334.647888</td>\n",
       "      <td>23.094041</td>\n",
       "      <td>152.349769</td>\n",
       "      <td>16.116981</td>\n",
       "      <td>24.154810</td>\n",
       "    </tr>\n",
       "    <tr>\n",
       "      <td>std</td>\n",
       "      <td>20.088073</td>\n",
       "      <td>102.419191</td>\n",
       "      <td>0.0</td>\n",
       "      <td>15.172316</td>\n",
       "      <td>2.767783</td>\n",
       "      <td>14.761252</td>\n",
       "      <td>756.503036</td>\n",
       "      <td>28.706740</td>\n",
       "      <td>219.520964</td>\n",
       "      <td>18.718881</td>\n",
       "      <td>4.573652</td>\n",
       "    </tr>\n",
       "    <tr>\n",
       "      <td>min</td>\n",
       "      <td>0.000000</td>\n",
       "      <td>0.000000</td>\n",
       "      <td>0.0</td>\n",
       "      <td>0.000000</td>\n",
       "      <td>0.000000</td>\n",
       "      <td>0.000000</td>\n",
       "      <td>0.000000</td>\n",
       "      <td>0.000000</td>\n",
       "      <td>0.000000</td>\n",
       "      <td>0.000000</td>\n",
       "      <td>0.000000</td>\n",
       "    </tr>\n",
       "    <tr>\n",
       "      <td>25%</td>\n",
       "      <td>10.900000</td>\n",
       "      <td>70.599998</td>\n",
       "      <td>0.0</td>\n",
       "      <td>61.000000</td>\n",
       "      <td>0.000000</td>\n",
       "      <td>0.000000</td>\n",
       "      <td>869.296875</td>\n",
       "      <td>4.843800</td>\n",
       "      <td>0.000000</td>\n",
       "      <td>6.911400</td>\n",
       "      <td>21.700001</td>\n",
       "    </tr>\n",
       "    <tr>\n",
       "      <td>50%</td>\n",
       "      <td>22.700001</td>\n",
       "      <td>157.800003</td>\n",
       "      <td>0.0</td>\n",
       "      <td>76.000000</td>\n",
       "      <td>0.000000</td>\n",
       "      <td>17.919701</td>\n",
       "      <td>1292.364258</td>\n",
       "      <td>9.241700</td>\n",
       "      <td>4.100000</td>\n",
       "      <td>10.784500</td>\n",
       "      <td>23.500000</td>\n",
       "    </tr>\n",
       "    <tr>\n",
       "      <td>75%</td>\n",
       "      <td>38.500000</td>\n",
       "      <td>257.799988</td>\n",
       "      <td>0.0</td>\n",
       "      <td>86.000000</td>\n",
       "      <td>0.000000</td>\n",
       "      <td>26.423599</td>\n",
       "      <td>1783.514648</td>\n",
       "      <td>30.708500</td>\n",
       "      <td>276.700012</td>\n",
       "      <td>17.833300</td>\n",
       "      <td>26.500000</td>\n",
       "    </tr>\n",
       "    <tr>\n",
       "      <td>max</td>\n",
       "      <td>149.699997</td>\n",
       "      <td>360.000000</td>\n",
       "      <td>0.0</td>\n",
       "      <td>339.000000</td>\n",
       "      <td>82.040001</td>\n",
       "      <td>124.501801</td>\n",
       "      <td>3703.348877</td>\n",
       "      <td>181.169403</td>\n",
       "      <td>927.700012</td>\n",
       "      <td>286.557892</td>\n",
       "      <td>339.000000</td>\n",
       "    </tr>\n",
       "  </tbody>\n",
       "</table>\n",
       "</div>"
      ],
      "text/plain": [
       "              PM10      DirVien     H2S      Humedad       Lluvia  \\\n",
       "count  8745.000000  8745.000000  8745.0  8745.000000  8745.000000   \n",
       "mean     26.791206   165.549339     0.0    73.829917     0.393544   \n",
       "std      20.088073   102.419191     0.0    15.172316     2.767783   \n",
       "min       0.000000     0.000000     0.0     0.000000     0.000000   \n",
       "25%      10.900000    70.599998     0.0    61.000000     0.000000   \n",
       "50%      22.700001   157.800003     0.0    76.000000     0.000000   \n",
       "75%      38.500000   257.799988     0.0    86.000000     0.000000   \n",
       "max     149.699997   360.000000     0.0   339.000000    82.040001   \n",
       "\n",
       "               NO2           CO           O3       RSolar          SO2  \\\n",
       "count  8745.000000  8745.000000  8745.000000  8745.000000  8745.000000   \n",
       "mean     17.648530  1334.647888    23.094041   152.349769    16.116981   \n",
       "std      14.761252   756.503036    28.706740   219.520964    18.718881   \n",
       "min       0.000000     0.000000     0.000000     0.000000     0.000000   \n",
       "25%       0.000000   869.296875     4.843800     0.000000     6.911400   \n",
       "50%      17.919701  1292.364258     9.241700     4.100000    10.784500   \n",
       "75%      26.423599  1783.514648    30.708500   276.700012    17.833300   \n",
       "max     124.501801  3703.348877   181.169403   927.700012   286.557892   \n",
       "\n",
       "              Temp  \n",
       "count  8745.000000  \n",
       "mean     24.154810  \n",
       "std       4.573652  \n",
       "min       0.000000  \n",
       "25%      21.700001  \n",
       "50%      23.500000  \n",
       "75%      26.500000  \n",
       "max     339.000000  "
      ]
     },
     "execution_count": 12,
     "metadata": {},
     "output_type": "execute_result"
    }
   ],
   "source": [
    "data.describe()"
   ]
  },
  {
   "cell_type": "code",
   "execution_count": 13,
   "metadata": {},
   "outputs": [
    {
     "data": {
      "text/plain": [
       "array([ 0.        ,  0.        ,  0.        , ...,  0.        ,\n",
       "       42.26787949,  0.49219999])"
      ]
     },
     "execution_count": 13,
     "metadata": {},
     "output_type": "execute_result"
    }
   ],
   "source": [
    "values[:,8]"
   ]
  },
  {
   "cell_type": "code",
   "execution_count": 14,
   "metadata": {},
   "outputs": [],
   "source": [
    "#values = data.values\n",
    "\n",
    "# integer encode direction\n",
    "\n",
    "#codifica etiquetas de una característica categórica en valores numéricos entre 0 y el número de clases menos 1.\n",
    "#Una vez instanciado, el método fit lo entrena (creando el mapeado entre las etiquetas y los números)\n",
    "#y el método transform transforma las etiquetas que se incluyan como argumento en los números correspondientes.\n",
    "\n",
    "#encoder = LabelEncoder()\n",
    "#valuesEncoder=encoder.fit_transform(values[:,0])"
   ]
  },
  {
   "cell_type": "code",
   "execution_count": 16,
   "metadata": {},
   "outputs": [],
   "source": [
    "values = data.values\n",
    "\n",
    "#Normalize features(0,1)\n",
    "#Este estimador escala y traduce cada característica\n",
    "#individualmente de modo que esté en el rango dado en el conjunto de entrenamiento\n",
    "#https://scikit-learn.org/stable/modules/generated/sklearn.preprocessing.MinMaxScaler.html\n",
    "\n",
    "scaler = MinMaxScaler(feature_range=(0, 1))\n",
    "scaled = scaler.fit_transform(values)"
   ]
  },
  {
   "cell_type": "code",
   "execution_count": 17,
   "metadata": {},
   "outputs": [
    {
     "data": {
      "text/plain": [
       "array([0.11942193, 0.06204855, 0.04547953, ..., 0.00119501, 0.0605216 ,\n",
       "       0.00462882])"
      ]
     },
     "execution_count": 17,
     "metadata": {},
     "output_type": "execute_result"
    }
   ],
   "source": [
    "scaled[:,7]"
   ]
  },
  {
   "cell_type": "code",
   "execution_count": 18,
   "metadata": {},
   "outputs": [
    {
     "name": "stdout",
     "output_type": "stream",
     "text": [
      "   var1(t-1)  var2(t-1)  var3(t-1)  var4(t-1)  var5(t-1)  var6(t-1)  \\\n",
      "1   0.017368   0.489167        0.0   0.206785        0.0        0.0   \n",
      "2   0.108884   0.413889        0.0   0.225369        0.0        0.0   \n",
      "3   0.065464   0.400000        0.0   0.233333        0.0        0.0   \n",
      "4   0.043420   0.547778        0.0   0.240118        0.0        0.0   \n",
      "5   0.060120   0.081389        0.0   0.254867        0.0        0.0   \n",
      "\n",
      "   var7(t-1)  var8(t-1)  var9(t-1)  var10(t-1)  ...   var2(t)  var3(t)  \\\n",
      "1   0.105706   0.119422        0.0    0.020034  ...  0.413889      0.0   \n",
      "2   0.191407   0.062049        0.0    0.026920  ...  0.400000      0.0   \n",
      "3   0.184672   0.045480        0.0    0.017923  ...  0.547778      0.0   \n",
      "4   0.227147   0.041165        0.0    0.023591  ...  0.081389      0.0   \n",
      "5   0.184111   0.038357        0.0    0.020227  ...  0.022222      0.0   \n",
      "\n",
      "    var4(t)  var5(t)  var6(t)   var7(t)   var8(t)  var9(t)  var10(t)  var11(t)  \n",
      "1  0.225369      0.0      0.0  0.191407  0.062049      0.0  0.026920  0.069322  \n",
      "2  0.233333      0.0      0.0  0.184672  0.045480      0.0  0.017923  0.066962  \n",
      "3  0.240118      0.0      0.0  0.227147  0.041165      0.0  0.023591  0.066667  \n",
      "4  0.254867      0.0      0.0  0.184111  0.038357      0.0  0.020227  0.064602  \n",
      "5  0.258407      0.0      0.0  0.171430  0.035051      0.0  0.018459  0.064012  \n",
      "\n",
      "[5 rows x 22 columns]\n"
     ]
    }
   ],
   "source": [
    "\n",
    "reframed = series_to_supervised(scaled, 1, 1)\n",
    "\n",
    "print(reframed.head())\n"
   ]
  },
  {
   "cell_type": "code",
   "execution_count": 19,
   "metadata": {},
   "outputs": [
    {
     "data": {
      "text/plain": [
       "Index(['var1(t-1)', 'var2(t-1)', 'var3(t-1)', 'var4(t-1)', 'var5(t-1)',\n",
       "       'var6(t-1)', 'var7(t-1)', 'var8(t-1)', 'var9(t-1)', 'var10(t-1)',\n",
       "       'var11(t-1)', 'var1(t)', 'var2(t)', 'var3(t)', 'var4(t)', 'var5(t)',\n",
       "       'var6(t)', 'var7(t)', 'var8(t)', 'var9(t)', 'var10(t)', 'var11(t)'],\n",
       "      dtype='object')"
      ]
     },
     "execution_count": 19,
     "metadata": {},
     "output_type": "execute_result"
    }
   ],
   "source": [
    "reframed.columns"
   ]
  },
  {
   "cell_type": "code",
   "execution_count": 20,
   "metadata": {},
   "outputs": [
    {
     "name": "stdout",
     "output_type": "stream",
     "text": [
      "   var1(t-1)  var2(t-1)  var3(t-1)  var4(t-1)  var5(t-1)  var6(t-1)  \\\n",
      "1   0.017368   0.489167        0.0   0.206785        0.0        0.0   \n",
      "2   0.108884   0.413889        0.0   0.225369        0.0        0.0   \n",
      "3   0.065464   0.400000        0.0   0.233333        0.0        0.0   \n",
      "4   0.043420   0.547778        0.0   0.240118        0.0        0.0   \n",
      "5   0.060120   0.081389        0.0   0.254867        0.0        0.0   \n",
      "\n",
      "   var7(t-1)  var8(t-1)  var9(t-1)  var10(t-1)  var11(t-1)   var1(t)  \n",
      "1   0.105706   0.119422        0.0    0.020034    0.071976  0.108884  \n",
      "2   0.191407   0.062049        0.0    0.026920    0.069322  0.065464  \n",
      "3   0.184672   0.045480        0.0    0.017923    0.066962  0.043420  \n",
      "4   0.227147   0.041165        0.0    0.023591    0.066667  0.060120  \n",
      "5   0.184111   0.038357        0.0    0.020227    0.064602  0.103540  \n"
     ]
    }
   ],
   "source": [
    "#Dejo la variable objetico en PM10 (T) y y todas (T-1)...................\n",
    "reframed.drop(reframed.columns[[12,13,14,15,16,17,18,19,20,21]], axis=1, inplace=True)\n",
    " \n",
    "#Dejo la variable objetico en PM10 (T) y las demas en (T-1)...................\n",
    "#reframed.drop(reframed.columns[[12,14,15,16,17,18,19,20,21,22,23,24,25]], axis=1, inplace=True)\n",
    "print(reframed.head())"
   ]
  },
  {
   "cell_type": "code",
   "execution_count": 21,
   "metadata": {},
   "outputs": [
    {
     "data": {
      "text/plain": [
       "Index(['var1(t-1)', 'var2(t-1)', 'var3(t-1)', 'var4(t-1)', 'var5(t-1)',\n",
       "       'var6(t-1)', 'var7(t-1)', 'var8(t-1)', 'var9(t-1)', 'var10(t-1)',\n",
       "       'var11(t-1)', 'var1(t)'],\n",
       "      dtype='object')"
      ]
     },
     "execution_count": 21,
     "metadata": {},
     "output_type": "execute_result"
    }
   ],
   "source": [
    "reframed.columns"
   ]
  },
  {
   "cell_type": "code",
   "execution_count": 22,
   "metadata": {},
   "outputs": [],
   "source": [
    "values = reframed.values\n",
    "\n",
    "#Datos de entrenamiento y pruebas:\n",
    "n_train_hours = 4000\n",
    "train = values[:n_train_hours, :]\n",
    "test = values[n_train_hours:, :]\n"
   ]
  },
  {
   "cell_type": "code",
   "execution_count": 23,
   "metadata": {},
   "outputs": [
    {
     "data": {
      "text/plain": [
       "array([[0.01736807, 0.48916668, 0.        , ..., 0.        , 0.020034  ,\n",
       "        0.0719764 ],\n",
       "       [0.10888443, 0.41388889, 0.        , ..., 0.        , 0.02692021,\n",
       "        0.06932153],\n",
       "       [0.06546426, 0.4       , 0.        , ..., 0.        , 0.01792273,\n",
       "        0.06696165],\n",
       "       ...,\n",
       "       [0.44221776, 0.29666668, 0.        , ..., 0.        , 0.03132142,\n",
       "        0.07079646],\n",
       "       [0.57381432, 0.32055556, 0.        , ..., 0.        , 0.03946009,\n",
       "        0.06873156],\n",
       "       [0.50501002, 0.44194446, 0.        , ..., 0.        , 0.04618578,\n",
       "        0.06519174]])"
      ]
     },
     "execution_count": 23,
     "metadata": {},
     "output_type": "execute_result"
    }
   ],
   "source": [
    "train[:, 0:11]"
   ]
  },
  {
   "cell_type": "code",
   "execution_count": 24,
   "metadata": {},
   "outputs": [
    {
     "name": "stdout",
     "output_type": "stream",
     "text": [
      "(4000, 1, 11) (4000, 1) (4744, 1, 11) (4744, 1)\n"
     ]
    }
   ],
   "source": [
    "# Datos de entrada y de salida.\n",
    "train_X, train_y = train[:, :-1], train[:, -1:]\n",
    "test_X, test_y = test[:, :-1], test[:, -1:]\n",
    "\n",
    "\n",
    "#Remodelar la entrada para que sea 3D [muestras, pasos de tiempo, características]\n",
    "train_X = train_X.reshape((train_X.shape[0], 1, train_X.shape[1]))\n",
    "test_X = test_X.reshape((test_X.shape[0], 1, test_X.shape[1]))\n",
    "\n",
    "print(train_X.shape, train_y.shape, test_X.shape, test_y.shape)"
   ]
  },
  {
   "cell_type": "code",
   "execution_count": 25,
   "metadata": {},
   "outputs": [
    {
     "name": "stdout",
     "output_type": "stream",
     "text": [
      "WARNING:tensorflow:From C:\\Users\\Cristian\\Anaconda3\\lib\\site-packages\\keras\\backend\\tensorflow_backend.py:74: The name tf.get_default_graph is deprecated. Please use tf.compat.v1.get_default_graph instead.\n",
      "\n",
      "WARNING:tensorflow:From C:\\Users\\Cristian\\Anaconda3\\lib\\site-packages\\keras\\backend\\tensorflow_backend.py:517: The name tf.placeholder is deprecated. Please use tf.compat.v1.placeholder instead.\n",
      "\n",
      "WARNING:tensorflow:From C:\\Users\\Cristian\\Anaconda3\\lib\\site-packages\\keras\\backend\\tensorflow_backend.py:4138: The name tf.random_uniform is deprecated. Please use tf.random.uniform instead.\n",
      "\n",
      "WARNING:tensorflow:From C:\\Users\\Cristian\\Anaconda3\\lib\\site-packages\\keras\\optimizers.py:790: The name tf.train.Optimizer is deprecated. Please use tf.compat.v1.train.Optimizer instead.\n",
      "\n",
      "_________________________________________________________________\n",
      "Layer (type)                 Output Shape              Param #   \n",
      "=================================================================\n",
      "lstm_1 (LSTM)                (None, 50)                12400     \n",
      "_________________________________________________________________\n",
      "dense_1 (Dense)              (None, 1)                 51        \n",
      "=================================================================\n",
      "Total params: 12,451\n",
      "Trainable params: 12,451\n",
      "Non-trainable params: 0\n",
      "_________________________________________________________________\n"
     ]
    }
   ],
   "source": [
    "#Diseñando la red neuronal.\n",
    "model = Sequential()\n",
    "\n",
    "#Capa de entrada (unidades, 1, 12)\n",
    "model.add(LSTM(50, input_shape=(train_X.shape[1], train_X.shape[2])))\n",
    "\n",
    "#Capa de salida.\n",
    "model.add(Dense(1))\n",
    "model.compile(loss='mae', optimizer='adam')\n",
    "model.name=\"LTSM_cali\"\n",
    "\n",
    "#fit(x=None, y=None, batch_size=None, epochs=1, \n",
    "#verbose=1, callbacks=None, validation_split=0.0, validation_data=None, \n",
    "#shuffle=True, class_weight=None, sample_weight=None, initial_epoch=0, steps_per_epoch=None,\n",
    "#validation_steps=None, validation_freq=1, max_queue_size=10, workers=1, use_multiprocessing=False)\n",
    "\n",
    "model.summary()\n"
   ]
  },
  {
   "cell_type": "code",
   "execution_count": 26,
   "metadata": {},
   "outputs": [
    {
     "name": "stdout",
     "output_type": "stream",
     "text": [
      "WARNING:tensorflow:From C:\\Users\\Cristian\\Anaconda3\\lib\\site-packages\\tensorflow_core\\python\\ops\\math_grad.py:1424: where (from tensorflow.python.ops.array_ops) is deprecated and will be removed in a future version.\n",
      "Instructions for updating:\n",
      "Use tf.where in 2.0, which has the same broadcast rule as np.where\n",
      "WARNING:tensorflow:From C:\\Users\\Cristian\\Anaconda3\\lib\\site-packages\\keras\\backend\\tensorflow_backend.py:986: The name tf.assign_add is deprecated. Please use tf.compat.v1.assign_add instead.\n",
      "\n",
      "WARNING:tensorflow:From C:\\Users\\Cristian\\Anaconda3\\lib\\site-packages\\keras\\backend\\tensorflow_backend.py:973: The name tf.assign is deprecated. Please use tf.compat.v1.assign instead.\n",
      "\n",
      "WARNING:tensorflow:From C:\\Users\\Cristian\\Anaconda3\\lib\\site-packages\\keras\\backend\\tensorflow_backend.py:2741: The name tf.Session is deprecated. Please use tf.compat.v1.Session instead.\n",
      "\n",
      "Train on 4000 samples, validate on 4744 samples\n",
      "Epoch 1/50\n",
      "WARNING:tensorflow:From C:\\Users\\Cristian\\Anaconda3\\lib\\site-packages\\keras\\backend\\tensorflow_backend.py:174: The name tf.get_default_session is deprecated. Please use tf.compat.v1.get_default_session instead.\n",
      "\n",
      "WARNING:tensorflow:From C:\\Users\\Cristian\\Anaconda3\\lib\\site-packages\\keras\\backend\\tensorflow_backend.py:181: The name tf.ConfigProto is deprecated. Please use tf.compat.v1.ConfigProto instead.\n",
      "\n",
      "WARNING:tensorflow:From C:\\Users\\Cristian\\Anaconda3\\lib\\site-packages\\keras\\backend\\tensorflow_backend.py:190: The name tf.global_variables is deprecated. Please use tf.compat.v1.global_variables instead.\n",
      "\n",
      "WARNING:tensorflow:From C:\\Users\\Cristian\\Anaconda3\\lib\\site-packages\\keras\\backend\\tensorflow_backend.py:199: The name tf.is_variable_initialized is deprecated. Please use tf.compat.v1.is_variable_initialized instead.\n",
      "\n",
      "WARNING:tensorflow:From C:\\Users\\Cristian\\Anaconda3\\lib\\site-packages\\keras\\backend\\tensorflow_backend.py:206: The name tf.variables_initializer is deprecated. Please use tf.compat.v1.variables_initializer instead.\n",
      "\n",
      " - 1s - loss: 0.1105 - val_loss: 0.1002\n",
      "Epoch 2/50\n",
      " - 0s - loss: 0.0915 - val_loss: 0.0910\n",
      "Epoch 3/50\n",
      " - 0s - loss: 0.0822 - val_loss: 0.0844\n",
      "Epoch 4/50\n",
      " - 0s - loss: 0.0749 - val_loss: 0.0757\n",
      "Epoch 5/50\n",
      " - 0s - loss: 0.0692 - val_loss: 0.0687\n",
      "Epoch 6/50\n",
      " - 0s - loss: 0.0658 - val_loss: 0.0653\n",
      "Epoch 7/50\n",
      " - 0s - loss: 0.0642 - val_loss: 0.0632\n",
      "Epoch 8/50\n",
      " - 0s - loss: 0.0636 - val_loss: 0.0620\n",
      "Epoch 9/50\n",
      " - 0s - loss: 0.0632 - val_loss: 0.0614\n",
      "Epoch 10/50\n",
      " - 0s - loss: 0.0631 - val_loss: 0.0613\n",
      "Epoch 11/50\n",
      " - 0s - loss: 0.0630 - val_loss: 0.0612\n",
      "Epoch 12/50\n",
      " - 0s - loss: 0.0629 - val_loss: 0.0610\n",
      "Epoch 13/50\n",
      " - 0s - loss: 0.0628 - val_loss: 0.0610\n",
      "Epoch 14/50\n",
      " - 0s - loss: 0.0627 - val_loss: 0.0610\n",
      "Epoch 15/50\n",
      " - 0s - loss: 0.0627 - val_loss: 0.0610\n",
      "Epoch 16/50\n",
      " - 0s - loss: 0.0626 - val_loss: 0.0610\n",
      "Epoch 17/50\n",
      " - 0s - loss: 0.0626 - val_loss: 0.0609\n",
      "Epoch 18/50\n",
      " - 0s - loss: 0.0625 - val_loss: 0.0608\n",
      "Epoch 19/50\n",
      " - 0s - loss: 0.0624 - val_loss: 0.0608\n",
      "Epoch 20/50\n",
      " - 0s - loss: 0.0624 - val_loss: 0.0609\n",
      "Epoch 21/50\n",
      " - 0s - loss: 0.0624 - val_loss: 0.0608\n",
      "Epoch 22/50\n",
      " - 0s - loss: 0.0623 - val_loss: 0.0608\n",
      "Epoch 23/50\n",
      " - 0s - loss: 0.0623 - val_loss: 0.0608\n",
      "Epoch 24/50\n",
      " - 0s - loss: 0.0623 - val_loss: 0.0608\n",
      "Epoch 25/50\n",
      " - 0s - loss: 0.0622 - val_loss: 0.0608\n",
      "Epoch 26/50\n",
      " - 0s - loss: 0.0622 - val_loss: 0.0607\n",
      "Epoch 27/50\n",
      " - 0s - loss: 0.0621 - val_loss: 0.0608\n",
      "Epoch 28/50\n",
      " - 0s - loss: 0.0620 - val_loss: 0.0606\n",
      "Epoch 29/50\n",
      " - 0s - loss: 0.0621 - val_loss: 0.0607\n",
      "Epoch 30/50\n",
      " - 0s - loss: 0.0620 - val_loss: 0.0608\n",
      "Epoch 31/50\n",
      " - 0s - loss: 0.0620 - val_loss: 0.0608\n",
      "Epoch 32/50\n",
      " - 0s - loss: 0.0619 - val_loss: 0.0607\n",
      "Epoch 33/50\n",
      " - 0s - loss: 0.0619 - val_loss: 0.0606\n",
      "Epoch 34/50\n",
      " - 0s - loss: 0.0618 - val_loss: 0.0607\n",
      "Epoch 35/50\n",
      " - 0s - loss: 0.0618 - val_loss: 0.0607\n",
      "Epoch 36/50\n",
      " - 0s - loss: 0.0618 - val_loss: 0.0607\n",
      "Epoch 37/50\n",
      " - 0s - loss: 0.0618 - val_loss: 0.0606\n",
      "Epoch 38/50\n",
      " - 0s - loss: 0.0617 - val_loss: 0.0605\n",
      "Epoch 39/50\n",
      " - 0s - loss: 0.0617 - val_loss: 0.0606\n",
      "Epoch 40/50\n",
      " - 0s - loss: 0.0617 - val_loss: 0.0606\n",
      "Epoch 41/50\n",
      " - 0s - loss: 0.0617 - val_loss: 0.0606\n",
      "Epoch 42/50\n",
      " - 0s - loss: 0.0616 - val_loss: 0.0606\n",
      "Epoch 43/50\n",
      " - 0s - loss: 0.0616 - val_loss: 0.0606\n",
      "Epoch 44/50\n",
      " - 0s - loss: 0.0616 - val_loss: 0.0606\n",
      "Epoch 45/50\n",
      " - 0s - loss: 0.0616 - val_loss: 0.0606\n",
      "Epoch 46/50\n",
      " - 0s - loss: 0.0615 - val_loss: 0.0607\n",
      "Epoch 47/50\n",
      " - 0s - loss: 0.0616 - val_loss: 0.0606\n",
      "Epoch 48/50\n",
      " - 0s - loss: 0.0615 - val_loss: 0.0606\n",
      "Epoch 49/50\n",
      " - 0s - loss: 0.0615 - val_loss: 0.0606\n",
      "Epoch 50/50\n",
      " - 0s - loss: 0.0615 - val_loss: 0.0606\n"
     ]
    },
    {
     "data": {
      "image/png": "[encoded data removed]",
      "text/plain": [
       "<Figure size 432x288 with 1 Axes>"
      ]
     },
     "metadata": {
      "needs_background": "light"
     },
     "output_type": "display_data"
    }
   ],
   "source": [
    "\n",
    "# Ajustado el modelo\n",
    "history = model.fit(train_X, train_y, epochs=50, batch_size=72, validation_data=(test_X, test_y), verbose=2, shuffle=False)\n",
    "\n",
    "# Seguimiento al modelo \n",
    "pyplot.plot(history.history['loss'], label='train')\n",
    "pyplot.plot(history.history['val_loss'], label='test')\n",
    "pyplot.legend()\n",
    "pyplot.show()"
   ]
  },
  {
   "cell_type": "code",
   "execution_count": 27,
   "metadata": {},
   "outputs": [
    {
     "data": {
      "text/plain": [
       "(4744, 1, 11)"
      ]
     },
     "execution_count": 27,
     "metadata": {},
     "output_type": "execute_result"
    }
   ],
   "source": [
    "yhat = model.predict(test_X)\n",
    "test_X.shape"
   ]
  },
  {
   "cell_type": "code",
   "execution_count": 28,
   "metadata": {},
   "outputs": [
    {
     "data": {
      "text/plain": [
       "(4744, 11)"
      ]
     },
     "execution_count": 28,
     "metadata": {},
     "output_type": "execute_result"
    }
   ],
   "source": [
    "# Realizo la prediccion.\n",
    "\n",
    "test_X = test_X.reshape((test_X.shape[0], test_X.shape[2]))\n",
    "test_X.shape"
   ]
  },
  {
   "cell_type": "code",
   "execution_count": 170,
   "metadata": {},
   "outputs": [
    {
     "data": {
      "text/plain": [
       "array([[0.76276975],\n",
       "       [0.679138  ],\n",
       "       [0.59207127],\n",
       "       ...,\n",
       "       [0.        ],\n",
       "       [0.        ],\n",
       "       [0.        ]])"
      ]
     },
     "execution_count": 170,
     "metadata": {},
     "output_type": "execute_result"
    }
   ],
   "source": [
    "test_X[:, :1]"
   ]
  },
  {
   "cell_type": "code",
   "execution_count": 30,
   "metadata": {},
   "outputs": [
    {
     "name": "stdout",
     "output_type": "stream",
     "text": [
      "Test RMSE: 12.880\n"
     ]
    }
   ],
   "source": [
    "# invierco el scalar de la prediccion\n",
    "inv_yhat = concatenate((yhat, test_X[:, 1:]), axis=1)\n",
    "inv_yhat = scaler.inverse_transform(inv_yhat)\n",
    "inv_yhat = inv_yhat[:,0]\n",
    "#Invierco el scalar de los dato realizes\n",
    "test_y = test_y.reshape((len(test_y), 1))\n",
    "inv_y = concatenate((test_y, test_X[:, 1:]), axis=1)\n",
    "inv_y = scaler.inverse_transform(inv_y)\n",
    "inv_y = inv_y[:,0]\n",
    "# calcular RMSE\n",
    "rmse = sqrt(mean_squared_error(inv_y, inv_yhat))\n",
    "print('Test RMSE: %.3f' % rmse)"
   ]
  },
  {
   "cell_type": "code",
   "execution_count": 143,
   "metadata": {},
   "outputs": [],
   "source": [
    "# Vuelvo el modelo un archivo .json\n",
    "model_json = model.to_json()\n",
    "with open(\"model.json\", \"w\") as json_file:\n",
    "    json_file.write(model_json)\n",
    "    \n",
    "\n",
    "# Guardar el Modelo\n",
    "model.save_weights('../Modelamiento/LTSM_Cali.h5')"
   ]
  },
  {
   "cell_type": "code",
   "execution_count": 144,
   "metadata": {},
   "outputs": [
    {
     "data": {
      "text/plain": [
       "<keras.engine.sequential.Sequential at 0x2b7f1f0e308>"
      ]
     },
     "execution_count": 144,
     "metadata": {},
     "output_type": "execute_result"
    }
   ],
   "source": [
    "model"
   ]
  },
  {
   "cell_type": "code",
   "execution_count": 40,
   "metadata": {},
   "outputs": [
    {
     "data": {
      "text/plain": [
       "(4000, 14)"
      ]
     },
     "execution_count": 40,
     "metadata": {},
     "output_type": "execute_result"
    }
   ],
   "source": [
    "train.shape"
   ]
  },
  {
   "cell_type": "code",
   "execution_count": null,
   "metadata": {},
   "outputs": [],
   "source": []
  }
 ],
 "metadata": {
  "kernelspec": {
   "display_name": "Python 3",
   "language": "python",
   "name": "python3"
  },
  "language_info": {
   "codemirror_mode": {
    "name": "ipython",
    "version": 3
   },
   "file_extension": ".py",
   "mimetype": "text/x-python",
   "name": "python",
   "nbconvert_exporter": "python",
   "pygments_lexer": "ipython3",
   "version": "3.7.4"
  }
 },
 "nbformat": 4,
 "nbformat_minor": 2
}
