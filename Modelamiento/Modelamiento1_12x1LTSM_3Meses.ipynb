{
 "cells": [
  {
   "cell_type": "code",
   "execution_count": 26,
   "metadata": {},
   "outputs": [],
   "source": [
    "from math import sqrt\n",
    "from numpy import concatenate\n",
    "from matplotlib import pyplot as plt\n",
    "from pandas import read_csv\n",
    "from pandas import DataFrame\n",
    "from pandas import concat\n",
    "from sklearn.preprocessing import MinMaxScaler\n",
    "from sklearn.preprocessing import LabelEncoder\n",
    "from sklearn.metrics import mean_squared_error\n",
    "from sklearn.metrics import r2_score\n",
    "from keras.models import Sequential\n",
    "from keras.layers import Dense\n",
    "from keras.layers import LSTM\n",
    "from tensorflow import keras\n",
    "from keras.models import model_from_json\n",
    "import numpy as np\n",
    "import pandas as pd\n",
    "import time\n",
    "import tensorflow as tf"
   ]
  },
  {
   "cell_type": "code",
   "execution_count": 27,
   "metadata": {},
   "outputs": [],
   "source": [
    "# datos: secuencia de observaciones como una lista o matriz 2D NumPy. Necesario.\n",
    "# n_in: Número de observaciones de retraso como entrada (X). Los valores pueden estar entre [1..len (datos)] Opcional. El valor predeterminado es 1.\n",
    "# n_out: Número de observaciones como salida (y). Los valores pueden estar entre [0..len (datos) -1]. Opcional. Por defecto es 1.\n",
    "# dropnan: booleano si se deben soltar o no filas con valores NaN. Opcional. Por defecto es verdadero.\n",
    "\n",
    "\n",
    "def series_to_supervised(data, n_in=1, n_out=1, dropnan=True):\n",
    "    n_vars = 1 if type(data) is list else data.shape[1]\n",
    "    df = DataFrame(data)\n",
    "    cols, names = list(), list()\n",
    "# observaciones pasadas  (t-n, ... t-1)\n",
    "    for i in range(n_in, 0, -1):\n",
    "        cols.append(df.shift(i))\n",
    "        names += [('var%d(t-%d)' % (j+1, i)) for j in range(n_vars)]\n",
    "# tiempos futuros  (t, t+1, ... t+n)\n",
    "    for i in range(0, n_out):\n",
    "        cols.append(df.shift(-i))\n",
    "        if i == 0:\n",
    "            names += [('var%d(t)' % (j+1)) for j in range(n_vars)]\n",
    "        else:\n",
    "            names += [('var%d(t+%d)' % (j+1, i)) for j in range(n_vars)]\n",
    "    agg = concat(cols, axis=1)\n",
    "    agg.columns = names\n",
    "    if dropnan:\n",
    "        agg.dropna(inplace=True)\n",
    "    return agg"
   ]
  },
  {
   "cell_type": "code",
   "execution_count": 4,
   "metadata": {},
   "outputs": [],
   "source": [
    "data = pd.read_excel('../PreparacionDatos/floraTotal_quarter.xlsx' , sheet_name='floraTotal_quarter' ,header=0)"
   ]
  },
  {
   "cell_type": "code",
   "execution_count": 5,
   "metadata": {},
   "outputs": [
    {
     "data": {
      "text/plain": [
       "Index(['Unnamed: 0', 'CO', 'DirVien', 'H2S (ug/m3)', 'Humedad', 'Lluvia',\n",
       "       'Motos_vehiculos_particulares', 'NO2', 'O3', 'PM10', 'Poblacion',\n",
       "       'RSolar', 'SO2', 'Temp', 'VelVien'],\n",
       "      dtype='object')"
      ]
     },
     "execution_count": 5,
     "metadata": {},
     "output_type": "execute_result"
    }
   ],
   "source": [
    "data.columns"
   ]
  },
  {
   "cell_type": "code",
   "execution_count": 6,
   "metadata": {},
   "outputs": [],
   "source": [
    "#Borro solo dejo PM10, lluvia, población y parque automovilístico\n",
    "\n",
    "data = data.drop(['Unnamed: 0', 'CO', 'DirVien', 'H2S (ug/m3)', 'Humedad', 'NO2', 'O3', 'RSolar', 'SO2', 'Temp', 'VelVien'], axis=1)\n"
   ]
  },
  {
   "cell_type": "code",
   "execution_count": 7,
   "metadata": {},
   "outputs": [
    {
     "data": {
      "text/plain": [
       "Index(['Lluvia', 'Motos_vehiculos_particulares', 'PM10', 'Poblacion'], dtype='object')"
      ]
     },
     "execution_count": 7,
     "metadata": {},
     "output_type": "execute_result"
    }
   ],
   "source": [
    "data.columns"
   ]
  },
  {
   "cell_type": "code",
   "execution_count": 8,
   "metadata": {},
   "outputs": [
    {
     "data": {
      "text/html": [
       "<div>\n",
       "<style scoped>\n",
       "    .dataframe tbody tr th:only-of-type {\n",
       "        vertical-align: middle;\n",
       "    }\n",
       "\n",
       "    .dataframe tbody tr th {\n",
       "        vertical-align: top;\n",
       "    }\n",
       "\n",
       "    .dataframe thead th {\n",
       "        text-align: right;\n",
       "    }\n",
       "</style>\n",
       "<table border=\"1\" class=\"dataframe\">\n",
       "  <thead>\n",
       "    <tr style=\"text-align: right;\">\n",
       "      <th></th>\n",
       "      <th>PM10</th>\n",
       "      <th>Motos_vehiculos_particulares</th>\n",
       "      <th>Lluvia</th>\n",
       "      <th>Poblacion</th>\n",
       "    </tr>\n",
       "  </thead>\n",
       "  <tbody>\n",
       "    <tr>\n",
       "      <td>count</td>\n",
       "      <td>32.000000</td>\n",
       "      <td>32.000000</td>\n",
       "      <td>32.000000</td>\n",
       "      <td>3.200000e+01</td>\n",
       "    </tr>\n",
       "    <tr>\n",
       "      <td>mean</td>\n",
       "      <td>29.407487</td>\n",
       "      <td>498530.625000</td>\n",
       "      <td>0.282681</td>\n",
       "      <td>2.332282e+06</td>\n",
       "    </tr>\n",
       "    <tr>\n",
       "      <td>std</td>\n",
       "      <td>8.065527</td>\n",
       "      <td>96047.452489</td>\n",
       "      <td>0.186494</td>\n",
       "      <td>5.833838e+04</td>\n",
       "    </tr>\n",
       "    <tr>\n",
       "      <td>min</td>\n",
       "      <td>16.134058</td>\n",
       "      <td>348066.000000</td>\n",
       "      <td>0.015700</td>\n",
       "      <td>2.244668e+06</td>\n",
       "    </tr>\n",
       "    <tr>\n",
       "      <td>25%</td>\n",
       "      <td>24.819687</td>\n",
       "      <td>426908.500000</td>\n",
       "      <td>0.173525</td>\n",
       "      <td>2.288403e+06</td>\n",
       "    </tr>\n",
       "    <tr>\n",
       "      <td>50%</td>\n",
       "      <td>28.018413</td>\n",
       "      <td>505229.000000</td>\n",
       "      <td>0.244030</td>\n",
       "      <td>2.332209e+06</td>\n",
       "    </tr>\n",
       "    <tr>\n",
       "      <td>75%</td>\n",
       "      <td>33.663911</td>\n",
       "      <td>575963.250000</td>\n",
       "      <td>0.389344</td>\n",
       "      <td>2.376097e+06</td>\n",
       "    </tr>\n",
       "    <tr>\n",
       "      <td>max</td>\n",
       "      <td>47.904537</td>\n",
       "      <td>630478.000000</td>\n",
       "      <td>0.939613</td>\n",
       "      <td>2.420114e+06</td>\n",
       "    </tr>\n",
       "  </tbody>\n",
       "</table>\n",
       "</div>"
      ],
      "text/plain": [
       "            PM10  Motos_vehiculos_particulares     Lluvia     Poblacion\n",
       "count  32.000000                     32.000000  32.000000  3.200000e+01\n",
       "mean   29.407487                 498530.625000   0.282681  2.332282e+06\n",
       "std     8.065527                  96047.452489   0.186494  5.833838e+04\n",
       "min    16.134058                 348066.000000   0.015700  2.244668e+06\n",
       "25%    24.819687                 426908.500000   0.173525  2.288403e+06\n",
       "50%    28.018413                 505229.000000   0.244030  2.332209e+06\n",
       "75%    33.663911                 575963.250000   0.389344  2.376097e+06\n",
       "max    47.904537                 630478.000000   0.939613  2.420114e+06"
      ]
     },
     "execution_count": 8,
     "metadata": {},
     "output_type": "execute_result"
    }
   ],
   "source": [
    "#Modelo de 4 carateristicas.\n",
    "\n",
    "new_order = [2,1,0,3]\n",
    "data = data[data.columns[new_order]]\n",
    "\n",
    "data.describe()"
   ]
  },
  {
   "cell_type": "code",
   "execution_count": 9,
   "metadata": {},
   "outputs": [
    {
     "data": {
      "image/png": "[encoded data removed]",
      "text/plain": [
       "<Figure size 432x288 with 4 Axes>"
      ]
     },
     "metadata": {
      "needs_background": "light"
     },
     "output_type": "display_data"
    },
    {
     "data": {
      "text/plain": [
       "<Figure size 1728x432 with 0 Axes>"
      ]
     },
     "metadata": {},
     "output_type": "display_data"
    }
   ],
   "source": [
    "# Reprecentacion de los datos.\n",
    "from matplotlib import pyplot\n",
    "groups = [0,1,2,3]\n",
    "i = 1\n",
    "values = data.values\n",
    "pyplot.figure()\n",
    "for group in groups:\n",
    "    pyplot.subplot(len(groups), 1, i)\n",
    "    pyplot.plot(values[:, group])\n",
    "    pyplot.title(data.columns[group], y=0.5, loc='right')\n",
    "    i += 1\n",
    "pyplot.figure(figsize=(24,6))\n",
    "pyplot.show()"
   ]
  },
  {
   "cell_type": "code",
   "execution_count": 10,
   "metadata": {},
   "outputs": [
    {
     "data": {
      "text/html": [
       "<div>\n",
       "<style scoped>\n",
       "    .dataframe tbody tr th:only-of-type {\n",
       "        vertical-align: middle;\n",
       "    }\n",
       "\n",
       "    .dataframe tbody tr th {\n",
       "        vertical-align: top;\n",
       "    }\n",
       "\n",
       "    .dataframe thead th {\n",
       "        text-align: right;\n",
       "    }\n",
       "</style>\n",
       "<table border=\"1\" class=\"dataframe\">\n",
       "  <thead>\n",
       "    <tr style=\"text-align: right;\">\n",
       "      <th></th>\n",
       "      <th>PM10</th>\n",
       "      <th>Motos_vehiculos_particulares</th>\n",
       "      <th>Lluvia</th>\n",
       "      <th>Poblacion</th>\n",
       "    </tr>\n",
       "  </thead>\n",
       "  <tbody>\n",
       "    <tr>\n",
       "      <td>count</td>\n",
       "      <td>32.000000</td>\n",
       "      <td>32.000000</td>\n",
       "      <td>32.000000</td>\n",
       "      <td>3.200000e+01</td>\n",
       "    </tr>\n",
       "    <tr>\n",
       "      <td>mean</td>\n",
       "      <td>29.407487</td>\n",
       "      <td>498530.625000</td>\n",
       "      <td>0.282681</td>\n",
       "      <td>2.332282e+06</td>\n",
       "    </tr>\n",
       "    <tr>\n",
       "      <td>std</td>\n",
       "      <td>8.065527</td>\n",
       "      <td>96047.452489</td>\n",
       "      <td>0.186494</td>\n",
       "      <td>5.833838e+04</td>\n",
       "    </tr>\n",
       "    <tr>\n",
       "      <td>min</td>\n",
       "      <td>16.134058</td>\n",
       "      <td>348066.000000</td>\n",
       "      <td>0.015700</td>\n",
       "      <td>2.244668e+06</td>\n",
       "    </tr>\n",
       "    <tr>\n",
       "      <td>25%</td>\n",
       "      <td>24.819687</td>\n",
       "      <td>426908.500000</td>\n",
       "      <td>0.173525</td>\n",
       "      <td>2.288403e+06</td>\n",
       "    </tr>\n",
       "    <tr>\n",
       "      <td>50%</td>\n",
       "      <td>28.018413</td>\n",
       "      <td>505229.000000</td>\n",
       "      <td>0.244030</td>\n",
       "      <td>2.332209e+06</td>\n",
       "    </tr>\n",
       "    <tr>\n",
       "      <td>75%</td>\n",
       "      <td>33.663911</td>\n",
       "      <td>575963.250000</td>\n",
       "      <td>0.389344</td>\n",
       "      <td>2.376097e+06</td>\n",
       "    </tr>\n",
       "    <tr>\n",
       "      <td>max</td>\n",
       "      <td>47.904537</td>\n",
       "      <td>630478.000000</td>\n",
       "      <td>0.939613</td>\n",
       "      <td>2.420114e+06</td>\n",
       "    </tr>\n",
       "  </tbody>\n",
       "</table>\n",
       "</div>"
      ],
      "text/plain": [
       "            PM10  Motos_vehiculos_particulares     Lluvia     Poblacion\n",
       "count  32.000000                     32.000000  32.000000  3.200000e+01\n",
       "mean   29.407487                 498530.625000   0.282681  2.332282e+06\n",
       "std     8.065527                  96047.452489   0.186494  5.833838e+04\n",
       "min    16.134058                 348066.000000   0.015700  2.244668e+06\n",
       "25%    24.819687                 426908.500000   0.173525  2.288403e+06\n",
       "50%    28.018413                 505229.000000   0.244030  2.332209e+06\n",
       "75%    33.663911                 575963.250000   0.389344  2.376097e+06\n",
       "max    47.904537                 630478.000000   0.939613  2.420114e+06"
      ]
     },
     "execution_count": 10,
     "metadata": {},
     "output_type": "execute_result"
    }
   ],
   "source": [
    "data.describe()"
   ]
  },
  {
   "cell_type": "code",
   "execution_count": null,
   "metadata": {},
   "outputs": [],
   "source": [
    "data.to_excel(\"FloraTotal_3mes.xlsx\", sheet_name='FloraTotal',encoding='UTF-8') #"
   ]
  },
  {
   "cell_type": "code",
   "execution_count": 11,
   "metadata": {},
   "outputs": [],
   "source": [
    "values = data.values\n",
    "\n",
    "#Normalize features(0,1)\n",
    "#Este estimador escala y traduce cada característica\n",
    "#individualmente de modo que esté en el rango dado en el conjunto de entrenamiento\n",
    "#https://scikit-learn.org/stable/modules/generated/sklearn.preprocessing.MinMaxScaler.html\n",
    "\n",
    "scaler = MinMaxScaler(feature_range=(0, 1))\n",
    "scaled = scaler.fit_transform(values)"
   ]
  },
  {
   "cell_type": "code",
   "execution_count": 12,
   "metadata": {},
   "outputs": [
    {
     "name": "stdout",
     "output_type": "stream",
     "text": [
      "   var1(t-1)  var2(t-1)  var3(t-1)  var4(t-1)   var1(t)   var2(t)   var3(t)  \\\n",
      "1   0.277607   0.000000   1.000000   0.000000  0.117549  0.000000  0.397346   \n",
      "2   0.117549   0.000000   0.397346   0.000000  0.362690  0.000000  0.267852   \n",
      "3   0.362690   0.000000   0.267852   0.000000  0.312961  0.000000  0.603016   \n",
      "4   0.312961   0.000000   0.603016   0.000000  0.344566  0.153184  0.189067   \n",
      "5   0.344566   0.153184   0.189067   0.142408  0.260727  0.153184  0.430659   \n",
      "\n",
      "    var4(t)  \n",
      "1  0.000000  \n",
      "2  0.000000  \n",
      "3  0.000000  \n",
      "4  0.142408  \n",
      "5  0.142408  \n"
     ]
    }
   ],
   "source": [
    "\n",
    "reframed = series_to_supervised(scaled, 1, 1)\n",
    "\n",
    "print(reframed.head())\n"
   ]
  },
  {
   "cell_type": "code",
   "execution_count": 13,
   "metadata": {},
   "outputs": [
    {
     "data": {
      "text/plain": [
       "Index(['var1(t-1)', 'var2(t-1)', 'var3(t-1)', 'var4(t-1)', 'var1(t)',\n",
       "       'var2(t)', 'var3(t)', 'var4(t)'],\n",
       "      dtype='object')"
      ]
     },
     "execution_count": 13,
     "metadata": {},
     "output_type": "execute_result"
    }
   ],
   "source": [
    "reframed.columns"
   ]
  },
  {
   "cell_type": "code",
   "execution_count": 14,
   "metadata": {},
   "outputs": [
    {
     "name": "stdout",
     "output_type": "stream",
     "text": [
      "   var1(t-1)  var2(t-1)  var3(t-1)  var4(t-1)   var1(t)\n",
      "1   0.277607   0.000000   1.000000   0.000000  0.117549\n",
      "2   0.117549   0.000000   0.397346   0.000000  0.362690\n",
      "3   0.362690   0.000000   0.267852   0.000000  0.312961\n",
      "4   0.312961   0.000000   0.603016   0.000000  0.344566\n",
      "5   0.344566   0.153184   0.189067   0.142408  0.260727\n"
     ]
    }
   ],
   "source": [
    "#Dejo la variable objetico en PM10 (T) y y todas (T-1)...................\n",
    "reframed.drop(reframed.columns[[5,6,7]], axis=1, inplace=True)\n",
    "print(reframed.head())"
   ]
  },
  {
   "cell_type": "code",
   "execution_count": 62,
   "metadata": {},
   "outputs": [
    {
     "data": {
      "text/plain": [
       "Index(['var1(t-1)', 'var2(t-1)', 'var3(t-1)', 'var4(t-1)', 'var1(t)'], dtype='object')"
      ]
     },
     "execution_count": 62,
     "metadata": {},
     "output_type": "execute_result"
    }
   ],
   "source": [
    "reframed.columns"
   ]
  },
  {
   "cell_type": "code",
   "execution_count": 15,
   "metadata": {},
   "outputs": [],
   "source": [
    "values = reframed.values\n",
    "\n",
    "#Datos de entrenamiento y pruebas:\n",
    "n_train_hours = 23\n",
    "train = values[:n_train_hours, :]\n",
    "test = values[n_train_hours:, :]\n"
   ]
  },
  {
   "cell_type": "code",
   "execution_count": 16,
   "metadata": {},
   "outputs": [
    {
     "name": "stdout",
     "output_type": "stream",
     "text": [
      "(23, 1, 4) (23, 1) (8, 1, 4) (8, 1)\n"
     ]
    }
   ],
   "source": [
    "# Datos de entrada y de salida.\n",
    "train_X, train_y = train[:, :-1], train[:, -1:]\n",
    "test_X, test_y = test[:, :-1], test[:, -1:]\n",
    "\n",
    "\n",
    "#Remodelar la entrada para que sea 3D [muestras, pasos de tiempo, características]\n",
    "train_X = train_X.reshape((train_X.shape[0], 1, train_X.shape[1]))\n",
    "test_X = test_X.reshape((test_X.shape[0], 1, test_X.shape[1]))\n",
    "\n",
    "print(train_X.shape, train_y.shape, test_X.shape, test_y.shape)"
   ]
  },
  {
   "cell_type": "code",
   "execution_count": 18,
   "metadata": {},
   "outputs": [
    {
     "name": "stdout",
     "output_type": "stream",
     "text": [
      "WARNING:tensorflow:From C:\\Users\\Cristian\\Anaconda3\\lib\\site-packages\\keras\\backend\\tensorflow_backend.py:74: The name tf.get_default_graph is deprecated. Please use tf.compat.v1.get_default_graph instead.\n",
      "\n",
      "WARNING:tensorflow:From C:\\Users\\Cristian\\Anaconda3\\lib\\site-packages\\keras\\backend\\tensorflow_backend.py:517: The name tf.placeholder is deprecated. Please use tf.compat.v1.placeholder instead.\n",
      "\n",
      "WARNING:tensorflow:From C:\\Users\\Cristian\\Anaconda3\\lib\\site-packages\\keras\\backend\\tensorflow_backend.py:4138: The name tf.random_uniform is deprecated. Please use tf.random.uniform instead.\n",
      "\n",
      "WARNING:tensorflow:From C:\\Users\\Cristian\\Anaconda3\\lib\\site-packages\\keras\\optimizers.py:790: The name tf.train.Optimizer is deprecated. Please use tf.compat.v1.train.Optimizer instead.\n",
      "\n",
      "_________________________________________________________________\n",
      "Layer (type)                 Output Shape              Param #   \n",
      "=================================================================\n",
      "lstm_1 (LSTM)                (None, 50)                11000     \n",
      "_________________________________________________________________\n",
      "dense_1 (Dense)              (None, 1)                 51        \n",
      "=================================================================\n",
      "Total params: 11,051\n",
      "Trainable params: 11,051\n",
      "Non-trainable params: 0\n",
      "_________________________________________________________________\n"
     ]
    }
   ],
   "source": [
    "#Diseñando la red neuronal.\n",
    "model = Sequential()\n",
    "\n",
    "#Capa de entrada (unidades, 1, 4)\n",
    "model.add(LSTM(50, input_shape=(train_X.shape[1], train_X.shape[2])))\n",
    "\n",
    "#Capa de salida.\n",
    "model.add(Dense(1))\n",
    "model.compile(loss='mae', optimizer='adam')\n",
    "model.name=\"LTSM_cali_3meses\"\n",
    "\n",
    "#fit(x=None, y=None, batch_size=None, epochs=1, \n",
    "#verbose=1, callbacks=None, validation_split=0.0, validation_data=None, \n",
    "#shuffle=True, class_weight=None, sample_weight=None, initial_epoch=0, steps_per_epoch=None,\n",
    "#validation_steps=None, validation_freq=1, max_queue_size=10, workers=1, use_multiprocessing=False)\n",
    "\n",
    "model.summary()\n"
   ]
  },
  {
   "cell_type": "code",
   "execution_count": 19,
   "metadata": {},
   "outputs": [
    {
     "name": "stdout",
     "output_type": "stream",
     "text": [
      "WARNING:tensorflow:From C:\\Users\\Cristian\\Anaconda3\\lib\\site-packages\\tensorflow_core\\python\\ops\\math_grad.py:1424: where (from tensorflow.python.ops.array_ops) is deprecated and will be removed in a future version.\n",
      "Instructions for updating:\n",
      "Use tf.where in 2.0, which has the same broadcast rule as np.where\n",
      "WARNING:tensorflow:From C:\\Users\\Cristian\\Anaconda3\\lib\\site-packages\\keras\\backend\\tensorflow_backend.py:986: The name tf.assign_add is deprecated. Please use tf.compat.v1.assign_add instead.\n",
      "\n",
      "WARNING:tensorflow:From C:\\Users\\Cristian\\Anaconda3\\lib\\site-packages\\keras\\backend\\tensorflow_backend.py:973: The name tf.assign is deprecated. Please use tf.compat.v1.assign instead.\n",
      "\n",
      "WARNING:tensorflow:From C:\\Users\\Cristian\\Anaconda3\\lib\\site-packages\\keras\\backend\\tensorflow_backend.py:2741: The name tf.Session is deprecated. Please use tf.compat.v1.Session instead.\n",
      "\n",
      "Train on 23 samples, validate on 8 samples\n",
      "Epoch 1/50\n",
      "WARNING:tensorflow:From C:\\Users\\Cristian\\Anaconda3\\lib\\site-packages\\keras\\backend\\tensorflow_backend.py:174: The name tf.get_default_session is deprecated. Please use tf.compat.v1.get_default_session instead.\n",
      "\n",
      "WARNING:tensorflow:From C:\\Users\\Cristian\\Anaconda3\\lib\\site-packages\\keras\\backend\\tensorflow_backend.py:181: The name tf.ConfigProto is deprecated. Please use tf.compat.v1.ConfigProto instead.\n",
      "\n",
      "WARNING:tensorflow:From C:\\Users\\Cristian\\Anaconda3\\lib\\site-packages\\keras\\backend\\tensorflow_backend.py:190: The name tf.global_variables is deprecated. Please use tf.compat.v1.global_variables instead.\n",
      "\n",
      "WARNING:tensorflow:From C:\\Users\\Cristian\\Anaconda3\\lib\\site-packages\\keras\\backend\\tensorflow_backend.py:199: The name tf.is_variable_initialized is deprecated. Please use tf.compat.v1.is_variable_initialized instead.\n",
      "\n",
      "WARNING:tensorflow:From C:\\Users\\Cristian\\Anaconda3\\lib\\site-packages\\keras\\backend\\tensorflow_backend.py:206: The name tf.variables_initializer is deprecated. Please use tf.compat.v1.variables_initializer instead.\n",
      "\n",
      " - 1s - loss: 0.4135 - val_loss: 0.3370\n",
      "Epoch 2/50\n",
      " - 0s - loss: 0.4068 - val_loss: 0.3269\n",
      "Epoch 3/50\n",
      " - 0s - loss: 0.4002 - val_loss: 0.3167\n",
      "Epoch 4/50\n",
      " - 0s - loss: 0.3935 - val_loss: 0.3066\n",
      "Epoch 5/50\n",
      " - 0s - loss: 0.3869 - val_loss: 0.2964\n",
      "Epoch 6/50\n",
      " - 0s - loss: 0.3802 - val_loss: 0.2863\n",
      "Epoch 7/50\n",
      " - 0s - loss: 0.3738 - val_loss: 0.2762\n",
      "Epoch 8/50\n",
      " - 0s - loss: 0.3678 - val_loss: 0.2661\n",
      "Epoch 9/50\n",
      " - 0s - loss: 0.3617 - val_loss: 0.2560\n",
      "Epoch 10/50\n",
      " - 0s - loss: 0.3557 - val_loss: 0.2460\n",
      "Epoch 11/50\n",
      " - 0s - loss: 0.3496 - val_loss: 0.2359\n",
      "Epoch 12/50\n",
      " - 0s - loss: 0.3435 - val_loss: 0.2274\n",
      "Epoch 13/50\n",
      " - 0s - loss: 0.3375 - val_loss: 0.2196\n",
      "Epoch 14/50\n",
      " - 0s - loss: 0.3313 - val_loss: 0.2119\n",
      "Epoch 15/50\n",
      " - 0s - loss: 0.3252 - val_loss: 0.2041\n",
      "Epoch 16/50\n",
      " - 0s - loss: 0.3197 - val_loss: 0.1968\n",
      "Epoch 17/50\n",
      " - 0s - loss: 0.3147 - val_loss: 0.1915\n",
      "Epoch 18/50\n",
      " - 0s - loss: 0.3097 - val_loss: 0.1863\n",
      "Epoch 19/50\n",
      " - 0s - loss: 0.3048 - val_loss: 0.1810\n",
      "Epoch 20/50\n",
      " - 0s - loss: 0.2998 - val_loss: 0.1757\n",
      "Epoch 21/50\n",
      " - 0s - loss: 0.2948 - val_loss: 0.1704\n",
      "Epoch 22/50\n",
      " - 0s - loss: 0.2899 - val_loss: 0.1651\n",
      "Epoch 23/50\n",
      " - 0s - loss: 0.2849 - val_loss: 0.1597\n",
      "Epoch 24/50\n",
      " - 0s - loss: 0.2799 - val_loss: 0.1543\n",
      "Epoch 25/50\n",
      " - 0s - loss: 0.2748 - val_loss: 0.1489\n",
      "Epoch 26/50\n",
      " - 0s - loss: 0.2698 - val_loss: 0.1434\n",
      "Epoch 27/50\n",
      " - 0s - loss: 0.2646 - val_loss: 0.1390\n",
      "Epoch 28/50\n",
      " - 0s - loss: 0.2595 - val_loss: 0.1359\n",
      "Epoch 29/50\n",
      " - 0s - loss: 0.2543 - val_loss: 0.1328\n",
      "Epoch 30/50\n",
      " - 0s - loss: 0.2495 - val_loss: 0.1297\n",
      "Epoch 31/50\n",
      " - 0s - loss: 0.2449 - val_loss: 0.1266\n",
      "Epoch 32/50\n",
      " - 0s - loss: 0.2402 - val_loss: 0.1235\n",
      "Epoch 33/50\n",
      " - 0s - loss: 0.2355 - val_loss: 0.1227\n",
      "Epoch 34/50\n",
      " - 0s - loss: 0.2308 - val_loss: 0.1224\n",
      "Epoch 35/50\n",
      " - 0s - loss: 0.2261 - val_loss: 0.1232\n",
      "Epoch 36/50\n",
      " - 0s - loss: 0.2215 - val_loss: 0.1257\n",
      "Epoch 37/50\n",
      " - 0s - loss: 0.2176 - val_loss: 0.1282\n",
      "Epoch 38/50\n",
      " - 0s - loss: 0.2138 - val_loss: 0.1306\n",
      "Epoch 39/50\n",
      " - 0s - loss: 0.2100 - val_loss: 0.1331\n",
      "Epoch 40/50\n",
      " - 0s - loss: 0.2061 - val_loss: 0.1355\n",
      "Epoch 41/50\n",
      " - 0s - loss: 0.2023 - val_loss: 0.1400\n",
      "Epoch 42/50\n",
      " - 0s - loss: 0.1984 - val_loss: 0.1453\n",
      "Epoch 43/50\n",
      " - 0s - loss: 0.1945 - val_loss: 0.1506\n",
      "Epoch 44/50\n",
      " - 0s - loss: 0.1906 - val_loss: 0.1560\n",
      "Epoch 45/50\n",
      " - 0s - loss: 0.1870 - val_loss: 0.1612\n",
      "Epoch 46/50\n",
      " - 0s - loss: 0.1845 - val_loss: 0.1663\n",
      "Epoch 47/50\n",
      " - 0s - loss: 0.1824 - val_loss: 0.1721\n",
      "Epoch 48/50\n",
      " - 0s - loss: 0.1806 - val_loss: 0.1795\n",
      "Epoch 49/50\n",
      " - 0s - loss: 0.1795 - val_loss: 0.1866\n",
      "Epoch 50/50\n",
      " - 0s - loss: 0.1784 - val_loss: 0.1933\n"
     ]
    },
    {
     "data": {
      "image/png": "[encoded data removed]",
      "text/plain": [
       "<Figure size 432x288 with 1 Axes>"
      ]
     },
     "metadata": {
      "needs_background": "light"
     },
     "output_type": "display_data"
    }
   ],
   "source": [
    "\n",
    "# Ajustado el modelo\n",
    "history = model.fit(train_X, train_y, epochs=50, batch_size=72, validation_data=(test_X, test_y), verbose=2, shuffle=False)\n",
    "\n",
    "# Seguimiento al modelo \n",
    "pyplot.plot(history.history['loss'], label='train')\n",
    "pyplot.plot(history.history['val_loss'], label='test')\n",
    "pyplot.legend()\n",
    "pyplot.show()"
   ]
  },
  {
   "cell_type": "code",
   "execution_count": 20,
   "metadata": {},
   "outputs": [
    {
     "data": {
      "text/plain": [
       "(8, 1, 4)"
      ]
     },
     "execution_count": 20,
     "metadata": {},
     "output_type": "execute_result"
    }
   ],
   "source": [
    "yhat = model.predict(test_X)\n",
    "test_X.shape"
   ]
  },
  {
   "cell_type": "code",
   "execution_count": 21,
   "metadata": {},
   "outputs": [
    {
     "data": {
      "text/plain": [
       "(8, 4)"
      ]
     },
     "execution_count": 21,
     "metadata": {},
     "output_type": "execute_result"
    }
   ],
   "source": [
    "# Realizo la prediccion.\n",
    "\n",
    "test_X = test_X.reshape((test_X.shape[0], test_X.shape[2]))\n",
    "test_X.shape"
   ]
  },
  {
   "cell_type": "code",
   "execution_count": 22,
   "metadata": {},
   "outputs": [
    {
     "name": "stdout",
     "output_type": "stream",
     "text": [
      "Test RMSE: 7.179\n"
     ]
    }
   ],
   "source": [
    "# invierco el scalar de la prediccion\n",
    "inv_yhat = concatenate((yhat, test_X[:, 1:]), axis=1)\n",
    "inv_yhat = scaler.inverse_transform(inv_yhat)\n",
    "inv_yhat = inv_yhat[:,0]\n",
    "#Invierco el scalar de los dato realizes\n",
    "test_y = test_y.reshape((len(test_y), 1))\n",
    "inv_y = concatenate((test_y, test_X[:, 1:]), axis=1)\n",
    "inv_y = scaler.inverse_transform(inv_y)\n",
    "inv_y = inv_y[:,0]\n",
    "# calcular RMSE\n",
    "rmse = sqrt(mean_squared_error(inv_y, inv_yhat))\n",
    "print('Test RMSE: %.3f' % rmse)"
   ]
  },
  {
   "cell_type": "code",
   "execution_count": 24,
   "metadata": {},
   "outputs": [],
   "source": [
    "# Vuelvo el modelo un archivo .json\n",
    "model_json = model.to_json()\n",
    "with open(\"../Modelamiento/model.json\", \"w\") as json_file:\n",
    "    json_file.write(model_json)\n",
    "    \n",
    "\n",
    "# Guardar el Modelo\n",
    "model.save_weights('../Modelamiento/LTSM_Cali_3meses.h5')"
   ]
  },
  {
   "cell_type": "code",
   "execution_count": 144,
   "metadata": {},
   "outputs": [
    {
     "data": {
      "text/plain": [
       "<keras.engine.sequential.Sequential at 0x2b7f1f0e308>"
      ]
     },
     "execution_count": 144,
     "metadata": {},
     "output_type": "execute_result"
    }
   ],
   "source": [
    "model"
   ]
  },
  {
   "cell_type": "code",
   "execution_count": 40,
   "metadata": {},
   "outputs": [
    {
     "data": {
      "text/plain": [
       "(4000, 14)"
      ]
     },
     "execution_count": 40,
     "metadata": {},
     "output_type": "execute_result"
    }
   ],
   "source": [
    "train.shape"
   ]
  },
  {
   "cell_type": "code",
   "execution_count": 25,
   "metadata": {},
   "outputs": [
    {
     "name": "stdout",
     "output_type": "stream",
     "text": [
      "_________________________________________________________________\n",
      "Layer (type)                 Output Shape              Param #   \n",
      "=================================================================\n",
      "lstm_1 (LSTM)                (None, 50)                11000     \n",
      "_________________________________________________________________\n",
      "dense_1 (Dense)              (None, 1)                 51        \n",
      "=================================================================\n",
      "Total params: 11,051\n",
      "Trainable params: 11,051\n",
      "Non-trainable params: 0\n",
      "_________________________________________________________________\n"
     ]
    }
   ],
   "source": [
    "model.summary()"
   ]
  },
  {
   "cell_type": "code",
   "execution_count": null,
   "metadata": {},
   "outputs": [],
   "source": []
  }
 ],
 "metadata": {
  "kernelspec": {
   "display_name": "Python 3",
   "language": "python",
   "name": "python3"
  },
  "language_info": {
   "codemirror_mode": {
    "name": "ipython",
    "version": 3
   },
   "file_extension": ".py",
   "mimetype": "text/x-python",
   "name": "python",
   "nbconvert_exporter": "python",
   "pygments_lexer": "ipython3",
   "version": "3.7.4"
  }
 },
 "nbformat": 4,
 "nbformat_minor": 2
}
