{
 "cells": [
  {
   "cell_type": "code",
   "execution_count": 236,
   "metadata": {},
   "outputs": [],
   "source": [
    "import numpy as np\n",
    "import pandas as pd\n",
    "from sklearn import metrics\n",
    "from sklearn import datasets\n",
    "from numpy import array\n",
    "from pandas import DataFrame\n",
    "from pandas import concat\n",
    "from keras.models import model_from_json\n",
    "from sklearn.preprocessing import MinMaxScaler\n",
    "from sklearn.preprocessing import LabelEncoder\n"
   ]
  },
  {
   "cell_type": "code",
   "execution_count": 237,
   "metadata": {},
   "outputs": [],
   "source": [
    "def rmse(objetivo, estimaciones):\n",
    "    return np.sqrt(metrics.mean_squared_error(objetivo, estimaciones)\n",
    "                  )"
   ]
  },
  {
   "cell_type": "code",
   "execution_count": 238,
   "metadata": {},
   "outputs": [],
   "source": [
    "def  ajustested_r2(objetivo, estimaciones,n,k):\n",
    "    r2=metrics.r2_score(objetico,estimaciones)\n",
    "    return 1-(1-r2)*(n-1)/(n-k-1)"
   ]
  },
  {
   "cell_type": "code",
   "execution_count": 239,
   "metadata": {},
   "outputs": [],
   "source": [
    "def evaluar_modelo(objetivo,estimaciones,n,k):\n",
    "    return {\n",
    "        \"rmse\":rmse(objetivo,estimaciones),\n",
    "        \"mae\": metrics.mean_absolute_error(objetivo,estimaciones),\n",
    "        \"ajustested_r2\": ajustested_r2(objetivo,estimaciones,n,k)\n",
    "    }"
   ]
  },
  {
   "cell_type": "code",
   "execution_count": 240,
   "metadata": {},
   "outputs": [],
   "source": [
    "def series_to_supervised(data, n_in=1, n_out=1, dropnan=True):\n",
    "    n_vars = 1 if type(data) is list else data.shape[1]\n",
    "    df = DataFrame(data)\n",
    "    cols, names = list(), list()\n",
    "# observaciones pasadas  (t-n, ... t-1)\n",
    "    for i in range(n_in, 0, -1):\n",
    "        cols.append(df.shift(i))\n",
    "        names += [('var%d(t-%d)' % (j+1, i)) for j in range(n_vars)]\n",
    "# tiempos futuros  (t, t+1, ... t+n)\n",
    "    for i in range(0, n_out):\n",
    "        cols.append(df.shift(-i))\n",
    "        if i == 0:\n",
    "            names += [('var%d(t)' % (j+1)) for j in range(n_vars)]\n",
    "        else:\n",
    "            names += [('var%d(t+%d)' % (j+1, i)) for j in range(n_vars)]\n",
    "    agg = concat(cols, axis=1)\n",
    "    agg.columns = names\n",
    "    if dropnan:\n",
    "        agg.dropna(inplace=True)\n",
    "    return agg"
   ]
  },
  {
   "cell_type": "code",
   "execution_count": 220,
   "metadata": {},
   "outputs": [
    {
     "name": "stdout",
     "output_type": "stream",
     "text": [
      "_________________________________________________________________\n",
      "Layer (type)                 Output Shape              Param #   \n",
      "=================================================================\n",
      "lstm_7 (LSTM)                (None, 50)                12800     \n",
      "_________________________________________________________________\n",
      "dense_7 (Dense)              (None, 1)                 51        \n",
      "=================================================================\n",
      "Total params: 12,851\n",
      "Trainable params: 12,851\n",
      "Non-trainable params: 0\n",
      "_________________________________________________________________\n"
     ]
    }
   ],
   "source": [
    "#Cargo el modelo antes generado.\n",
    "json_file = open('../Modelamiento/model.json', 'r')\n",
    "loaded_model_json = json_file.read()\n",
    "json_file.close()\n",
    "loaded_model = model_from_json(loaded_model_json)\n",
    "# Cargo el nuevo modelo\n",
    "loaded_model.load_weights(\"../Modelamiento/LTSM_Cali.h5\")\n",
    "loaded_model.summary()"
   ]
  },
  {
   "cell_type": "code",
   "execution_count": 254,
   "metadata": {},
   "outputs": [
    {
     "name": "stdout",
     "output_type": "stream",
     "text": [
      "(13,)\n"
     ]
    }
   ],
   "source": [
    "#Prueba manual con los datos \n",
    "#PM10\n",
    "#DirVien\n",
    "#H2S\n",
    "#Humedad\n",
    "#Lluvia\n",
    "#NO2\n",
    "#O3\n",
    "#CO\n",
    "#RSolar\n",
    "#SO2\n",
    "#Tasa_crecimiento_general\n",
    "#Temp\n",
    "#VelVien\n",
    "x_input = np.array([20,148.6000061,0,72.69999695,1.269999981,0,17.64,2851.524414,\n",
    "                    302.7999878,12.91359997,0.097400002,24.89999962,1.299999952])\n",
    "print(x_input.shape)\n",
    "\n",
    "df = pd.DataFrame({ 'PM10':    [20,20],\n",
    "                    'DirVien': [148.6000061,148.6000061],\n",
    "                    'H2S': [0,0],\n",
    "                    'Humedad': [72.69999695,72.69999695],\n",
    "                    'Lluvia': [1.269999981,1.269999981],\n",
    "                    'NO2': [0,0],\n",
    "                    'O3': [17.64,17.64],\n",
    "                    'CO': [2851.524414,2851.524414],\n",
    "                    'RSolar': [302.7999878,302.7999878],\n",
    "                    'SO2': [12.91359997,12.91359997],\n",
    "                    'Tasa_crecimiento_general': [0.90,0.90],\n",
    "                    'Temp': [24.89999962,24.89999962],\n",
    "                    'VelVien': [1.299999952,1.299999952]\n",
    "                    \n",
    "                   })\n",
    "\n"
   ]
  },
  {
   "cell_type": "code",
   "execution_count": 242,
   "metadata": {},
   "outputs": [
    {
     "data": {
      "text/html": [
       "<div>\n",
       "<style scoped>\n",
       "    .dataframe tbody tr th:only-of-type {\n",
       "        vertical-align: middle;\n",
       "    }\n",
       "\n",
       "    .dataframe tbody tr th {\n",
       "        vertical-align: top;\n",
       "    }\n",
       "\n",
       "    .dataframe thead th {\n",
       "        text-align: right;\n",
       "    }\n",
       "</style>\n",
       "<table border=\"1\" class=\"dataframe\">\n",
       "  <thead>\n",
       "    <tr style=\"text-align: right;\">\n",
       "      <th></th>\n",
       "      <th>PM10</th>\n",
       "      <th>DirVien</th>\n",
       "      <th>H2S</th>\n",
       "      <th>Humedad</th>\n",
       "      <th>Lluvia</th>\n",
       "      <th>NO2</th>\n",
       "      <th>O3</th>\n",
       "      <th>CO</th>\n",
       "      <th>RSolar</th>\n",
       "      <th>SO2</th>\n",
       "      <th>Tasa_crecimiento_general</th>\n",
       "      <th>Temp</th>\n",
       "      <th>VelVien</th>\n",
       "    </tr>\n",
       "  </thead>\n",
       "  <tbody>\n",
       "    <tr>\n",
       "      <td>0</td>\n",
       "      <td>20</td>\n",
       "      <td>148.600006</td>\n",
       "      <td>0</td>\n",
       "      <td>72.699997</td>\n",
       "      <td>1.27</td>\n",
       "      <td>0</td>\n",
       "      <td>17.64</td>\n",
       "      <td>2851.524414</td>\n",
       "      <td>302.799988</td>\n",
       "      <td>12.9136</td>\n",
       "      <td>0.9</td>\n",
       "      <td>24.9</td>\n",
       "      <td>1.3</td>\n",
       "    </tr>\n",
       "    <tr>\n",
       "      <td>1</td>\n",
       "      <td>20</td>\n",
       "      <td>148.600006</td>\n",
       "      <td>0</td>\n",
       "      <td>72.699997</td>\n",
       "      <td>1.27</td>\n",
       "      <td>0</td>\n",
       "      <td>17.64</td>\n",
       "      <td>2851.524414</td>\n",
       "      <td>302.799988</td>\n",
       "      <td>12.9136</td>\n",
       "      <td>0.9</td>\n",
       "      <td>24.9</td>\n",
       "      <td>1.3</td>\n",
       "    </tr>\n",
       "  </tbody>\n",
       "</table>\n",
       "</div>"
      ],
      "text/plain": [
       "   PM10     DirVien  H2S    Humedad  Lluvia  NO2     O3           CO  \\\n",
       "0    20  148.600006    0  72.699997    1.27    0  17.64  2851.524414   \n",
       "1    20  148.600006    0  72.699997    1.27    0  17.64  2851.524414   \n",
       "\n",
       "       RSolar      SO2  Tasa_crecimiento_general  Temp  VelVien  \n",
       "0  302.799988  12.9136                       0.9  24.9      1.3  \n",
       "1  302.799988  12.9136                       0.9  24.9      1.3  "
      ]
     },
     "execution_count": 242,
     "metadata": {},
     "output_type": "execute_result"
    }
   ],
   "source": [
    "df"
   ]
  },
  {
   "cell_type": "code",
   "execution_count": 243,
   "metadata": {},
   "outputs": [
    {
     "name": "stdout",
     "output_type": "stream",
     "text": [
      "[[2.00000000e+01 1.48600006e+02 0.00000000e+00 7.26999969e+01\n",
      "  1.26999998e+00 0.00000000e+00 1.76400000e+01 2.85152441e+03\n",
      "  3.02799988e+02 1.29136000e+01 9.00000000e-01 2.48999996e+01\n",
      "  1.29999995e+00]\n",
      " [2.00000000e+01 1.48600006e+02 0.00000000e+00 7.26999969e+01\n",
      "  1.26999998e+00 0.00000000e+00 1.76400000e+01 2.85152441e+03\n",
      "  3.02799988e+02 1.29136000e+01 9.00000000e-01 2.48999996e+01\n",
      "  1.29999995e+00]]\n"
     ]
    }
   ],
   "source": [
    "print(df.values)"
   ]
  },
  {
   "cell_type": "code",
   "execution_count": 244,
   "metadata": {},
   "outputs": [
    {
     "data": {
      "text/plain": [
       "array([[2.00000000e+01, 1.48600006e+02, 0.00000000e+00, 7.26999969e+01,\n",
       "        1.26999998e+00, 0.00000000e+00, 1.76400000e+01, 2.85152441e+03,\n",
       "        3.02799988e+02, 1.29136000e+01, 9.00000000e-01, 2.48999996e+01,\n",
       "        1.29999995e+00],\n",
       "       [2.00000000e+01, 1.48600006e+02, 0.00000000e+00, 7.26999969e+01,\n",
       "        1.26999998e+00, 0.00000000e+00, 1.76400000e+01, 2.85152441e+03,\n",
       "        3.02799988e+02, 1.29136000e+01, 9.00000000e-01, 2.48999996e+01,\n",
       "        1.29999995e+00]])"
      ]
     },
     "execution_count": 244,
     "metadata": {},
     "output_type": "execute_result"
    }
   ],
   "source": [
    "df.values"
   ]
  },
  {
   "cell_type": "code",
   "execution_count": null,
   "metadata": {},
   "outputs": [],
   "source": []
  },
  {
   "cell_type": "code",
   "execution_count": 255,
   "metadata": {},
   "outputs": [
    {
     "name": "stdout",
     "output_type": "stream",
     "text": [
      "[[-1.7533857]\n",
      " [-1.7533857]]\n"
     ]
    }
   ],
   "source": [
    "values = df.values\n",
    "values = values.reshape((values.shape[0], 1, values.shape[1]))\n",
    "yhat = loaded_model.predict(values, verbose=0)\n",
    "print(yhat)"
   ]
  },
  {
   "cell_type": "code",
   "execution_count": 246,
   "metadata": {},
   "outputs": [
    {
     "data": {
      "text/html": [
       "<div>\n",
       "<style scoped>\n",
       "    .dataframe tbody tr th:only-of-type {\n",
       "        vertical-align: middle;\n",
       "    }\n",
       "\n",
       "    .dataframe tbody tr th {\n",
       "        vertical-align: top;\n",
       "    }\n",
       "\n",
       "    .dataframe thead th {\n",
       "        text-align: right;\n",
       "    }\n",
       "</style>\n",
       "<table border=\"1\" class=\"dataframe\">\n",
       "  <thead>\n",
       "    <tr style=\"text-align: right;\">\n",
       "      <th></th>\n",
       "      <th>PM10</th>\n",
       "      <th>DirVien</th>\n",
       "      <th>H2S</th>\n",
       "      <th>Humedad</th>\n",
       "      <th>Lluvia</th>\n",
       "      <th>NO2</th>\n",
       "      <th>O3</th>\n",
       "      <th>CO</th>\n",
       "      <th>RSolar</th>\n",
       "      <th>SO2</th>\n",
       "      <th>Tasa_crecimiento_general</th>\n",
       "      <th>Temp</th>\n",
       "      <th>VelVien</th>\n",
       "    </tr>\n",
       "  </thead>\n",
       "  <tbody>\n",
       "    <tr>\n",
       "      <td>0</td>\n",
       "      <td>0.0</td>\n",
       "      <td>267.799988</td>\n",
       "      <td>0</td>\n",
       "      <td>59.799999</td>\n",
       "      <td>0.0</td>\n",
       "      <td>0.0</td>\n",
       "      <td>17.64</td>\n",
       "      <td>1101.839844</td>\n",
       "      <td>0.0</td>\n",
       "      <td>6.0218</td>\n",
       "      <td>0.0974</td>\n",
       "      <td>28.100000</td>\n",
       "      <td>3.4</td>\n",
       "    </tr>\n",
       "    <tr>\n",
       "      <td>1</td>\n",
       "      <td>0.0</td>\n",
       "      <td>277.299988</td>\n",
       "      <td>0</td>\n",
       "      <td>60.099998</td>\n",
       "      <td>0.0</td>\n",
       "      <td>0.0</td>\n",
       "      <td>17.64</td>\n",
       "      <td>1018.621826</td>\n",
       "      <td>0.0</td>\n",
       "      <td>6.0893</td>\n",
       "      <td>0.0974</td>\n",
       "      <td>27.900000</td>\n",
       "      <td>3.0</td>\n",
       "    </tr>\n",
       "    <tr>\n",
       "      <td>2</td>\n",
       "      <td>0.0</td>\n",
       "      <td>271.799988</td>\n",
       "      <td>0</td>\n",
       "      <td>61.700001</td>\n",
       "      <td>0.0</td>\n",
       "      <td>0.0</td>\n",
       "      <td>17.64</td>\n",
       "      <td>763.458923</td>\n",
       "      <td>0.0</td>\n",
       "      <td>4.5507</td>\n",
       "      <td>0.0974</td>\n",
       "      <td>27.700001</td>\n",
       "      <td>2.2</td>\n",
       "    </tr>\n",
       "    <tr>\n",
       "      <td>3</td>\n",
       "      <td>0.0</td>\n",
       "      <td>269.299988</td>\n",
       "      <td>0</td>\n",
       "      <td>64.300003</td>\n",
       "      <td>0.0</td>\n",
       "      <td>0.0</td>\n",
       "      <td>17.64</td>\n",
       "      <td>635.792908</td>\n",
       "      <td>0.0</td>\n",
       "      <td>3.9924</td>\n",
       "      <td>0.0974</td>\n",
       "      <td>27.200001</td>\n",
       "      <td>1.6</td>\n",
       "    </tr>\n",
       "    <tr>\n",
       "      <td>4</td>\n",
       "      <td>0.0</td>\n",
       "      <td>39.700001</td>\n",
       "      <td>0</td>\n",
       "      <td>71.000000</td>\n",
       "      <td>0.0</td>\n",
       "      <td>0.0</td>\n",
       "      <td>17.64</td>\n",
       "      <td>588.573120</td>\n",
       "      <td>0.0</td>\n",
       "      <td>3.3259</td>\n",
       "      <td>0.0974</td>\n",
       "      <td>25.700001</td>\n",
       "      <td>0.5</td>\n",
       "    </tr>\n",
       "  </tbody>\n",
       "</table>\n",
       "</div>"
      ],
      "text/plain": [
       "   PM10     DirVien  H2S    Humedad  Lluvia  NO2     O3           CO  RSolar  \\\n",
       "0   0.0  267.799988    0  59.799999     0.0  0.0  17.64  1101.839844     0.0   \n",
       "1   0.0  277.299988    0  60.099998     0.0  0.0  17.64  1018.621826     0.0   \n",
       "2   0.0  271.799988    0  61.700001     0.0  0.0  17.64   763.458923     0.0   \n",
       "3   0.0  269.299988    0  64.300003     0.0  0.0  17.64   635.792908     0.0   \n",
       "4   0.0   39.700001    0  71.000000     0.0  0.0  17.64   588.573120     0.0   \n",
       "\n",
       "      SO2  Tasa_crecimiento_general       Temp  VelVien  \n",
       "0  6.0218                    0.0974  28.100000      3.4  \n",
       "1  6.0893                    0.0974  27.900000      3.0  \n",
       "2  4.5507                    0.0974  27.700001      2.2  \n",
       "3  3.9924                    0.0974  27.200001      1.6  \n",
       "4  3.3259                    0.0974  25.700001      0.5  "
      ]
     },
     "execution_count": 246,
     "metadata": {},
     "output_type": "execute_result"
    }
   ],
   "source": [
    "#Prueba de modelo, cargo la informacion de la ERA 2010 crecimiento 0.9\n",
    "\n",
    "dataOriginal = pd.read_excel('../PreparacionDatos/eraDatos.xlsx' , sheet_name='eraDatos' ,header=0)\n",
    "dataOriginal = dataOriginal.drop(dataOriginal.columns[[0]], axis=1) \n",
    "dataOriginal.head(5)"
   ]
  },
  {
   "cell_type": "code",
   "execution_count": 247,
   "metadata": {},
   "outputs": [
    {
     "data": {
      "text/plain": [
       "(7616, 13)"
      ]
     },
     "execution_count": 247,
     "metadata": {},
     "output_type": "execute_result"
    }
   ],
   "source": [
    "x_input = np.array(dataOriginal)\n",
    "x_input.shape"
   ]
  },
  {
   "cell_type": "code",
   "execution_count": 248,
   "metadata": {},
   "outputs": [
    {
     "name": "stdout",
     "output_type": "stream",
     "text": [
      "(7616, 1, 13)\n"
     ]
    }
   ],
   "source": [
    "#Remodelar la entrada para que sea 3D [muestras, pasos de tiempo, características]\n",
    "x_input = x_input.reshape((x_input.shape[0], 1, x_input.shape[1]))\n",
    "print(x_input.shape)"
   ]
  },
  {
   "cell_type": "code",
   "execution_count": 249,
   "metadata": {},
   "outputs": [
    {
     "name": "stdout",
     "output_type": "stream",
     "text": [
      "[[-1.2617254 ]\n",
      " [-1.2618513 ]\n",
      " [-1.6274126 ]\n",
      " ...\n",
      " [-1.8195732 ]\n",
      " [ 0.5457126 ]\n",
      " [ 0.20386183]]\n"
     ]
    }
   ],
   "source": [
    "yhat_original = loaded_model.predict(x_input, verbose=0)\n",
    "print(yhat_original)"
   ]
  },
  {
   "cell_type": "code",
   "execution_count": 250,
   "metadata": {},
   "outputs": [
    {
     "data": {
      "text/html": [
       "<div>\n",
       "<style scoped>\n",
       "    .dataframe tbody tr th:only-of-type {\n",
       "        vertical-align: middle;\n",
       "    }\n",
       "\n",
       "    .dataframe tbody tr th {\n",
       "        vertical-align: top;\n",
       "    }\n",
       "\n",
       "    .dataframe thead th {\n",
       "        text-align: right;\n",
       "    }\n",
       "</style>\n",
       "<table border=\"1\" class=\"dataframe\">\n",
       "  <thead>\n",
       "    <tr style=\"text-align: right;\">\n",
       "      <th></th>\n",
       "      <th>PM10</th>\n",
       "      <th>DirVien</th>\n",
       "      <th>H2S</th>\n",
       "      <th>Humedad</th>\n",
       "      <th>Lluvia</th>\n",
       "      <th>NO2</th>\n",
       "      <th>O3</th>\n",
       "      <th>CO</th>\n",
       "      <th>RSolar</th>\n",
       "      <th>SO2</th>\n",
       "      <th>Tasa_crecimiento_general</th>\n",
       "      <th>Temp</th>\n",
       "      <th>VelVien</th>\n",
       "    </tr>\n",
       "  </thead>\n",
       "  <tbody>\n",
       "    <tr>\n",
       "      <td>0</td>\n",
       "      <td>0.0</td>\n",
       "      <td>267.799988</td>\n",
       "      <td>0</td>\n",
       "      <td>59.799999</td>\n",
       "      <td>0.0</td>\n",
       "      <td>0.0</td>\n",
       "      <td>17.64</td>\n",
       "      <td>1101.839844</td>\n",
       "      <td>0.0</td>\n",
       "      <td>6.0218</td>\n",
       "      <td>0.93</td>\n",
       "      <td>28.100000</td>\n",
       "      <td>3.4</td>\n",
       "    </tr>\n",
       "    <tr>\n",
       "      <td>1</td>\n",
       "      <td>0.0</td>\n",
       "      <td>277.299988</td>\n",
       "      <td>0</td>\n",
       "      <td>60.099998</td>\n",
       "      <td>0.0</td>\n",
       "      <td>0.0</td>\n",
       "      <td>17.64</td>\n",
       "      <td>1018.621826</td>\n",
       "      <td>0.0</td>\n",
       "      <td>6.0893</td>\n",
       "      <td>0.93</td>\n",
       "      <td>27.900000</td>\n",
       "      <td>3.0</td>\n",
       "    </tr>\n",
       "    <tr>\n",
       "      <td>2</td>\n",
       "      <td>0.0</td>\n",
       "      <td>271.799988</td>\n",
       "      <td>0</td>\n",
       "      <td>61.700001</td>\n",
       "      <td>0.0</td>\n",
       "      <td>0.0</td>\n",
       "      <td>17.64</td>\n",
       "      <td>763.458923</td>\n",
       "      <td>0.0</td>\n",
       "      <td>4.5507</td>\n",
       "      <td>0.93</td>\n",
       "      <td>27.700001</td>\n",
       "      <td>2.2</td>\n",
       "    </tr>\n",
       "    <tr>\n",
       "      <td>3</td>\n",
       "      <td>0.0</td>\n",
       "      <td>269.299988</td>\n",
       "      <td>0</td>\n",
       "      <td>64.300003</td>\n",
       "      <td>0.0</td>\n",
       "      <td>0.0</td>\n",
       "      <td>17.64</td>\n",
       "      <td>635.792908</td>\n",
       "      <td>0.0</td>\n",
       "      <td>3.9924</td>\n",
       "      <td>0.93</td>\n",
       "      <td>27.200001</td>\n",
       "      <td>1.6</td>\n",
       "    </tr>\n",
       "    <tr>\n",
       "      <td>4</td>\n",
       "      <td>0.0</td>\n",
       "      <td>39.700001</td>\n",
       "      <td>0</td>\n",
       "      <td>71.000000</td>\n",
       "      <td>0.0</td>\n",
       "      <td>0.0</td>\n",
       "      <td>17.64</td>\n",
       "      <td>588.573120</td>\n",
       "      <td>0.0</td>\n",
       "      <td>3.3259</td>\n",
       "      <td>0.93</td>\n",
       "      <td>25.700001</td>\n",
       "      <td>0.5</td>\n",
       "    </tr>\n",
       "  </tbody>\n",
       "</table>\n",
       "</div>"
      ],
      "text/plain": [
       "   PM10     DirVien  H2S    Humedad  Lluvia  NO2     O3           CO  RSolar  \\\n",
       "0   0.0  267.799988    0  59.799999     0.0  0.0  17.64  1101.839844     0.0   \n",
       "1   0.0  277.299988    0  60.099998     0.0  0.0  17.64  1018.621826     0.0   \n",
       "2   0.0  271.799988    0  61.700001     0.0  0.0  17.64   763.458923     0.0   \n",
       "3   0.0  269.299988    0  64.300003     0.0  0.0  17.64   635.792908     0.0   \n",
       "4   0.0   39.700001    0  71.000000     0.0  0.0  17.64   588.573120     0.0   \n",
       "\n",
       "      SO2  Tasa_crecimiento_general       Temp  VelVien  \n",
       "0  6.0218                      0.93  28.100000      3.4  \n",
       "1  6.0893                      0.93  27.900000      3.0  \n",
       "2  4.5507                      0.93  27.700001      2.2  \n",
       "3  3.9924                      0.93  27.200001      1.6  \n",
       "4  3.3259                      0.93  25.700001      0.5  "
      ]
     },
     "execution_count": 250,
     "metadata": {},
     "output_type": "execute_result"
    }
   ],
   "source": [
    "#Cambio el modelo a 93% de contaminacion.\n",
    "\n",
    "data2028 = pd.read_excel('../PreparacionDatos/eraDatos.xlsx' , sheet_name='eraDatos' ,header=0)\n",
    "data2028 = data2028.drop(data2028.columns[[0]], axis=1) \n",
    "data2028['Tasa_crecimiento_general']=0.93\n",
    "data2028.head(5)"
   ]
  },
  {
   "cell_type": "code",
   "execution_count": 251,
   "metadata": {},
   "outputs": [
    {
     "name": "stdout",
     "output_type": "stream",
     "text": [
      "(7616, 1, 13)\n"
     ]
    }
   ],
   "source": [
    "x_input_2028 = np.array(data2028)\n",
    "x_input_2028 .shape\n",
    "x_input_2028  = x_input_2028.reshape((x_input_2028.shape[0], 1, x_input_2028.shape[1]))\n",
    "print(x_input.shape)"
   ]
  },
  {
   "cell_type": "code",
   "execution_count": 252,
   "metadata": {},
   "outputs": [
    {
     "name": "stdout",
     "output_type": "stream",
     "text": [
      "[[-1.2617254 ]\n",
      " [-1.2618513 ]\n",
      " [-1.6274126 ]\n",
      " ...\n",
      " [-1.8195732 ]\n",
      " [ 0.5457126 ]\n",
      " [ 0.20386183]]\n"
     ]
    }
   ],
   "source": [
    "yhat_2018 = loaded_model.predict(x_input, verbose=0)\n",
    "print(yhat_2018)"
   ]
  },
  {
   "cell_type": "code",
   "execution_count": 253,
   "metadata": {},
   "outputs": [
    {
     "data": {
      "text/plain": [
       "numpy.ndarray"
      ]
     },
     "execution_count": 253,
     "metadata": {},
     "output_type": "execute_result"
    }
   ],
   "source": [
    "type(yhat_2018)"
   ]
  },
  {
   "cell_type": "code",
   "execution_count": 256,
   "metadata": {},
   "outputs": [],
   "source": [
    "dataset = pd.DataFrame({'yhat_2018': yhat_2018[:, 0], 'yhat_original': yhat_original[:, 0]})"
   ]
  },
  {
   "cell_type": "code",
   "execution_count": 257,
   "metadata": {},
   "outputs": [],
   "source": [
    "dataset.to_excel(\"union.xlsx\", sheet_name='union',encoding='UTF-8') #Se crea el archivo definitivo."
   ]
  },
  {
   "cell_type": "code",
   "execution_count": null,
   "metadata": {},
   "outputs": [],
   "source": []
  }
 ],
 "metadata": {
  "kernelspec": {
   "display_name": "Python 3",
   "language": "python",
   "name": "python3"
  },
  "language_info": {
   "codemirror_mode": {
    "name": "ipython",
    "version": 3
   },
   "file_extension": ".py",
   "mimetype": "text/x-python",
   "name": "python",
   "nbconvert_exporter": "python",
   "pygments_lexer": "ipython3",
   "version": "3.7.4"
  }
 },
 "nbformat": 4,
 "nbformat_minor": 2
}
