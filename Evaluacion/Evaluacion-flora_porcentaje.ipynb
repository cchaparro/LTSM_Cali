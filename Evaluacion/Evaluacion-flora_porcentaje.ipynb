{
 "cells": [
  {
   "cell_type": "code",
   "execution_count": 21,
   "metadata": {},
   "outputs": [],
   "source": [
    "import numpy as np\n",
    "import pandas as pd\n",
    "from sklearn import metrics\n",
    "from sklearn import datasets\n",
    "from numpy import array\n",
    "from pandas import DataFrame\n",
    "from pandas import concat\n",
    "from keras.models import model_from_json\n",
    "from sklearn.preprocessing import MinMaxScaler\n",
    "from sklearn.preprocessing import LabelEncoder\n",
    "import matplotlib.pyplot as plt"
   ]
  },
  {
   "cell_type": "code",
   "execution_count": 3,
   "metadata": {},
   "outputs": [],
   "source": [
    "def rmse(objetivo, estimaciones):\n",
    "    return np.sqrt(metrics.mean_squared_error(objetivo, estimaciones)\n",
    "                  )"
   ]
  },
  {
   "cell_type": "code",
   "execution_count": 4,
   "metadata": {},
   "outputs": [],
   "source": [
    "def  ajustested_r2(objetivo, estimaciones,n,k):\n",
    "    r2=metrics.r2_score(objetico,estimaciones)\n",
    "    return 1-(1-r2)*(n-1)/(n-k-1)"
   ]
  },
  {
   "cell_type": "code",
   "execution_count": 5,
   "metadata": {},
   "outputs": [],
   "source": [
    "def evaluar_modelo(objetivo,estimaciones,n,k):\n",
    "    return {\n",
    "        \"rmse\":rmse(objetivo,estimaciones),\n",
    "        \"mae\": metrics.mean_absolute_error(objetivo,estimaciones),\n",
    "        \"ajustested_r2\": ajustested_r2(objetivo,estimaciones,n,k)\n",
    "    }"
   ]
  },
  {
   "cell_type": "code",
   "execution_count": 46,
   "metadata": {},
   "outputs": [],
   "source": [
    "#Funcion que carga el modelo y generera la prediccion.\n",
    "def ejecutar_prueba_modelo(valores):\n",
    "    \n",
    "    #Cargo el modelo antes generado.\n",
    "    json_file = open('../Modelamiento/model.json', 'r')\n",
    "    loaded_model_json = json_file.read()\n",
    "    json_file.close()\n",
    "    loaded_model = model_from_json(loaded_model_json)\n",
    "    # Cargo el nuevo modelo\n",
    "    loaded_model.load_weights(\"../Modelamiento/LTSM_Cali_3meses.h5\")\n",
    "\n",
    "    # Cargo data original para sacar el scalar de la salida.  \n",
    "    data = pd.read_excel('../PreparacionDatos/FloraTotal_3mes_4V.xlsx' , sheet_name='FloraTotal' ,header=0)\n",
    "    dataEntrada =  data[['Motos_vehiculos_particulares', 'Lluvia', 'Poblacion']]\n",
    "    dataSalida =  data[['PM10']]\n",
    "    \n",
    "    valuesEntrada = data.values\n",
    "    valuesSalida = dataSalida.values\n",
    "    valuesEntrada = valuesEntrada.astype('float32')\n",
    "    valuesSalida = valuesSalida.astype('float32')\n",
    "    \n",
    "    # Escalar de entrada\n",
    "    scalerEntrada = MinMaxScaler(feature_range=(0, 1))\n",
    "    scaledEntrada = scalerEntrada.fit_transform(valuesSalida)\n",
    "   \n",
    "    # Escalar de salida\n",
    "    scalerSalida = MinMaxScaler(feature_range=(0, 1))\n",
    "    scaledSalida = scalerSalida.fit_transform(valuesSalida)\n",
    "\n",
    "\n",
    "    #Datos para prediccion.\n",
    "    valores = valores.values\n",
    "    valores = valores.astype('float32')\n",
    "    scaled = scalerEntrada.fit_transform(valores)\n",
    "\n",
    "    #Remodelar la entrada para que sea 3D [muestras, pasos de tiempo, características]\n",
    "    train_X = scaled.reshape((scaled.shape[0], 1, scaled.shape[1]))\n",
    "    train_X.shape\n",
    "\n",
    "    yhat = loaded_model.predict(train_X, verbose=0)\n",
    "    yhat= scalerSalida.inverse_transform(yhat)\n",
    "\n",
    "    \n",
    "    return yhat\n",
    "\n",
    "\n",
    "\"\"\" stilos de Líneas (linestyle=):\n",
    "-, Línea Sólida\n",
    "--, Línea discontinua\n",
    ":, Línea punteada\n",
    "-., Línea punteada discontinua. y\n",
    "None, Ninguna línea\n",
    "\n",
    "Marcadores (marker=):\n",
    "+, Cruz\n",
    "., Punto\n",
    "o,Círculo\n",
    "*, Estrellas\n",
    "p, Pentágonos\n",
    "s, cuadrados\n",
    "x, Tachados\n",
    "D, Diamantes\n",
    "h, Hexágonos y\n",
    "^, Triángulos\n",
    "\n",
    "Colores (color=):\n",
    "b, blue\n",
    "g, green\n",
    "r, red\n",
    "c, cyan\n",
    "m, magenta\n",
    "y, yellow\n",
    "k, black\n",
    "w, white\n",
    "\"\"\" \n",
    "\n",
    "def graficar_datos(prediccion, originales):\n",
    "\n",
    "    plt.plot(prediccion, color='b', label = \"Prediccion\")   # Dibuja el gráfico\n",
    "    plt.title(\"PM10\")   # Establece el título del gráfico\n",
    "    plt.xlabel(\"PM10\")   # Establece el título del eje x\n",
    "    plt.ylabel(\"Valor\")   # Establece el título del eje y\n",
    "    plt.plot(originales, color='g', label = \"Originales\") \n",
    "    plt.legend(loc=\"upper left\")\n",
    "    plt.show()\n",
    "   "
   ]
  },
  {
   "cell_type": "code",
   "execution_count": 12,
   "metadata": {},
   "outputs": [
    {
     "name": "stdout",
     "output_type": "stream",
     "text": [
      "(13,)\n"
     ]
    }
   ],
   "source": [
    "#Prueba manual con los datos \n",
    "#PM10\n",
    "#DirVien\n",
    "#H2S\n",
    "#Humedad\n",
    "#Lluvia\n",
    "#NO2\n",
    "#O3\n",
    "#CO\n",
    "#RSolar\n",
    "#SO2\n",
    "#Tasa_crecimiento_general\n",
    "#Temp\n",
    "#VelVien\n",
    "x_input = np.array([20,148.6000061,0,72.69999695,1.269999981,0,17.64,2851.524414,\n",
    "                    302.7999878,12.91359997,0.097400002,24.89999962,1.299999952])\n",
    "print(x_input.shape)\n",
    "\n",
    "df = pd.DataFrame({ 'Motos_vehiculos_particulares':    [5989541,5390586.9, 4581998.865, 348066],\n",
    "                    'Lluvia': [0.939613,0.382813,0.263171911239624,0.572834014892578],\n",
    "                    'Poblacion': [2244668,2244668,2244668, 2244668]\n",
    "                   })\n",
    "\n"
   ]
  },
  {
   "cell_type": "code",
   "execution_count": 9,
   "metadata": {},
   "outputs": [],
   "source": [
    "dataOriginal = pd.read_excel('../PreparacionDatos/FloraTotal_3mes_3V_mas_4.xlsx' , sheet_name='FloraTotal' ,header=0)\n",
    "dataOriginal=dataOriginal.drop(['Trimestre'], axis=1)"
   ]
  },
  {
   "cell_type": "code",
   "execution_count": 10,
   "metadata": {},
   "outputs": [],
   "source": [
    "dataOriginalPM10 = pd.read_excel('../PreparacionDatos/FloraTotal_3mes_4V.xlsx' , sheet_name='FloraTotal' ,header=0)\n",
    "dataOriginalPM10 = dataOriginalPM10.astype('float32')\n"
   ]
  },
  {
   "cell_type": "code",
   "execution_count": 47,
   "metadata": {},
   "outputs": [
    {
     "data": {
      "image/png": "[encoded data removed]",
      "text/plain": [
       "<Figure size 432x288 with 1 Axes>"
      ]
     },
     "metadata": {
      "needs_background": "light"
     },
     "output_type": "display_data"
    }
   ],
   "source": [
    "\n",
    "rango_inferior =0\n",
    "rango_superior =32\n",
    "salida=ejecutar_prueba_modelo(dataOriginal[rango_inferior:rango_superior])\n",
    "graficar_datos(salida, dataOriginalPM10.iloc[rango_inferior:rango_superior, 1].values)"
   ]
  },
  {
   "cell_type": "code",
   "execution_count": 49,
   "metadata": {},
   "outputs": [
    {
     "data": {
      "image/png": "[encoded data removed]",
      "text/plain": [
       "<Figure size 432x288 with 1 Axes>"
      ]
     },
     "metadata": {
      "needs_background": "light"
     },
     "output_type": "display_data"
    }
   ],
   "source": [
    "\n",
    "rango_inferior =31\n",
    "rango_superior =35\n",
    "salida=ejecutar_prueba_modelo(dataOriginal[rango_inferior:rango_superior])\n",
    "graficar_datos(salida, dataOriginalPM10.iloc[rango_inferior:rango_superior, 1].values)"
   ]
  },
  {
   "cell_type": "code",
   "execution_count": null,
   "metadata": {},
   "outputs": [],
   "source": []
  }
 ],
 "metadata": {
  "kernelspec": {
   "display_name": "Python 3",
   "language": "python",
   "name": "python3"
  },
  "language_info": {
   "codemirror_mode": {
    "name": "ipython",
    "version": 3
   },
   "file_extension": ".py",
   "mimetype": "text/x-python",
   "name": "python",
   "nbconvert_exporter": "python",
   "pygments_lexer": "ipython3",
   "version": "3.7.4"
  }
 },
 "nbformat": 4,
 "nbformat_minor": 2
}
