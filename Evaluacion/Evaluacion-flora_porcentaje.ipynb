{
 "cells": [
  {
   "cell_type": "code",
   "execution_count": 1,
   "metadata": {},
   "outputs": [
    {
     "name": "stderr",
     "output_type": "stream",
     "text": [
      "Using TensorFlow backend.\n"
     ]
    }
   ],
   "source": [
    "import numpy as np\n",
    "import pandas as pd\n",
    "from sklearn import metrics\n",
    "from sklearn import datasets\n",
    "from numpy import array\n",
    "from pandas import DataFrame\n",
    "from pandas import concat\n",
    "from keras.models import model_from_json\n",
    "from sklearn.preprocessing import MinMaxScaler\n",
    "from sklearn.preprocessing import LabelEncoder\n"
   ]
  },
  {
   "cell_type": "code",
   "execution_count": 2,
   "metadata": {},
   "outputs": [],
   "source": [
    "def rmse(objetivo, estimaciones):\n",
    "    return np.sqrt(metrics.mean_squared_error(objetivo, estimaciones)\n",
    "                  )"
   ]
  },
  {
   "cell_type": "code",
   "execution_count": 3,
   "metadata": {},
   "outputs": [],
   "source": [
    "def  ajustested_r2(objetivo, estimaciones,n,k):\n",
    "    r2=metrics.r2_score(objetico,estimaciones)\n",
    "    return 1-(1-r2)*(n-1)/(n-k-1)"
   ]
  },
  {
   "cell_type": "code",
   "execution_count": 4,
   "metadata": {},
   "outputs": [],
   "source": [
    "def evaluar_modelo(objetivo,estimaciones,n,k):\n",
    "    return {\n",
    "        \"rmse\":rmse(objetivo,estimaciones),\n",
    "        \"mae\": metrics.mean_absolute_error(objetivo,estimaciones),\n",
    "        \"ajustested_r2\": ajustested_r2(objetivo,estimaciones,n,k)\n",
    "    }"
   ]
  },
  {
   "cell_type": "code",
   "execution_count": 14,
   "metadata": {},
   "outputs": [],
   "source": [
    "def ejecutar_prueba_modelo(valores):\n",
    "    \n",
    "    #Cargo el modelo antes generado.\n",
    "    json_file = open('../Modelamiento/model.json', 'r')\n",
    "    loaded_model_json = json_file.read()\n",
    "    json_file.close()\n",
    "    loaded_model = model_from_json(loaded_model_json)\n",
    "    # Cargo el nuevo modelo\n",
    "    loaded_model.load_weights(\"../Modelamiento/LTSM_Cali_3meses.h5\")\n",
    "\n",
    "\n",
    "    valores = valores.values\n",
    "    valores = valores.astype('float32')\n",
    "    scaler = MinMaxScaler(feature_range=(0, 1))\n",
    "    scaled = scaler.fit_transform(valores)\n",
    "\n",
    "    #Remodelar la entrada para que sea 3D [muestras, pasos de tiempo, características]\n",
    "    train_X = scaled.reshape((scaled.shape[0], 1, scaled.shape[1]))\n",
    "    train_X.shape\n",
    "\n",
    "    yhat = loaded_model.predict(train_X, verbose=0)\n",
    "    scalerSalida = MinMaxScaler(feature_range=(0, 1))\n",
    "    scaledSalida = scalerSalida.fit_transform(yhat)\n",
    "    yhat= scalerSalida.inverse_transform(yhat)\n",
    "\n",
    "    \n",
    "    print(yhat)\n",
    "   "
   ]
  },
  {
   "cell_type": "code",
   "execution_count": 12,
   "metadata": {},
   "outputs": [
    {
     "name": "stdout",
     "output_type": "stream",
     "text": [
      "(13,)\n"
     ]
    }
   ],
   "source": [
    "#Prueba manual con los datos \n",
    "#PM10\n",
    "#DirVien\n",
    "#H2S\n",
    "#Humedad\n",
    "#Lluvia\n",
    "#NO2\n",
    "#O3\n",
    "#CO\n",
    "#RSolar\n",
    "#SO2\n",
    "#Tasa_crecimiento_general\n",
    "#Temp\n",
    "#VelVien\n",
    "x_input = np.array([20,148.6000061,0,72.69999695,1.269999981,0,17.64,2851.524414,\n",
    "                    302.7999878,12.91359997,0.097400002,24.89999962,1.299999952])\n",
    "print(x_input.shape)\n",
    "\n",
    "df = pd.DataFrame({ 'Motos_vehiculos_particulares':    [5989541,5390586.9, 4581998.865, 348066],\n",
    "                    'Lluvia': [0.939613,0.382813,0.263171911239624,0.572834014892578],\n",
    "                    'Poblacion': [2244668,2244668,2244668, 2244668]\n",
    "                   })\n",
    "\n"
   ]
  },
  {
   "cell_type": "code",
   "execution_count": 15,
   "metadata": {},
   "outputs": [
    {
     "name": "stdout",
     "output_type": "stream",
     "text": [
      "[[0.28751555]\n",
      " [0.26103845]\n",
      " [0.25362277]\n",
      " [0.25546294]]\n"
     ]
    }
   ],
   "source": [
    "salida=ejecutar_prueba_modelo(df)"
   ]
  },
  {
   "cell_type": "code",
   "execution_count": 20,
   "metadata": {},
   "outputs": [],
   "source": [
    "dataOriginal = pd.read_excel('../PreparacionDatos/FloraTotal_3mes_3V_mas_4.xlsx' , sheet_name='FloraTotal' ,header=0)\n",
    "dataOriginal=dataOriginal.drop(['Trimestre'], axis=1)"
   ]
  },
  {
   "cell_type": "code",
   "execution_count": 45,
   "metadata": {},
   "outputs": [
    {
     "data": {
      "text/html": [
       "<div>\n",
       "<style scoped>\n",
       "    .dataframe tbody tr th:only-of-type {\n",
       "        vertical-align: middle;\n",
       "    }\n",
       "\n",
       "    .dataframe tbody tr th {\n",
       "        vertical-align: top;\n",
       "    }\n",
       "\n",
       "    .dataframe thead th {\n",
       "        text-align: right;\n",
       "    }\n",
       "</style>\n",
       "<table border=\"1\" class=\"dataframe\">\n",
       "  <thead>\n",
       "    <tr style=\"text-align: right;\">\n",
       "      <th></th>\n",
       "      <th>Motos_vehiculos_particulares</th>\n",
       "      <th>Lluvia</th>\n",
       "      <th>Poblacion</th>\n",
       "    </tr>\n",
       "  </thead>\n",
       "  <tbody>\n",
       "    <tr>\n",
       "      <td>0</td>\n",
       "      <td>348066.000</td>\n",
       "      <td>0.939613</td>\n",
       "      <td>2244668.00</td>\n",
       "    </tr>\n",
       "    <tr>\n",
       "      <td>1</td>\n",
       "      <td>348066.000</td>\n",
       "      <td>0.382813</td>\n",
       "      <td>2244668.00</td>\n",
       "    </tr>\n",
       "    <tr>\n",
       "      <td>2</td>\n",
       "      <td>348066.000</td>\n",
       "      <td>0.263172</td>\n",
       "      <td>2244668.00</td>\n",
       "    </tr>\n",
       "    <tr>\n",
       "      <td>3</td>\n",
       "      <td>348066.000</td>\n",
       "      <td>0.572834</td>\n",
       "      <td>2244668.00</td>\n",
       "    </tr>\n",
       "    <tr>\n",
       "      <td>4</td>\n",
       "      <td>391327.000</td>\n",
       "      <td>0.190382</td>\n",
       "      <td>2269653.00</td>\n",
       "    </tr>\n",
       "    <tr>\n",
       "      <td>5</td>\n",
       "      <td>391327.000</td>\n",
       "      <td>0.413592</td>\n",
       "      <td>2269653.00</td>\n",
       "    </tr>\n",
       "    <tr>\n",
       "      <td>6</td>\n",
       "      <td>391327.000</td>\n",
       "      <td>0.408934</td>\n",
       "      <td>2269653.00</td>\n",
       "    </tr>\n",
       "    <tr>\n",
       "      <td>7</td>\n",
       "      <td>391327.000</td>\n",
       "      <td>0.595508</td>\n",
       "      <td>2269653.00</td>\n",
       "    </tr>\n",
       "    <tr>\n",
       "      <td>8</td>\n",
       "      <td>438769.000</td>\n",
       "      <td>0.060729</td>\n",
       "      <td>2294653.00</td>\n",
       "    </tr>\n",
       "    <tr>\n",
       "      <td>9</td>\n",
       "      <td>438769.000</td>\n",
       "      <td>0.426957</td>\n",
       "      <td>2294653.00</td>\n",
       "    </tr>\n",
       "    <tr>\n",
       "      <td>10</td>\n",
       "      <td>438769.000</td>\n",
       "      <td>0.107707</td>\n",
       "      <td>2294653.00</td>\n",
       "    </tr>\n",
       "    <tr>\n",
       "      <td>11</td>\n",
       "      <td>438769.000</td>\n",
       "      <td>0.419806</td>\n",
       "      <td>2294653.00</td>\n",
       "    </tr>\n",
       "    <tr>\n",
       "      <td>12</td>\n",
       "      <td>484119.000</td>\n",
       "      <td>0.185106</td>\n",
       "      <td>2319684.00</td>\n",
       "    </tr>\n",
       "    <tr>\n",
       "      <td>13</td>\n",
       "      <td>484119.000</td>\n",
       "      <td>0.276111</td>\n",
       "      <td>2319684.00</td>\n",
       "    </tr>\n",
       "    <tr>\n",
       "      <td>14</td>\n",
       "      <td>484119.000</td>\n",
       "      <td>0.134173</td>\n",
       "      <td>2319684.00</td>\n",
       "    </tr>\n",
       "    <tr>\n",
       "      <td>15</td>\n",
       "      <td>484119.000</td>\n",
       "      <td>0.472869</td>\n",
       "      <td>2319684.00</td>\n",
       "    </tr>\n",
       "    <tr>\n",
       "      <td>16</td>\n",
       "      <td>526339.000</td>\n",
       "      <td>0.215647</td>\n",
       "      <td>2344734.00</td>\n",
       "    </tr>\n",
       "    <tr>\n",
       "      <td>17</td>\n",
       "      <td>526339.000</td>\n",
       "      <td>0.234257</td>\n",
       "      <td>2344734.00</td>\n",
       "    </tr>\n",
       "    <tr>\n",
       "      <td>18</td>\n",
       "      <td>526339.000</td>\n",
       "      <td>0.281555</td>\n",
       "      <td>2344734.00</td>\n",
       "    </tr>\n",
       "    <tr>\n",
       "      <td>19</td>\n",
       "      <td>526339.000</td>\n",
       "      <td>0.372491</td>\n",
       "      <td>2344734.00</td>\n",
       "    </tr>\n",
       "    <tr>\n",
       "      <td>20</td>\n",
       "      <td>567353.000</td>\n",
       "      <td>0.208546</td>\n",
       "      <td>2369821.00</td>\n",
       "    </tr>\n",
       "    <tr>\n",
       "      <td>21</td>\n",
       "      <td>567353.000</td>\n",
       "      <td>0.193502</td>\n",
       "      <td>2369821.00</td>\n",
       "    </tr>\n",
       "    <tr>\n",
       "      <td>22</td>\n",
       "      <td>567353.000</td>\n",
       "      <td>0.110047</td>\n",
       "      <td>2369821.00</td>\n",
       "    </tr>\n",
       "    <tr>\n",
       "      <td>23</td>\n",
       "      <td>567353.000</td>\n",
       "      <td>0.124192</td>\n",
       "      <td>2369821.00</td>\n",
       "    </tr>\n",
       "    <tr>\n",
       "      <td>24</td>\n",
       "      <td>601794.000</td>\n",
       "      <td>0.265361</td>\n",
       "      <td>2394925.00</td>\n",
       "    </tr>\n",
       "    <tr>\n",
       "      <td>25</td>\n",
       "      <td>601794.000</td>\n",
       "      <td>0.253803</td>\n",
       "      <td>2394925.00</td>\n",
       "    </tr>\n",
       "    <tr>\n",
       "      <td>26</td>\n",
       "      <td>601794.000</td>\n",
       "      <td>0.088913</td>\n",
       "      <td>2394925.00</td>\n",
       "    </tr>\n",
       "    <tr>\n",
       "      <td>27</td>\n",
       "      <td>601794.000</td>\n",
       "      <td>0.280813</td>\n",
       "      <td>2394925.00</td>\n",
       "    </tr>\n",
       "    <tr>\n",
       "      <td>28</td>\n",
       "      <td>630478.000</td>\n",
       "      <td>0.015700</td>\n",
       "      <td>2420114.00</td>\n",
       "    </tr>\n",
       "    <tr>\n",
       "      <td>29</td>\n",
       "      <td>630478.000</td>\n",
       "      <td>0.181820</td>\n",
       "      <td>2420114.00</td>\n",
       "    </tr>\n",
       "    <tr>\n",
       "      <td>30</td>\n",
       "      <td>630478.000</td>\n",
       "      <td>0.148639</td>\n",
       "      <td>2420114.00</td>\n",
       "    </tr>\n",
       "    <tr>\n",
       "      <td>31</td>\n",
       "      <td>630478.000</td>\n",
       "      <td>0.220213</td>\n",
       "      <td>2420114.00</td>\n",
       "    </tr>\n",
       "    <tr>\n",
       "      <td>32</td>\n",
       "      <td>5989541.000</td>\n",
       "      <td>0.232976</td>\n",
       "      <td>2589521.98</td>\n",
       "    </tr>\n",
       "    <tr>\n",
       "      <td>33</td>\n",
       "      <td>5390586.900</td>\n",
       "      <td>0.282742</td>\n",
       "      <td>2589521.98</td>\n",
       "    </tr>\n",
       "    <tr>\n",
       "      <td>34</td>\n",
       "      <td>4581998.865</td>\n",
       "      <td>0.187975</td>\n",
       "      <td>2589521.98</td>\n",
       "    </tr>\n",
       "    <tr>\n",
       "      <td>35</td>\n",
       "      <td>3665599.092</td>\n",
       "      <td>0.364326</td>\n",
       "      <td>2589521.98</td>\n",
       "    </tr>\n",
       "  </tbody>\n",
       "</table>\n",
       "</div>"
      ],
      "text/plain": [
       "    Motos_vehiculos_particulares    Lluvia   Poblacion\n",
       "0                     348066.000  0.939613  2244668.00\n",
       "1                     348066.000  0.382813  2244668.00\n",
       "2                     348066.000  0.263172  2244668.00\n",
       "3                     348066.000  0.572834  2244668.00\n",
       "4                     391327.000  0.190382  2269653.00\n",
       "5                     391327.000  0.413592  2269653.00\n",
       "6                     391327.000  0.408934  2269653.00\n",
       "7                     391327.000  0.595508  2269653.00\n",
       "8                     438769.000  0.060729  2294653.00\n",
       "9                     438769.000  0.426957  2294653.00\n",
       "10                    438769.000  0.107707  2294653.00\n",
       "11                    438769.000  0.419806  2294653.00\n",
       "12                    484119.000  0.185106  2319684.00\n",
       "13                    484119.000  0.276111  2319684.00\n",
       "14                    484119.000  0.134173  2319684.00\n",
       "15                    484119.000  0.472869  2319684.00\n",
       "16                    526339.000  0.215647  2344734.00\n",
       "17                    526339.000  0.234257  2344734.00\n",
       "18                    526339.000  0.281555  2344734.00\n",
       "19                    526339.000  0.372491  2344734.00\n",
       "20                    567353.000  0.208546  2369821.00\n",
       "21                    567353.000  0.193502  2369821.00\n",
       "22                    567353.000  0.110047  2369821.00\n",
       "23                    567353.000  0.124192  2369821.00\n",
       "24                    601794.000  0.265361  2394925.00\n",
       "25                    601794.000  0.253803  2394925.00\n",
       "26                    601794.000  0.088913  2394925.00\n",
       "27                    601794.000  0.280813  2394925.00\n",
       "28                    630478.000  0.015700  2420114.00\n",
       "29                    630478.000  0.181820  2420114.00\n",
       "30                    630478.000  0.148639  2420114.00\n",
       "31                    630478.000  0.220213  2420114.00\n",
       "32                   5989541.000  0.232976  2589521.98\n",
       "33                   5390586.900  0.282742  2589521.98\n",
       "34                   4581998.865  0.187975  2589521.98\n",
       "35                   3665599.092  0.364326  2589521.98"
      ]
     },
     "execution_count": 45,
     "metadata": {},
     "output_type": "execute_result"
    }
   ],
   "source": [
    "dataOriginal"
   ]
  },
  {
   "cell_type": "code",
   "execution_count": 21,
   "metadata": {},
   "outputs": [
    {
     "name": "stdout",
     "output_type": "stream",
     "text": [
      "[[0.27059582]\n",
      " [0.24523598]\n",
      " [0.23982777]\n",
      " [0.25386995]\n",
      " [0.2400872 ]\n",
      " [0.25020882]\n",
      " [0.2499968 ]\n",
      " [0.2585075 ]\n",
      " [0.23780487]\n",
      " [0.2544364 ]\n",
      " [0.2399233 ]\n",
      " [0.25410965]\n",
      " [0.24701735]\n",
      " [0.25116652]\n",
      " [0.24470167]\n",
      " [0.26017472]\n",
      " [0.25201532]\n",
      " [0.2528668 ]\n",
      " [0.25503308]\n",
      " [0.2592055 ]\n",
      " [0.2553138 ]\n",
      " [0.2546236 ]\n",
      " [0.25080097]\n",
      " [0.25144804]\n",
      " [0.2615448 ]\n",
      " [0.2610121 ]\n",
      " [0.25342965]\n",
      " [0.2622572 ]\n",
      " [0.25366223]\n",
      " [0.2613088 ]\n",
      " [0.2597784 ]\n",
      " [0.26308098]\n",
      " [0.31063557]\n",
      " [0.31052843]\n",
      " [0.30250823]\n",
      " [0.30701396]]\n"
     ]
    }
   ],
   "source": [
    "salida=ejecutar_prueba_modelo(dataOriginal)"
   ]
  },
  {
   "cell_type": "code",
   "execution_count": 46,
   "metadata": {},
   "outputs": [
    {
     "name": "stdout",
     "output_type": "stream",
     "text": [
      "[[0.30739456]]\n"
     ]
    }
   ],
   "source": [
    "salida=ejecutar_prueba_modelo(dataOriginal[35:36])\n"
   ]
  },
  {
   "cell_type": "code",
   "execution_count": 47,
   "metadata": {},
   "outputs": [
    {
     "name": "stdout",
     "output_type": "stream",
     "text": [
      "[[0.25162548]\n",
      " [0.25719354]]\n"
     ]
    }
   ],
   "source": [
    "salida=ejecutar_prueba_modelo(dataOriginal[34:36])"
   ]
  },
  {
   "cell_type": "code",
   "execution_count": 48,
   "metadata": {},
   "outputs": [
    {
     "name": "stdout",
     "output_type": "stream",
     "text": [
      "[[0.23708466]\n",
      " [0.22124475]\n",
      " [0.23537347]]\n"
     ]
    }
   ],
   "source": [
    "salida=ejecutar_prueba_modelo(dataOriginal[33:36])"
   ]
  },
  {
   "cell_type": "code",
   "execution_count": 50,
   "metadata": {},
   "outputs": [
    {
     "name": "stdout",
     "output_type": "stream",
     "text": [
      "[[0.21947867]\n",
      " [0.2225272 ]\n",
      " [0.20831837]\n",
      " [0.22352733]]\n"
     ]
    }
   ],
   "source": [
    "salida=ejecutar_prueba_modelo(dataOriginal[32:36])"
   ]
  },
  {
   "cell_type": "code",
   "execution_count": 49,
   "metadata": {},
   "outputs": [
    {
     "name": "stdout",
     "output_type": "stream",
     "text": [
      "[[0.24712975]\n",
      " [0.3476104 ]\n",
      " [0.36084333]\n",
      " [0.3240156 ]\n",
      " [0.37701416]]\n"
     ]
    }
   ],
   "source": [
    "salida=ejecutar_prueba_modelo(dataOriginal[31:36])"
   ]
  },
  {
   "cell_type": "code",
   "execution_count": 51,
   "metadata": {},
   "outputs": [
    {
     "name": "stdout",
     "output_type": "stream",
     "text": [
      "[[0.21338682]\n",
      " [0.23317583]\n",
      " [0.34127718]\n",
      " [0.35214558]\n",
      " [0.31881702]\n",
      " [0.36420864]]\n"
     ]
    }
   ],
   "source": [
    "salida=ejecutar_prueba_modelo(dataOriginal[30:36])"
   ]
  },
  {
   "cell_type": "code",
   "execution_count": null,
   "metadata": {},
   "outputs": [],
   "source": []
  }
 ],
 "metadata": {
  "kernelspec": {
   "display_name": "Python 3",
   "language": "python",
   "name": "python3"
  },
  "language_info": {
   "codemirror_mode": {
    "name": "ipython",
    "version": 3
   },
   "file_extension": ".py",
   "mimetype": "text/x-python",
   "name": "python",
   "nbconvert_exporter": "python",
   "pygments_lexer": "ipython3",
   "version": "3.7.4"
  }
 },
 "nbformat": 4,
 "nbformat_minor": 2
}
