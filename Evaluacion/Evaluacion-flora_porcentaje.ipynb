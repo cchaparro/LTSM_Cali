{
 "cells": [
  {
   "cell_type": "code",
   "execution_count": 100,
   "metadata": {},
   "outputs": [],
   "source": [
    "import numpy as np\n",
    "import pandas as pd\n",
    "from sklearn import metrics\n",
    "from sklearn import datasets\n",
    "from numpy import array\n",
    "from pandas import DataFrame\n",
    "from pandas import concat\n",
    "from keras.models import model_from_json\n",
    "from sklearn.preprocessing import MinMaxScaler\n",
    "from sklearn.preprocessing import LabelEncoder\n"
   ]
  },
  {
   "cell_type": "code",
   "execution_count": 101,
   "metadata": {},
   "outputs": [],
   "source": [
    "def rmse(objetivo, estimaciones):\n",
    "    return np.sqrt(metrics.mean_squared_error(objetivo, estimaciones)\n",
    "                  )"
   ]
  },
  {
   "cell_type": "code",
   "execution_count": 102,
   "metadata": {},
   "outputs": [],
   "source": [
    "def  ajustested_r2(objetivo, estimaciones,n,k):\n",
    "    r2=metrics.r2_score(objetico,estimaciones)\n",
    "    return 1-(1-r2)*(n-1)/(n-k-1)"
   ]
  },
  {
   "cell_type": "code",
   "execution_count": 103,
   "metadata": {},
   "outputs": [],
   "source": [
    "def evaluar_modelo(objetivo,estimaciones,n,k):\n",
    "    return {\n",
    "        \"rmse\":rmse(objetivo,estimaciones),\n",
    "        \"mae\": metrics.mean_absolute_error(objetivo,estimaciones),\n",
    "        \"ajustested_r2\": ajustested_r2(objetivo,estimaciones,n,k)\n",
    "    }"
   ]
  },
  {
   "cell_type": "code",
   "execution_count": 104,
   "metadata": {},
   "outputs": [
    {
     "name": "stdout",
     "output_type": "stream",
     "text": [
      "_________________________________________________________________\n",
      "Layer (type)                 Output Shape              Param #   \n",
      "=================================================================\n",
      "lstm_3 (LSTM)                (None, 50)                10800     \n",
      "_________________________________________________________________\n",
      "dense_3 (Dense)              (None, 1)                 51        \n",
      "=================================================================\n",
      "Total params: 10,851\n",
      "Trainable params: 10,851\n",
      "Non-trainable params: 0\n",
      "_________________________________________________________________\n"
     ]
    }
   ],
   "source": [
    "#Cargo el modelo antes generado.\n",
    "json_file = open('../Modelamiento/model.json', 'r')\n",
    "loaded_model_json = json_file.read()\n",
    "json_file.close()\n",
    "loaded_model = model_from_json(loaded_model_json)\n",
    "# Cargo el nuevo modelo\n",
    "loaded_model.load_weights(\"../Modelamiento/LTSM_Cali_3meses.h5\")\n",
    "loaded_model.summary()"
   ]
  },
  {
   "cell_type": "code",
   "execution_count": 21,
   "metadata": {},
   "outputs": [
    {
     "name": "stdout",
     "output_type": "stream",
     "text": [
      "(13,)\n"
     ]
    }
   ],
   "source": [
    "#Prueba manual con los datos \n",
    "#PM10\n",
    "#DirVien\n",
    "#H2S\n",
    "#Humedad\n",
    "#Lluvia\n",
    "#NO2\n",
    "#O3\n",
    "#CO\n",
    "#RSolar\n",
    "#SO2\n",
    "#Tasa_crecimiento_general\n",
    "#Temp\n",
    "#VelVien\n",
    "x_input = np.array([20,148.6000061,0,72.69999695,1.269999981,0,17.64,2851.524414,\n",
    "                    302.7999878,12.91359997,0.097400002,24.89999962,1.299999952])\n",
    "print(x_input.shape)\n",
    "\n",
    "df = pd.DataFrame({ 'Motos_vehiculos_particulares':    [348066.000,348066.000, 348066, 348066],\n",
    "                    'Lluvia': [0.939613,0.382813,0.263171911239624,0.572834014892578],\n",
    "                    'Poblacion': [2244668,2244668,2244668, 2244668]\n",
    "                   })\n",
    "\n"
   ]
  },
  {
   "cell_type": "code",
   "execution_count": 23,
   "metadata": {},
   "outputs": [
    {
     "data": {
      "text/plain": [
       "Index(['Motos_vehiculos_particulares', 'Lluvia', 'Poblacion'], dtype='object')"
      ]
     },
     "execution_count": 23,
     "metadata": {},
     "output_type": "execute_result"
    }
   ],
   "source": [
    "df.columns"
   ]
  },
  {
   "cell_type": "code",
   "execution_count": 24,
   "metadata": {},
   "outputs": [
    {
     "data": {
      "text/html": [
       "<div>\n",
       "<style scoped>\n",
       "    .dataframe tbody tr th:only-of-type {\n",
       "        vertical-align: middle;\n",
       "    }\n",
       "\n",
       "    .dataframe tbody tr th {\n",
       "        vertical-align: top;\n",
       "    }\n",
       "\n",
       "    .dataframe thead th {\n",
       "        text-align: right;\n",
       "    }\n",
       "</style>\n",
       "<table border=\"1\" class=\"dataframe\">\n",
       "  <thead>\n",
       "    <tr style=\"text-align: right;\">\n",
       "      <th></th>\n",
       "      <th>var1(t-1)</th>\n",
       "      <th>var2(t-1)</th>\n",
       "      <th>var3(t-1)</th>\n",
       "      <th>var1(t)</th>\n",
       "      <th>var2(t)</th>\n",
       "      <th>var3(t)</th>\n",
       "    </tr>\n",
       "  </thead>\n",
       "  <tbody>\n",
       "    <tr>\n",
       "      <td>1</td>\n",
       "      <td>348066.0</td>\n",
       "      <td>0.939613</td>\n",
       "      <td>2244668.0</td>\n",
       "      <td>348066.0</td>\n",
       "      <td>0.382813</td>\n",
       "      <td>2244668</td>\n",
       "    </tr>\n",
       "    <tr>\n",
       "      <td>2</td>\n",
       "      <td>348066.0</td>\n",
       "      <td>0.382813</td>\n",
       "      <td>2244668.0</td>\n",
       "      <td>348066.0</td>\n",
       "      <td>0.263172</td>\n",
       "      <td>2244668</td>\n",
       "    </tr>\n",
       "    <tr>\n",
       "      <td>3</td>\n",
       "      <td>348066.0</td>\n",
       "      <td>0.263172</td>\n",
       "      <td>2244668.0</td>\n",
       "      <td>348066.0</td>\n",
       "      <td>0.572834</td>\n",
       "      <td>2244668</td>\n",
       "    </tr>\n",
       "  </tbody>\n",
       "</table>\n",
       "</div>"
      ],
      "text/plain": [
       "   var1(t-1)  var2(t-1)  var3(t-1)   var1(t)   var2(t)  var3(t)\n",
       "1   348066.0   0.939613  2244668.0  348066.0  0.382813  2244668\n",
       "2   348066.0   0.382813  2244668.0  348066.0  0.263172  2244668\n",
       "3   348066.0   0.263172  2244668.0  348066.0  0.572834  2244668"
      ]
     },
     "execution_count": 24,
     "metadata": {},
     "output_type": "execute_result"
    }
   ],
   "source": [
    "reframed = series_to_supervised(df, 1, 1)\n",
    "reframed"
   ]
  },
  {
   "cell_type": "code",
   "execution_count": 25,
   "metadata": {},
   "outputs": [
    {
     "name": "stdout",
     "output_type": "stream",
     "text": [
      "   var1(t-1)  var2(t-1)  var3(t-1)  var1(t)   var2(t)  var3(t)\n",
      "1        0.0   1.000000        0.0      0.0  0.176868      0.0\n",
      "2        0.0   0.176868        0.0      0.0  0.000000      0.0\n",
      "3        0.0   0.000000        0.0      0.0  0.457781      0.0\n"
     ]
    }
   ],
   "source": [
    "\n",
    "scaler = MinMaxScaler(feature_range=(0, 1))\n",
    "scaled = scaler.fit_transform(df)\n",
    "reframed = series_to_supervised(scaled, 1, 1)\n",
    "print(reframed.head())\n",
    "\n"
   ]
  },
  {
   "cell_type": "code",
   "execution_count": 13,
   "metadata": {},
   "outputs": [
    {
     "name": "stdout",
     "output_type": "stream",
     "text": [
      "[[1.0459689]\n",
      " [1.0459689]]\n"
     ]
    }
   ],
   "source": [
    "values = df.values\n",
    "values = values.reshape((values.shape[0], 1, values.shape[1]))\n",
    "yhat = loaded_model.predict(values, verbose=0)\n",
    "print(yhat)"
   ]
  },
  {
   "cell_type": "code",
   "execution_count": 105,
   "metadata": {},
   "outputs": [],
   "source": [
    "dataOriginal = pd.read_excel('../PreparacionDatos/FloraTotal_3mes_3V_mas_4.xlsx' , sheet_name='FloraTotal' ,header=0)"
   ]
  },
  {
   "cell_type": "code",
   "execution_count": 64,
   "metadata": {},
   "outputs": [
    {
     "data": {
      "text/html": [
       "<div>\n",
       "<style scoped>\n",
       "    .dataframe tbody tr th:only-of-type {\n",
       "        vertical-align: middle;\n",
       "    }\n",
       "\n",
       "    .dataframe tbody tr th {\n",
       "        vertical-align: top;\n",
       "    }\n",
       "\n",
       "    .dataframe thead th {\n",
       "        text-align: right;\n",
       "    }\n",
       "</style>\n",
       "<table border=\"1\" class=\"dataframe\">\n",
       "  <thead>\n",
       "    <tr style=\"text-align: right;\">\n",
       "      <th></th>\n",
       "      <th>Motos_vehiculos_particulares</th>\n",
       "      <th>Lluvia</th>\n",
       "      <th>Poblacion</th>\n",
       "    </tr>\n",
       "  </thead>\n",
       "  <tbody>\n",
       "    <tr>\n",
       "      <td>0</td>\n",
       "      <td>348066.000</td>\n",
       "      <td>0.939613</td>\n",
       "      <td>2244668.00</td>\n",
       "    </tr>\n",
       "    <tr>\n",
       "      <td>1</td>\n",
       "      <td>348066.000</td>\n",
       "      <td>0.382813</td>\n",
       "      <td>2244668.00</td>\n",
       "    </tr>\n",
       "    <tr>\n",
       "      <td>2</td>\n",
       "      <td>348066.000</td>\n",
       "      <td>0.263172</td>\n",
       "      <td>2244668.00</td>\n",
       "    </tr>\n",
       "    <tr>\n",
       "      <td>3</td>\n",
       "      <td>348066.000</td>\n",
       "      <td>0.572834</td>\n",
       "      <td>2244668.00</td>\n",
       "    </tr>\n",
       "    <tr>\n",
       "      <td>4</td>\n",
       "      <td>391327.000</td>\n",
       "      <td>0.190382</td>\n",
       "      <td>2269653.00</td>\n",
       "    </tr>\n",
       "    <tr>\n",
       "      <td>5</td>\n",
       "      <td>391327.000</td>\n",
       "      <td>0.413592</td>\n",
       "      <td>2269653.00</td>\n",
       "    </tr>\n",
       "    <tr>\n",
       "      <td>6</td>\n",
       "      <td>391327.000</td>\n",
       "      <td>0.408934</td>\n",
       "      <td>2269653.00</td>\n",
       "    </tr>\n",
       "    <tr>\n",
       "      <td>7</td>\n",
       "      <td>391327.000</td>\n",
       "      <td>0.595508</td>\n",
       "      <td>2269653.00</td>\n",
       "    </tr>\n",
       "    <tr>\n",
       "      <td>8</td>\n",
       "      <td>438769.000</td>\n",
       "      <td>0.060729</td>\n",
       "      <td>2294653.00</td>\n",
       "    </tr>\n",
       "    <tr>\n",
       "      <td>9</td>\n",
       "      <td>438769.000</td>\n",
       "      <td>0.426957</td>\n",
       "      <td>2294653.00</td>\n",
       "    </tr>\n",
       "    <tr>\n",
       "      <td>10</td>\n",
       "      <td>438769.000</td>\n",
       "      <td>0.107707</td>\n",
       "      <td>2294653.00</td>\n",
       "    </tr>\n",
       "    <tr>\n",
       "      <td>11</td>\n",
       "      <td>438769.000</td>\n",
       "      <td>0.419806</td>\n",
       "      <td>2294653.00</td>\n",
       "    </tr>\n",
       "    <tr>\n",
       "      <td>12</td>\n",
       "      <td>484119.000</td>\n",
       "      <td>0.185106</td>\n",
       "      <td>2319684.00</td>\n",
       "    </tr>\n",
       "    <tr>\n",
       "      <td>13</td>\n",
       "      <td>484119.000</td>\n",
       "      <td>0.276111</td>\n",
       "      <td>2319684.00</td>\n",
       "    </tr>\n",
       "    <tr>\n",
       "      <td>14</td>\n",
       "      <td>484119.000</td>\n",
       "      <td>0.134173</td>\n",
       "      <td>2319684.00</td>\n",
       "    </tr>\n",
       "    <tr>\n",
       "      <td>15</td>\n",
       "      <td>484119.000</td>\n",
       "      <td>0.472869</td>\n",
       "      <td>2319684.00</td>\n",
       "    </tr>\n",
       "    <tr>\n",
       "      <td>16</td>\n",
       "      <td>526339.000</td>\n",
       "      <td>0.215647</td>\n",
       "      <td>2344734.00</td>\n",
       "    </tr>\n",
       "    <tr>\n",
       "      <td>17</td>\n",
       "      <td>526339.000</td>\n",
       "      <td>0.234257</td>\n",
       "      <td>2344734.00</td>\n",
       "    </tr>\n",
       "    <tr>\n",
       "      <td>18</td>\n",
       "      <td>526339.000</td>\n",
       "      <td>0.281555</td>\n",
       "      <td>2344734.00</td>\n",
       "    </tr>\n",
       "    <tr>\n",
       "      <td>19</td>\n",
       "      <td>526339.000</td>\n",
       "      <td>0.372491</td>\n",
       "      <td>2344734.00</td>\n",
       "    </tr>\n",
       "    <tr>\n",
       "      <td>20</td>\n",
       "      <td>567353.000</td>\n",
       "      <td>0.208546</td>\n",
       "      <td>2369821.00</td>\n",
       "    </tr>\n",
       "    <tr>\n",
       "      <td>21</td>\n",
       "      <td>567353.000</td>\n",
       "      <td>0.193502</td>\n",
       "      <td>2369821.00</td>\n",
       "    </tr>\n",
       "    <tr>\n",
       "      <td>22</td>\n",
       "      <td>567353.000</td>\n",
       "      <td>0.110047</td>\n",
       "      <td>2369821.00</td>\n",
       "    </tr>\n",
       "    <tr>\n",
       "      <td>23</td>\n",
       "      <td>567353.000</td>\n",
       "      <td>0.124192</td>\n",
       "      <td>2369821.00</td>\n",
       "    </tr>\n",
       "    <tr>\n",
       "      <td>24</td>\n",
       "      <td>601794.000</td>\n",
       "      <td>0.265361</td>\n",
       "      <td>2394925.00</td>\n",
       "    </tr>\n",
       "    <tr>\n",
       "      <td>25</td>\n",
       "      <td>601794.000</td>\n",
       "      <td>0.253803</td>\n",
       "      <td>2394925.00</td>\n",
       "    </tr>\n",
       "    <tr>\n",
       "      <td>26</td>\n",
       "      <td>601794.000</td>\n",
       "      <td>0.088913</td>\n",
       "      <td>2394925.00</td>\n",
       "    </tr>\n",
       "    <tr>\n",
       "      <td>27</td>\n",
       "      <td>601794.000</td>\n",
       "      <td>0.280813</td>\n",
       "      <td>2394925.00</td>\n",
       "    </tr>\n",
       "    <tr>\n",
       "      <td>28</td>\n",
       "      <td>630478.000</td>\n",
       "      <td>0.015700</td>\n",
       "      <td>2420114.00</td>\n",
       "    </tr>\n",
       "    <tr>\n",
       "      <td>29</td>\n",
       "      <td>630478.000</td>\n",
       "      <td>0.181820</td>\n",
       "      <td>2420114.00</td>\n",
       "    </tr>\n",
       "    <tr>\n",
       "      <td>30</td>\n",
       "      <td>630478.000</td>\n",
       "      <td>0.148639</td>\n",
       "      <td>2420114.00</td>\n",
       "    </tr>\n",
       "    <tr>\n",
       "      <td>31</td>\n",
       "      <td>630478.000</td>\n",
       "      <td>0.220213</td>\n",
       "      <td>2420114.00</td>\n",
       "    </tr>\n",
       "    <tr>\n",
       "      <td>32</td>\n",
       "      <td>5989541.000</td>\n",
       "      <td>0.015700</td>\n",
       "      <td>2589521.98</td>\n",
       "    </tr>\n",
       "    <tr>\n",
       "      <td>33</td>\n",
       "      <td>5390586.900</td>\n",
       "      <td>0.181820</td>\n",
       "      <td>2589521.98</td>\n",
       "    </tr>\n",
       "    <tr>\n",
       "      <td>34</td>\n",
       "      <td>4581998.865</td>\n",
       "      <td>0.148639</td>\n",
       "      <td>2589521.98</td>\n",
       "    </tr>\n",
       "    <tr>\n",
       "      <td>35</td>\n",
       "      <td>3665599.092</td>\n",
       "      <td>0.220213</td>\n",
       "      <td>2589521.98</td>\n",
       "    </tr>\n",
       "  </tbody>\n",
       "</table>\n",
       "</div>"
      ],
      "text/plain": [
       "    Motos_vehiculos_particulares    Lluvia   Poblacion\n",
       "0                     348066.000  0.939613  2244668.00\n",
       "1                     348066.000  0.382813  2244668.00\n",
       "2                     348066.000  0.263172  2244668.00\n",
       "3                     348066.000  0.572834  2244668.00\n",
       "4                     391327.000  0.190382  2269653.00\n",
       "5                     391327.000  0.413592  2269653.00\n",
       "6                     391327.000  0.408934  2269653.00\n",
       "7                     391327.000  0.595508  2269653.00\n",
       "8                     438769.000  0.060729  2294653.00\n",
       "9                     438769.000  0.426957  2294653.00\n",
       "10                    438769.000  0.107707  2294653.00\n",
       "11                    438769.000  0.419806  2294653.00\n",
       "12                    484119.000  0.185106  2319684.00\n",
       "13                    484119.000  0.276111  2319684.00\n",
       "14                    484119.000  0.134173  2319684.00\n",
       "15                    484119.000  0.472869  2319684.00\n",
       "16                    526339.000  0.215647  2344734.00\n",
       "17                    526339.000  0.234257  2344734.00\n",
       "18                    526339.000  0.281555  2344734.00\n",
       "19                    526339.000  0.372491  2344734.00\n",
       "20                    567353.000  0.208546  2369821.00\n",
       "21                    567353.000  0.193502  2369821.00\n",
       "22                    567353.000  0.110047  2369821.00\n",
       "23                    567353.000  0.124192  2369821.00\n",
       "24                    601794.000  0.265361  2394925.00\n",
       "25                    601794.000  0.253803  2394925.00\n",
       "26                    601794.000  0.088913  2394925.00\n",
       "27                    601794.000  0.280813  2394925.00\n",
       "28                    630478.000  0.015700  2420114.00\n",
       "29                    630478.000  0.181820  2420114.00\n",
       "30                    630478.000  0.148639  2420114.00\n",
       "31                    630478.000  0.220213  2420114.00\n",
       "32                   5989541.000  0.015700  2589521.98\n",
       "33                   5390586.900  0.181820  2589521.98\n",
       "34                   4581998.865  0.148639  2589521.98\n",
       "35                   3665599.092  0.220213  2589521.98"
      ]
     },
     "execution_count": 64,
     "metadata": {},
     "output_type": "execute_result"
    }
   ],
   "source": [
    "dataOriginal"
   ]
  },
  {
   "cell_type": "code",
   "execution_count": 106,
   "metadata": {},
   "outputs": [],
   "source": [
    "values = dataOriginal.values\n",
    "values = values.astype('float32')\n",
    "scaler = MinMaxScaler(feature_range=(0, 1))\n",
    "scaled = scaler.fit_transform(values)\n"
   ]
  },
  {
   "cell_type": "code",
   "execution_count": 107,
   "metadata": {},
   "outputs": [
    {
     "data": {
      "text/plain": [
       "(36, 3)"
      ]
     },
     "execution_count": 107,
     "metadata": {},
     "output_type": "execute_result"
    }
   ],
   "source": [
    "scaled_X.shape"
   ]
  },
  {
   "cell_type": "code",
   "execution_count": 108,
   "metadata": {},
   "outputs": [
    {
     "data": {
      "text/plain": [
       "(36, 1, 3)"
      ]
     },
     "execution_count": 108,
     "metadata": {},
     "output_type": "execute_result"
    }
   ],
   "source": [
    "#Remodelar la entrada para que sea 3D [muestras, pasos de tiempo, características]\n",
    "train_X = scaled_X.reshape((scaled_X.shape[0], 1, scaled_X.shape[1]))\n",
    "train_X.shape"
   ]
  },
  {
   "cell_type": "code",
   "execution_count": 109,
   "metadata": {},
   "outputs": [
    {
     "ename": "NameError",
     "evalue": "name 'inv_yhat' is not defined",
     "output_type": "error",
     "traceback": [
      "\u001b[1;31m---------------------------------------------------------------------------\u001b[0m",
      "\u001b[1;31mNameError\u001b[0m                                 Traceback (most recent call last)",
      "\u001b[1;32m<ipython-input-109-e8e2c7bc194c>\u001b[0m in \u001b[0;36m<module>\u001b[1;34m\u001b[0m\n\u001b[1;32m----> 1\u001b[1;33m \u001b[0minv_yhat\u001b[0m\u001b[1;33m[\u001b[0m\u001b[1;33m:\u001b[0m\u001b[1;33m,\u001b[0m\u001b[1;36m0\u001b[0m\u001b[1;33m]\u001b[0m\u001b[1;33m\u001b[0m\u001b[1;33m\u001b[0m\u001b[0m\n\u001b[0m",
      "\u001b[1;31mNameError\u001b[0m: name 'inv_yhat' is not defined"
     ]
    }
   ],
   "source": [
    "inv_yhat[:,0]"
   ]
  },
  {
   "cell_type": "code",
   "execution_count": 110,
   "metadata": {},
   "outputs": [
    {
     "name": "stdout",
     "output_type": "stream",
     "text": [
      "[[0.32860452]\n",
      " [0.22645335]\n",
      " [0.20525326]\n",
      " [0.26071233]\n",
      " [0.20275612]\n",
      " [0.24235775]\n",
      " [0.241521  ]\n",
      " [0.27535427]\n",
      " [0.19058816]\n",
      " [0.25535253]\n",
      " [0.19873528]\n",
      " [0.254062  ]\n",
      " [0.22272052]\n",
      " [0.23885418]\n",
      " [0.21376653]\n",
      " [0.2742918 ]\n",
      " [0.23857638]\n",
      " [0.24188511]\n",
      " [0.25032553]\n",
      " [0.26667464]\n",
      " [0.24781144]\n",
      " [0.24513495]\n",
      " [0.23037054]\n",
      " [0.23286283]\n",
      " [0.268369  ]\n",
      " [0.26629335]\n",
      " [0.23696315]\n",
      " [0.27114797]\n",
      " [0.23431398]\n",
      " [0.2637131 ]\n",
      " [0.25779676]\n",
      " [0.27058488]\n",
      " [0.45340002]\n",
      " [0.46682614]\n",
      " [0.4365161 ]\n",
      " [0.4228624 ]]\n"
     ]
    }
   ],
   "source": [
    "yhat = loaded_model.predict(train_X, verbose=0)\n",
    "\n",
    "\n",
    "\n",
    "print(yhat)"
   ]
  },
  {
   "cell_type": "code",
   "execution_count": 111,
   "metadata": {},
   "outputs": [
    {
     "ename": "ValueError",
     "evalue": "Found array with dim 3. Estimator expected <= 2.",
     "output_type": "error",
     "traceback": [
      "\u001b[1;31m---------------------------------------------------------------------------\u001b[0m",
      "\u001b[1;31mValueError\u001b[0m                                Traceback (most recent call last)",
      "\u001b[1;32m<ipython-input-111-ea430f189e04>\u001b[0m in \u001b[0;36m<module>\u001b[1;34m\u001b[0m\n\u001b[1;32m----> 1\u001b[1;33m \u001b[0minverted_X\u001b[0m \u001b[1;33m=\u001b[0m \u001b[0mscaler\u001b[0m\u001b[1;33m.\u001b[0m\u001b[0minverse_transform\u001b[0m\u001b[1;33m(\u001b[0m\u001b[1;33m[\u001b[0m\u001b[0myhat\u001b[0m\u001b[1;33m]\u001b[0m\u001b[1;33m)\u001b[0m\u001b[1;33m\u001b[0m\u001b[1;33m\u001b[0m\u001b[0m\n\u001b[0m",
      "\u001b[1;32m~\\Anaconda3\\lib\\site-packages\\sklearn\\preprocessing\\data.py\u001b[0m in \u001b[0;36minverse_transform\u001b[1;34m(self, X)\u001b[0m\n\u001b[0;32m    402\u001b[0m \u001b[1;33m\u001b[0m\u001b[0m\n\u001b[0;32m    403\u001b[0m         X = check_array(X, copy=self.copy, dtype=FLOAT_DTYPES,\n\u001b[1;32m--> 404\u001b[1;33m                         force_all_finite=\"allow-nan\")\n\u001b[0m\u001b[0;32m    405\u001b[0m \u001b[1;33m\u001b[0m\u001b[0m\n\u001b[0;32m    406\u001b[0m         \u001b[0mX\u001b[0m \u001b[1;33m-=\u001b[0m \u001b[0mself\u001b[0m\u001b[1;33m.\u001b[0m\u001b[0mmin_\u001b[0m\u001b[1;33m\u001b[0m\u001b[1;33m\u001b[0m\u001b[0m\n",
      "\u001b[1;32m~\\Anaconda3\\lib\\site-packages\\sklearn\\utils\\validation.py\u001b[0m in \u001b[0;36mcheck_array\u001b[1;34m(array, accept_sparse, accept_large_sparse, dtype, order, copy, force_all_finite, ensure_2d, allow_nd, ensure_min_samples, ensure_min_features, warn_on_dtype, estimator)\u001b[0m\n\u001b[0;32m    537\u001b[0m         \u001b[1;32mif\u001b[0m \u001b[1;32mnot\u001b[0m \u001b[0mallow_nd\u001b[0m \u001b[1;32mand\u001b[0m \u001b[0marray\u001b[0m\u001b[1;33m.\u001b[0m\u001b[0mndim\u001b[0m \u001b[1;33m>=\u001b[0m \u001b[1;36m3\u001b[0m\u001b[1;33m:\u001b[0m\u001b[1;33m\u001b[0m\u001b[1;33m\u001b[0m\u001b[0m\n\u001b[0;32m    538\u001b[0m             raise ValueError(\"Found array with dim %d. %s expected <= 2.\"\n\u001b[1;32m--> 539\u001b[1;33m                              % (array.ndim, estimator_name))\n\u001b[0m\u001b[0;32m    540\u001b[0m         \u001b[1;32mif\u001b[0m \u001b[0mforce_all_finite\u001b[0m\u001b[1;33m:\u001b[0m\u001b[1;33m\u001b[0m\u001b[1;33m\u001b[0m\u001b[0m\n\u001b[0;32m    541\u001b[0m             _assert_all_finite(array,\n",
      "\u001b[1;31mValueError\u001b[0m: Found array with dim 3. Estimator expected <= 2."
     ]
    }
   ],
   "source": [
    "inverted_X = scaler.inverse_transform([yhat])"
   ]
  },
  {
   "cell_type": "code",
   "execution_count": 82,
   "metadata": {},
   "outputs": [
    {
     "data": {
      "text/plain": [
       "(36, 1, 3)"
      ]
     },
     "execution_count": 82,
     "metadata": {},
     "output_type": "execute_result"
    }
   ],
   "source": [
    "values = dataOriginal.values\n",
    "train_X = values.reshape((values.shape[0], 1, values.shape[1]))\n",
    "train_X.shape\n"
   ]
  },
  {
   "cell_type": "code",
   "execution_count": 83,
   "metadata": {},
   "outputs": [
    {
     "name": "stdout",
     "output_type": "stream",
     "text": [
      "[[1.0459689]\n",
      " [1.0459689]\n",
      " [1.0459689]\n",
      " [1.0459689]\n",
      " [1.0459689]\n",
      " [1.0459689]\n",
      " [1.0459689]\n",
      " [1.0459689]\n",
      " [1.0459689]\n",
      " [1.0459689]\n",
      " [1.0459689]\n",
      " [1.0459689]\n",
      " [1.6356308]\n",
      " [1.6356308]\n",
      " [1.6356308]\n",
      " [1.6356308]\n",
      " [1.7393099]\n",
      " [1.7393099]\n",
      " [1.7393099]\n",
      " [1.7393099]\n",
      " [1.7393099]\n",
      " [1.7393099]\n",
      " [1.7393099]\n",
      " [1.7393099]\n",
      " [1.7393099]\n",
      " [1.7393099]\n",
      " [1.7393099]\n",
      " [1.7393099]\n",
      " [1.7393099]\n",
      " [1.7393099]\n",
      " [1.7393099]\n",
      " [1.7393099]\n",
      " [3.508834 ]\n",
      " [3.508834 ]\n",
      " [3.508834 ]\n",
      " [3.2241385]]\n"
     ]
    }
   ],
   "source": [
    "yhat = loaded_model.predict(train_X, verbose=0)\n",
    "\n",
    "\n",
    "\n",
    "print(yhat)"
   ]
  },
  {
   "cell_type": "code",
   "execution_count": null,
   "metadata": {},
   "outputs": [],
   "source": [
    "df = pd.DataFrame({ 'PM10':    [20,20],\n",
    "                    'DirVien': [148.6000061,148.6000061],\n",
    "                    'H2S': [0,0],\n",
    "                    'Humedad': [72.69999695,72.69999695],\n",
    "                    'Lluvia': [1.269999981,1.269999981],\n",
    "                    'NO2': [0,0],\n",
    "                    'O3': [17.64,17.64],\n",
    "                    'CO': [2851.524414,2851.524414],\n",
    "                    'RSolar': [302.7999878,302.7999878],\n",
    "                    'SO2': [12.91359997,12.91359997],\n",
    "                    'Tasa_crecimiento_general': [0.90,0.90],\n",
    "                    'Temp': [24.89999962,24.89999962],\n",
    "                    'VelVien': [1.299999952,1.299999952]\n",
    "                    \n",
    "                   })\n"
   ]
  },
  {
   "cell_type": "code",
   "execution_count": null,
   "metadata": {},
   "outputs": [],
   "source": []
  },
  {
   "cell_type": "code",
   "execution_count": null,
   "metadata": {},
   "outputs": [],
   "source": []
  }
 ],
 "metadata": {
  "kernelspec": {
   "display_name": "Python 3",
   "language": "python",
   "name": "python3"
  },
  "language_info": {
   "codemirror_mode": {
    "name": "ipython",
    "version": 3
   },
   "file_extension": ".py",
   "mimetype": "text/x-python",
   "name": "python",
   "nbconvert_exporter": "python",
   "pygments_lexer": "ipython3",
   "version": "3.7.4"
  }
 },
 "nbformat": 4,
 "nbformat_minor": 2
}
